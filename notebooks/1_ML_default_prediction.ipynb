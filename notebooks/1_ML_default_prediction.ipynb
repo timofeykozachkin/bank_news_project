{
  "metadata": {
    "kernelspec": {
      "language": "python",
      "display_name": "Python 3",
      "name": "python3"
    },
    "language_info": {
      "name": "python",
      "version": "3.10.13",
      "mimetype": "text/x-python",
      "codemirror_mode": {
        "name": "ipython",
        "version": 3
      },
      "pygments_lexer": "ipython3",
      "nbconvert_exporter": "python",
      "file_extension": ".py"
    },
    "kaggle": {
      "accelerator": "none",
      "dataSources": [
        {
          "sourceId": 843399,
          "sourceType": "datasetVersion",
          "datasetId": 37495
        },
        {
          "sourceId": 1056143,
          "sourceType": "datasetVersion",
          "datasetId": 584886
        },
        {
          "sourceId": 8189638,
          "sourceType": "datasetVersion",
          "datasetId": 4849719
        },
        {
          "sourceId": 8200033,
          "sourceType": "datasetVersion",
          "datasetId": 4857622
        },
        {
          "sourceId": 8459467,
          "sourceType": "datasetVersion",
          "datasetId": 5042439
        }
      ],
      "dockerImageVersionId": 30673,
      "isInternetEnabled": true,
      "language": "python",
      "sourceType": "notebook",
      "isGpuEnabled": false
    },
    "colab": {
      "provenance": []
    }
  },
  "nbformat_minor": 0,
  "nbformat": 4,
  "cells": [
    {
      "cell_type": "code",
      "source": [
        "import numpy as np\n",
        "import pandas as pd\n",
        "import seaborn as sns\n",
        "import matplotlib.pyplot as plt\n",
        "import optuna\n",
        "from collections import Counter\n",
        "from tqdm import tqdm\n",
        "\n",
        "from sklearn.pipeline import Pipeline\n",
        "from sklearn.compose import ColumnTransformer\n",
        "from sklearn.model_selection import train_test_split\n",
        "from sklearn.utils.class_weight import compute_class_weight\n",
        "from sklearn.preprocessing import StandardScaler, OneHotEncoder\n",
        "from sklearn.model_selection import GridSearchCV, StratifiedKFold\n",
        "from sklearn.metrics import accuracy_score, precision_score, recall_score, f1_score, confusion_matrix\n",
        "\n",
        "from sklearn.ensemble import RandomForestClassifier\n",
        "from sklearn.svm import SVC\n",
        "from catboost import CatBoostClassifier\n",
        "from sklearn.linear_model import LogisticRegression\n",
        "from imblearn.ensemble import BalancedRandomForestClassifier, RUSBoostClassifier\n",
        "\n",
        "\n",
        "import os\n",
        "for dirname, _, filenames in os.walk('/kaggle/input'):\n",
        "    for filename in filenames:\n",
        "        print(os.path.join(dirname, filename))"
      ],
      "metadata": {
        "_uuid": "8f2839f25d086af736a60e9eeb907d3b93b6e0e5",
        "_cell_guid": "b1076dfc-b9ad-4769-8c92-a6c4dae69d19",
        "execution": {
          "iopub.status.busy": "2024-05-22T18:43:43.418645Z",
          "iopub.execute_input": "2024-05-22T18:43:43.419498Z",
          "iopub.status.idle": "2024-05-22T18:43:43.435269Z",
          "shell.execute_reply.started": "2024-05-22T18:43:43.419457Z",
          "shell.execute_reply": "2024-05-22T18:43:43.434051Z"
        },
        "trusted": true,
        "id": "EqDczmRh1b30",
        "outputId": "0134cc36-79e3-431f-882e-8d0fd07ffc1e"
      },
      "execution_count": null,
      "outputs": [
        {
          "name": "stdout",
          "text": "/kaggle/input/corpus-of-russian-news-articles-from-lenta/lenta-ru-news.csv\n/kaggle/input/stocks/BSPB.xlsx\n/kaggle/input/stocks/VTBR.xlsx\n/kaggle/input/stocks/SBER.xlsx\n/kaggle/input/sber-price-hist/---.-ru0009029540.xlsx\n/kaggle/input/test-to-delete/test.json\n/kaggle/input/bankdefaultsinrussia/dataset.csv\n",
          "output_type": "stream"
        }
      ]
    },
    {
      "cell_type": "markdown",
      "source": [
        "# I. Classic ML\n",
        "*Prediciton of banks' default and its probability*\n",
        "\n",
        "Goals:\n",
        "- to analyze how well we can predict default and its probability with classic ML methods\n",
        "- to use predicted features as part of larger Language Model"
      ],
      "metadata": {
        "id": "VNSRWnNX1b30"
      }
    },
    {
      "cell_type": "markdown",
      "source": [
        "## 1. Russian banks' defaults Dataset"
      ],
      "metadata": {
        "id": "2s4E7_CQ1b31"
      }
    },
    {
      "cell_type": "code",
      "source": [
        "df = pd.read_csv('/kaggle/input/bankdefaultsinrussia/dataset.csv')\n",
        "df = df.dropna().reset_index(drop=True)\n",
        "df['дата'] = pd.to_datetime(df['дата'])\n",
        "df = df.astype({'лицензия': 'int', 'default': 'int', 'msk_spb': 'int'})\n",
        "df = df.rename(columns={'лицензия': 'licence_num', 'дата': 'date'})"
      ],
      "metadata": {
        "execution": {
          "iopub.status.busy": "2024-05-22T18:43:46.031619Z",
          "iopub.execute_input": "2024-05-22T18:43:46.032030Z",
          "iopub.status.idle": "2024-05-22T18:43:47.114974Z",
          "shell.execute_reply.started": "2024-05-22T18:43:46.031998Z",
          "shell.execute_reply": "2024-05-22T18:43:47.114030Z"
        },
        "trusted": true,
        "id": "rWXH_0n01b32"
      },
      "execution_count": null,
      "outputs": []
    },
    {
      "cell_type": "code",
      "source": [
        "# metrics\n",
        "def get_scores(y_hat, y_true, task='classification'):\n",
        "    pr = precision_score(y_true, y_hat)\n",
        "    rec = recall_score(y_true, y_hat)\n",
        "    f1 = f1_score(y_true, y_hat)\n",
        "\n",
        "    if task == 'classification':\n",
        "        acc = accuracy_score(y_true, y_hat)\n",
        "    else:\n",
        "        acc = None\n",
        "    return round(pr, 4), round(rec, 4), round(f1, 4), round(acc, 4)"
      ],
      "metadata": {
        "execution": {
          "iopub.status.busy": "2024-05-22T18:43:47.964099Z",
          "iopub.execute_input": "2024-05-22T18:43:47.965089Z",
          "iopub.status.idle": "2024-05-22T18:43:47.972776Z",
          "shell.execute_reply.started": "2024-05-22T18:43:47.965054Z",
          "shell.execute_reply": "2024-05-22T18:43:47.971401Z"
        },
        "trusted": true,
        "id": "iv9zNjeD1b32"
      },
      "execution_count": null,
      "outputs": []
    },
    {
      "cell_type": "code",
      "source": [
        "# feature engineering\n",
        "df['month'] = df['date'].dt.month\n",
        "df['year'] = df['date'].dt.year\n",
        "df['day_of_week'] = pd.DatetimeIndex(df['date']).dayofweek\n",
        "# df['yearmonth'] = df.apply(lambda row: 100 * row['year'] + row['month'], axis = 1)\n",
        "\n",
        "df['n_reports'] = df.groupby('licence_num')['licence_num'].transform('count')\n",
        "df['occurence'] = df.groupby(['licence_num']).cumcount()+1"
      ],
      "metadata": {
        "execution": {
          "iopub.status.busy": "2024-05-22T18:43:50.009015Z",
          "iopub.execute_input": "2024-05-22T18:43:50.009499Z",
          "iopub.status.idle": "2024-05-22T18:43:50.043273Z",
          "shell.execute_reply.started": "2024-05-22T18:43:50.009460Z",
          "shell.execute_reply": "2024-05-22T18:43:50.041835Z"
        },
        "trusted": true,
        "id": "PRWQ_Znt1b32"
      },
      "execution_count": null,
      "outputs": []
    },
    {
      "cell_type": "markdown",
      "source": [
        "## 2.1. Default Prediction for single bank based on aggregated data\n",
        "*- agregating data for every bank during whole period of time presented in dataset and predicting default for certain bank generally*"
      ],
      "metadata": {
        "id": "17Pz0Svh1b32"
      }
    },
    {
      "cell_type": "code",
      "source": [
        "df_agg_default = df.groupby('licence_num', as_index=False).agg({'default': 'max'})\n",
        "df_agg_mean = df.loc[:, ~df.columns.isin(['default'])].groupby('licence_num').mean().merge(df_agg_default, how='left', on='licence_num')\n",
        "df_agg_last = pd.concat([df.loc[df.default == 1], df.loc[df.default != 1].groupby('licence_num', as_index=False).last()], axis=0)\n",
        "df_agg_prelast = df.iloc[df.loc[df.default == 1].index - 1]\\\n",
        "                   .merge(df.loc[df.default == 1, ['licence_num', 'default']],\n",
        "                          how='left', on='licence_num', suffixes=('_old', '')).drop_duplicates().drop(columns=['default_old'])\n",
        "df_agg_prelast = pd.concat([df_agg_prelast.loc[df_agg_prelast.default.notna()],\n",
        "                            df.loc[(df.default != 1) & (~df.licence_num.isin(df_agg_prelast.licence_num))]\\\n",
        "                              .groupby('licence_num', as_index=False).nth(-2)], axis=0)"
      ],
      "metadata": {
        "execution": {
          "iopub.status.busy": "2024-05-22T18:43:52.441301Z",
          "iopub.execute_input": "2024-05-22T18:43:52.441800Z",
          "iopub.status.idle": "2024-05-22T18:43:52.588381Z",
          "shell.execute_reply.started": "2024-05-22T18:43:52.441761Z",
          "shell.execute_reply": "2024-05-22T18:43:52.586966Z"
        },
        "trusted": true,
        "id": "5P-h3yws1b33"
      },
      "execution_count": null,
      "outputs": []
    },
    {
      "cell_type": "code",
      "source": [
        "# features\n",
        "target_feature = 'default'\n",
        "exclude_features = ['licence_num', 'date', target_feature]\n",
        "model_features = np.setdiff1d(df.columns.to_numpy(), np.array(exclude_features))\n",
        "cat_features = ['msk_spb']\n",
        "numeric_features = np.setdiff1d(df.columns.to_numpy(), np.array([*exclude_features, *cat_features]))\n",
        "\n",
        "# models\n",
        "model_lr = LogisticRegression(random_state=73, verbose=False, n_jobs=-1)\n",
        "model_rf = RandomForestClassifier(random_state=74, verbose=False, n_jobs=-1)\n",
        "model_cb = CatBoostClassifier(random_seed=75, verbose=0)\n",
        "models_dict = {'LogisticRegression': {'model': model_lr, 'result': []},\n",
        "               'RandomForestClassifier': {'model': model_rf, 'result': []},\n",
        "               'CatBoostClassifier': {'model': model_cb, 'result': []}}\n",
        "\n",
        "# fitting + predicting for every data and model\n",
        "for key in tqdm(models_dict.keys()):\n",
        "    res = []\n",
        "\n",
        "    for data in tqdm([df_agg_mean, df_agg_last, df_agg_prelast]):\n",
        "        # data\n",
        "        X = data[model_features]\n",
        "        y = data[target_feature]\n",
        "        X_train, X_test, y_train, y_test = train_test_split(X, y, test_size=0.2, random_state=11, stratify=y)\n",
        "        model = models_dict[key]['model']\n",
        "\n",
        "        # pipeline\n",
        "        pipe = Pipeline([\n",
        "            ('preprocessing_', ColumnTransformer([\n",
        "                ('num_preproc', StandardScaler(), numeric_features),\n",
        "                ('cat_preproc', OneHotEncoder(handle_unknown='ignore', sparse_output=False), cat_features)\n",
        "            ])),\n",
        "            ('model_', model)\n",
        "        ])\n",
        "\n",
        "        # fit\n",
        "        pipe.fit(X_train, y_train)\n",
        "\n",
        "        # prediction\n",
        "        y_pred = pipe.predict(X_test)\n",
        "        metrics = get_scores(y_pred, y_test)\n",
        "        res.append(metrics)\n",
        "\n",
        "    models_dict[key]['result'] = res"
      ],
      "metadata": {
        "execution": {
          "iopub.status.busy": "2024-05-22T19:34:36.811972Z",
          "iopub.execute_input": "2024-05-22T19:34:36.812397Z",
          "iopub.status.idle": "2024-05-22T19:35:00.632328Z",
          "shell.execute_reply.started": "2024-05-22T19:34:36.812364Z",
          "shell.execute_reply": "2024-05-22T19:35:00.631399Z"
        },
        "trusted": true,
        "id": "-C5vtRzt1b33",
        "outputId": "9636fb66-319c-47eb-fa40-f54414e5bd3d"
      },
      "execution_count": null,
      "outputs": [
        {
          "name": "stderr",
          "text": "  0%|          | 0/3 [00:00<?, ?it/s]\n  0%|          | 0/3 [00:00<?, ?it/s]\u001b[A\n 33%|███▎      | 1/3 [00:01<00:02,  1.13s/it]\u001b[A\n 67%|██████▋   | 2/3 [00:01<00:00,  1.23it/s]\u001b[A\n100%|██████████| 3/3 [00:02<00:00,  1.28it/s]\u001b[A\n 33%|███▎      | 1/3 [00:02<00:04,  2.35s/it]\n  0%|          | 0/3 [00:00<?, ?it/s]\u001b[A\n 33%|███▎      | 1/3 [00:00<00:01,  1.85it/s]\u001b[A\n 67%|██████▋   | 2/3 [00:01<00:00,  1.90it/s]\u001b[A\n100%|██████████| 3/3 [00:01<00:00,  1.95it/s]\u001b[A\n 67%|██████▋   | 2/3 [00:03<00:01,  1.88s/it]\n  0%|          | 0/3 [00:00<?, ?it/s]\u001b[A\n 33%|███▎      | 1/3 [00:08<00:16,  8.16s/it]\u001b[A\n 67%|██████▋   | 2/3 [00:14<00:06,  6.94s/it]\u001b[A\n100%|██████████| 3/3 [00:19<00:00,  6.63s/it]\u001b[A\n100%|██████████| 3/3 [00:23<00:00,  7.93s/it]\n",
          "output_type": "stream"
        }
      ]
    },
    {
      "cell_type": "code",
      "source": [
        "index = pd.MultiIndex.from_arrays([[*['LogisticRegression'] * 4, *['RandomForestClassifier'] * 4, *['CatBoostClassifier'] * 4],\n",
        "                                   ['precision', 'recall', 'f1-score', 'accuracy'] * 3],\n",
        "                                  names=['model', 'metric'])\n",
        "\n",
        "result_default_prediction = \\\n",
        "    pd.DataFrame({'mean': np.array([models_dict[key]['result'] for key in models_dict.keys()])[0, :, :].flatten(),\n",
        "                  'last': np.array([models_dict[key]['result'] for key in models_dict.keys()])[1, :, :].flatten(),\n",
        "                  'prelast': np.array([models_dict[key]['result'] for key in models_dict.keys()])[2, :, :].flatten()},\n",
        "                 index=index)\n",
        "\n",
        "result_default_prediction"
      ],
      "metadata": {
        "execution": {
          "iopub.status.busy": "2024-05-22T19:35:10.474345Z",
          "iopub.execute_input": "2024-05-22T19:35:10.475476Z",
          "iopub.status.idle": "2024-05-22T19:35:10.501434Z",
          "shell.execute_reply.started": "2024-05-22T19:35:10.475434Z",
          "shell.execute_reply": "2024-05-22T19:35:10.500312Z"
        },
        "trusted": true,
        "id": "iccmkNNn1b33",
        "outputId": "827144d6-c18e-4079-bc4c-f22dfe7c8fc0"
      },
      "execution_count": null,
      "outputs": [
        {
          "execution_count": 48,
          "output_type": "execute_result",
          "data": {
            "text/plain": "                                    mean    last  prelast\nmodel                  metric                            \nLogisticRegression     precision  0.6182  0.7442   0.6964\n                       recall     0.5231  0.4923   0.6000\n                       f1-score   0.5667  0.5926   0.6446\n                       accuracy   0.7426  0.7822   0.7871\nRandomForestClassifier precision  0.9853  0.9206   0.9692\n                       recall     0.8933  0.7733   0.8400\n                       f1-score   0.9371  0.8406   0.9000\n                       accuracy   0.9674  0.9203   0.9493\nCatBoostClassifier     precision  0.9714  0.8333   0.9857\n                       recall     0.9189  0.8108   0.9324\n                       f1-score   0.9444  0.8219   0.9583\n                       accuracy   0.9619  0.8762   0.9714",
            "text/html": "<div>\n<style scoped>\n    .dataframe tbody tr th:only-of-type {\n        vertical-align: middle;\n    }\n\n    .dataframe tbody tr th {\n        vertical-align: top;\n    }\n\n    .dataframe thead th {\n        text-align: right;\n    }\n</style>\n<table border=\"1\" class=\"dataframe\">\n  <thead>\n    <tr style=\"text-align: right;\">\n      <th></th>\n      <th></th>\n      <th>mean</th>\n      <th>last</th>\n      <th>prelast</th>\n    </tr>\n    <tr>\n      <th>model</th>\n      <th>metric</th>\n      <th></th>\n      <th></th>\n      <th></th>\n    </tr>\n  </thead>\n  <tbody>\n    <tr>\n      <th rowspan=\"4\" valign=\"top\">LogisticRegression</th>\n      <th>precision</th>\n      <td>0.6182</td>\n      <td>0.7442</td>\n      <td>0.6964</td>\n    </tr>\n    <tr>\n      <th>recall</th>\n      <td>0.5231</td>\n      <td>0.4923</td>\n      <td>0.6000</td>\n    </tr>\n    <tr>\n      <th>f1-score</th>\n      <td>0.5667</td>\n      <td>0.5926</td>\n      <td>0.6446</td>\n    </tr>\n    <tr>\n      <th>accuracy</th>\n      <td>0.7426</td>\n      <td>0.7822</td>\n      <td>0.7871</td>\n    </tr>\n    <tr>\n      <th rowspan=\"4\" valign=\"top\">RandomForestClassifier</th>\n      <th>precision</th>\n      <td>0.9853</td>\n      <td>0.9206</td>\n      <td>0.9692</td>\n    </tr>\n    <tr>\n      <th>recall</th>\n      <td>0.8933</td>\n      <td>0.7733</td>\n      <td>0.8400</td>\n    </tr>\n    <tr>\n      <th>f1-score</th>\n      <td>0.9371</td>\n      <td>0.8406</td>\n      <td>0.9000</td>\n    </tr>\n    <tr>\n      <th>accuracy</th>\n      <td>0.9674</td>\n      <td>0.9203</td>\n      <td>0.9493</td>\n    </tr>\n    <tr>\n      <th rowspan=\"4\" valign=\"top\">CatBoostClassifier</th>\n      <th>precision</th>\n      <td>0.9714</td>\n      <td>0.8333</td>\n      <td>0.9857</td>\n    </tr>\n    <tr>\n      <th>recall</th>\n      <td>0.9189</td>\n      <td>0.8108</td>\n      <td>0.9324</td>\n    </tr>\n    <tr>\n      <th>f1-score</th>\n      <td>0.9444</td>\n      <td>0.8219</td>\n      <td>0.9583</td>\n    </tr>\n    <tr>\n      <th>accuracy</th>\n      <td>0.9619</td>\n      <td>0.8762</td>\n      <td>0.9714</td>\n    </tr>\n  </tbody>\n</table>\n</div>"
          },
          "metadata": {}
        }
      ]
    },
    {
      "cell_type": "markdown",
      "source": [
        "* columns' names: data aggregation type of every bank - `mean, last, prelast`"
      ],
      "metadata": {
        "id": "IyaJ_Qe81b33"
      }
    },
    {
      "cell_type": "markdown",
      "source": [
        "## 2.2. Default Prediction Models for every period\n",
        "*- if certain bank default in certain period of time*"
      ],
      "metadata": {
        "id": "sTi4ffWk1b34"
      }
    },
    {
      "cell_type": "code",
      "source": [
        "# features\n",
        "target_feature = 'default'\n",
        "exclude_features = ['licence_num', 'date', target_feature]\n",
        "model_features = np.setdiff1d(df.columns.to_numpy(), np.array(exclude_features))\n",
        "cat_features = ['msk_spb']\n",
        "numeric_features = np.setdiff1d(df.columns.to_numpy(), np.array([*exclude_features, *cat_features]))\n",
        "\n",
        "# data\n",
        "y = df[target_feature]\n",
        "X = df[model_features]\n",
        "X_train, X_test, y_train, y_test = train_test_split(X, y, test_size=0.1, random_state=9, stratify=y)\n",
        "\n",
        "# models\n",
        "model_lr = LogisticRegression(solver='newton-cg', class_weight='balanced', random_state=4, n_jobs=-1)\n",
        "model_rf = BalancedRandomForestClassifier(random_state=42, n_estimators=200)\n",
        "model_svc = SVC(class_weight='balanced', probability=False)\n",
        "model_boost = RUSBoostClassifier(n_estimators=200, algorithm='SAMME.R', random_state=0)\n",
        "model_cb = CatBoostClassifier(random_seed=7, verbose=100,\n",
        "                              class_weights=dict(\n",
        "                                  zip(\n",
        "                                      np.unique(y_train),\n",
        "                                      compute_class_weight(\n",
        "                                          class_weight='balanced', classes=np.unique(y_train), y=y_train)\n",
        "                                  )\n",
        "                              ))\n",
        "models_dict = {'LogisticRegression': {'result': [], 'model': model_lr},\n",
        "               'RandomForestClassifier': {'result': [], 'model': model_rf},\n",
        "               'SVC': {'result': [], 'model': model_svc},\n",
        "               'RUSBoostClassifier': {'result': [], 'model': model_boost},\n",
        "               'CatBoostClassifier': {'result': [], 'model': model_cb}}\n",
        "\n",
        "# fitting + predicting for every model\n",
        "for key in tqdm(models_dict.keys()):\n",
        "    model = models_dict[key]['model']\n",
        "\n",
        "    # pipeline\n",
        "    pipe = Pipeline([\n",
        "        ('preprocessing_', ColumnTransformer([\n",
        "            ('num_preproc', StandardScaler(), numeric_features),\n",
        "            ('cat_preproc', OneHotEncoder(handle_unknown='ignore', sparse_output=False), cat_features)\n",
        "        ])),\n",
        "        ('model_', model)\n",
        "    ])\n",
        "\n",
        "    # fit\n",
        "    pipe.fit(X_train, y_train)\n",
        "\n",
        "    # prediction\n",
        "    y_pred = pipe.predict(X_test)\n",
        "    metrics = get_scores(y_pred, y_test)\n",
        "    tn, fp, fn, tp = confusion_matrix(y_test, y_pred).ravel()\n",
        "    num_def, num_not_def, num_all = y_test.value_counts()[1], y_test.value_counts()[0], len(y_test)\n",
        "\n",
        "    models_dict[key]['result'] = [*list(metrics), tn, fp, fn, tp,\n",
        "                                  num_def, num_not_def, num_all]"
      ],
      "metadata": {
        "execution": {
          "iopub.status.busy": "2024-05-22T18:45:28.482502Z",
          "iopub.execute_input": "2024-05-22T18:45:28.482994Z",
          "iopub.status.idle": "2024-05-22T18:49:38.420766Z",
          "shell.execute_reply.started": "2024-05-22T18:45:28.482960Z",
          "shell.execute_reply": "2024-05-22T18:49:38.419358Z"
        },
        "trusted": true,
        "id": "wfvKJrOJ1b34",
        "outputId": "b960e074-2784-476f-999d-9482c98b7c5e"
      },
      "execution_count": null,
      "outputs": [
        {
          "name": "stderr",
          "text": " 20%|██        | 1/5 [00:06<00:25,  6.35s/it]/opt/conda/lib/python3.10/site-packages/imblearn/ensemble/_forest.py:576: FutureWarning: The default of `sampling_strategy` will change from `'auto'` to `'all'` in version 0.13. This change will follow the implementation proposed in the original paper. Set to `'all'` to silence this warning and adopt the future behaviour.\n  warn(\n/opt/conda/lib/python3.10/site-packages/imblearn/ensemble/_forest.py:588: FutureWarning: The default of `replacement` will change from `False` to `True` in version 0.13. This change will follow the implementation proposed in the original paper. Set to `True` to silence this warning and adopt the future behaviour.\n  warn(\n/opt/conda/lib/python3.10/site-packages/imblearn/ensemble/_forest.py:600: FutureWarning: The default of `bootstrap` will change from `True` to `False` in version 0.13. This change will follow the implementation proposed in the original paper. Set to `False` to silence this warning and adopt the future behaviour.\n  warn(\n 80%|████████  | 4/5 [03:44<01:01, 61.59s/it]",
          "output_type": "stream"
        },
        {
          "name": "stdout",
          "text": "Learning rate set to 0.060607\n0:\tlearn: 0.6700242\ttotal: 86.8ms\tremaining: 1m 26s\n100:\tlearn: 0.2561439\ttotal: 2.45s\tremaining: 21.8s\n200:\tlearn: 0.1331722\ttotal: 4.84s\tremaining: 19.2s\n300:\tlearn: 0.0662356\ttotal: 7.19s\tremaining: 16.7s\n400:\tlearn: 0.0359847\ttotal: 9.41s\tremaining: 14.1s\n500:\tlearn: 0.0219141\ttotal: 11.6s\tremaining: 11.6s\n600:\tlearn: 0.0143834\ttotal: 14.3s\tremaining: 9.5s\n700:\tlearn: 0.0099680\ttotal: 16.5s\tremaining: 7.03s\n800:\tlearn: 0.0070799\ttotal: 18.7s\tremaining: 4.65s\n900:\tlearn: 0.0052805\ttotal: 20.9s\tremaining: 2.29s\n999:\tlearn: 0.0043142\ttotal: 23s\tremaining: 0us\n",
          "output_type": "stream"
        },
        {
          "name": "stderr",
          "text": "100%|██████████| 5/5 [04:09<00:00, 49.92s/it]\n",
          "output_type": "stream"
        }
      ]
    },
    {
      "cell_type": "code",
      "source": [
        "result_default_period_prediction = \\\n",
        "    pd.DataFrame({key: models_dict[key]['result'] for key in models_dict.keys()},\n",
        "                 index=['precision', 'recall', 'f1-score', 'accuracy',\n",
        "                        'TrueNegative', 'FalsePositive', 'FalseNegative', 'TruePositive',\n",
        "                        'Number of Positive (default)', 'Number of Negative (not default)',\n",
        "                        'Total Number'])\n",
        "\n",
        "result_default_period_prediction"
      ],
      "metadata": {
        "execution": {
          "iopub.status.busy": "2024-05-22T19:33:30.272342Z",
          "iopub.execute_input": "2024-05-22T19:33:30.272785Z",
          "iopub.status.idle": "2024-05-22T19:33:30.292742Z",
          "shell.execute_reply.started": "2024-05-22T19:33:30.272746Z",
          "shell.execute_reply": "2024-05-22T19:33:30.291590Z"
        },
        "trusted": true,
        "id": "zSvaC5I01b34",
        "outputId": "a150a5b6-cd6c-4c30-eff5-ad47210af4e7"
      },
      "execution_count": null,
      "outputs": [
        {
          "execution_count": 45,
          "output_type": "execute_result",
          "data": {
            "text/plain": "                                  LogisticRegression  RandomForestClassifier  \\\nprecision                                     0.0122                  0.0182   \nrecall                                        0.6486                  0.8378   \nf1-score                                      0.0240                  0.0356   \naccuracy                                      0.7234                  0.7617   \nTrueNegative                               5075.0000               5338.0000   \nFalsePositive                              1937.0000               1674.0000   \nFalseNegative                                13.0000                  6.0000   \nTruePositive                                 24.0000                 31.0000   \nNumber of Positive (default)                 37.0000                 37.0000   \nNumber of Negative (not default)           7012.0000               7012.0000   \nTotal Number                               7049.0000               7049.0000   \n\n                                        SVC  RUSBoostClassifier  \\\nprecision                            0.0099              0.0148   \nrecall                               0.2432              0.4054   \nf1-score                             0.0190              0.0285   \naccuracy                             0.8685              0.8550   \nTrueNegative                      6113.0000           6012.0000   \nFalsePositive                      899.0000           1000.0000   \nFalseNegative                       28.0000             22.0000   \nTruePositive                         9.0000             15.0000   \nNumber of Positive (default)        37.0000             37.0000   \nNumber of Negative (not default)  7012.0000           7012.0000   \nTotal Number                      7049.0000           7049.0000   \n\n                                  CatBoostClassifier  \nprecision                                     0.1176  \nrecall                                        0.0541  \nf1-score                                      0.0741  \naccuracy                                      0.9929  \nTrueNegative                               6997.0000  \nFalsePositive                                15.0000  \nFalseNegative                                35.0000  \nTruePositive                                  2.0000  \nNumber of Positive (default)                 37.0000  \nNumber of Negative (not default)           7012.0000  \nTotal Number                               7049.0000  ",
            "text/html": "<div>\n<style scoped>\n    .dataframe tbody tr th:only-of-type {\n        vertical-align: middle;\n    }\n\n    .dataframe tbody tr th {\n        vertical-align: top;\n    }\n\n    .dataframe thead th {\n        text-align: right;\n    }\n</style>\n<table border=\"1\" class=\"dataframe\">\n  <thead>\n    <tr style=\"text-align: right;\">\n      <th></th>\n      <th>LogisticRegression</th>\n      <th>RandomForestClassifier</th>\n      <th>SVC</th>\n      <th>RUSBoostClassifier</th>\n      <th>CatBoostClassifier</th>\n    </tr>\n  </thead>\n  <tbody>\n    <tr>\n      <th>precision</th>\n      <td>0.0122</td>\n      <td>0.0182</td>\n      <td>0.0099</td>\n      <td>0.0148</td>\n      <td>0.1176</td>\n    </tr>\n    <tr>\n      <th>recall</th>\n      <td>0.6486</td>\n      <td>0.8378</td>\n      <td>0.2432</td>\n      <td>0.4054</td>\n      <td>0.0541</td>\n    </tr>\n    <tr>\n      <th>f1-score</th>\n      <td>0.0240</td>\n      <td>0.0356</td>\n      <td>0.0190</td>\n      <td>0.0285</td>\n      <td>0.0741</td>\n    </tr>\n    <tr>\n      <th>accuracy</th>\n      <td>0.7234</td>\n      <td>0.7617</td>\n      <td>0.8685</td>\n      <td>0.8550</td>\n      <td>0.9929</td>\n    </tr>\n    <tr>\n      <th>TrueNegative</th>\n      <td>5075.0000</td>\n      <td>5338.0000</td>\n      <td>6113.0000</td>\n      <td>6012.0000</td>\n      <td>6997.0000</td>\n    </tr>\n    <tr>\n      <th>FalsePositive</th>\n      <td>1937.0000</td>\n      <td>1674.0000</td>\n      <td>899.0000</td>\n      <td>1000.0000</td>\n      <td>15.0000</td>\n    </tr>\n    <tr>\n      <th>FalseNegative</th>\n      <td>13.0000</td>\n      <td>6.0000</td>\n      <td>28.0000</td>\n      <td>22.0000</td>\n      <td>35.0000</td>\n    </tr>\n    <tr>\n      <th>TruePositive</th>\n      <td>24.0000</td>\n      <td>31.0000</td>\n      <td>9.0000</td>\n      <td>15.0000</td>\n      <td>2.0000</td>\n    </tr>\n    <tr>\n      <th>Number of Positive (default)</th>\n      <td>37.0000</td>\n      <td>37.0000</td>\n      <td>37.0000</td>\n      <td>37.0000</td>\n      <td>37.0000</td>\n    </tr>\n    <tr>\n      <th>Number of Negative (not default)</th>\n      <td>7012.0000</td>\n      <td>7012.0000</td>\n      <td>7012.0000</td>\n      <td>7012.0000</td>\n      <td>7012.0000</td>\n    </tr>\n    <tr>\n      <th>Total Number</th>\n      <td>7049.0000</td>\n      <td>7049.0000</td>\n      <td>7049.0000</td>\n      <td>7049.0000</td>\n      <td>7049.0000</td>\n    </tr>\n  </tbody>\n</table>\n</div>"
          },
          "metadata": {}
        }
      ]
    },
    {
      "cell_type": "code",
      "source": [
        "# transformation to Regression task to predict probability of default - to be added..."
      ],
      "metadata": {
        "id": "L7N1YA4K1b34"
      },
      "execution_count": null,
      "outputs": []
    },
    {
      "cell_type": "markdown",
      "source": [
        "*Conclusion:*\n",
        "\n",
        "- To simpify this part I just stopped at CatBoost model that has quite good quality.\n",
        "- It can identify quite well default with aggregated data based on lifetime data of bank or with timelag in 1 month\n",
        "- conclusions about prediction of default period in P.S."
      ],
      "metadata": {
        "id": "pvftf66h1b34"
      }
    },
    {
      "cell_type": "markdown",
      "source": [
        "## P.S. Imbalanced classes' weigths optimization for 2.2."
      ],
      "metadata": {
        "id": "qdP7u3tW1b34"
      }
    },
    {
      "cell_type": "code",
      "source": [
        "lr = LogisticRegression(solver='newton-cg')\n",
        "X_tr = pipe['preprocessing_'].fit_transform(X_train)\n",
        "\n",
        "#Setting the range for class weights\n",
        "weights = np.linspace(0.02, 0.06, 10)  # interval was chosen after long gridsearching from 0 to 0.99\n",
        "\n",
        "#Creating a dictionary grid for grid search\n",
        "param_grid = {'class_weight': [{0: x, 1: 1.0-x} for x in weights]}\n",
        "\n",
        "#Fitting grid search to the train data with 5 folds\n",
        "gridsearch = GridSearchCV(estimator=lr,\n",
        "                          param_grid= param_grid,\n",
        "                          cv=StratifiedKFold(),\n",
        "                          n_jobs=-1,\n",
        "                          scoring='f1',\n",
        "                          verbose=2).fit(X_tr, y_train)\n",
        "\n",
        "# Ploting the score for different values of weight\n",
        "sns.set_style('whitegrid')\n",
        "plt.figure(figsize=(12, 8))\n",
        "weigh_data = pd.DataFrame({'score': gridsearch.cv_results_['mean_test_score'], 'weight': (1- weights)})\n",
        "sns.lineplot(data=weigh_data, x='weight', y='score')\n",
        "plt.xlabel('Weight for class 1')\n",
        "plt.ylabel('F1 score')\n",
        "plt.title('Scoring for different class weights', fontsize=24)\n",
        "plt.show();"
      ],
      "metadata": {
        "execution": {
          "iopub.status.busy": "2024-05-22T19:15:08.892330Z",
          "iopub.execute_input": "2024-05-22T19:15:08.892831Z",
          "iopub.status.idle": "2024-05-22T19:15:40.203186Z",
          "shell.execute_reply.started": "2024-05-22T19:15:08.892787Z",
          "shell.execute_reply": "2024-05-22T19:15:40.202180Z"
        },
        "trusted": true,
        "id": "PkqAc8DY1b34",
        "outputId": "27f55f4d-9f50-4f49-fb47-2cdd064a5951"
      },
      "execution_count": null,
      "outputs": [
        {
          "name": "stdout",
          "text": "Fitting 5 folds for each of 10 candidates, totalling 50 fits\n",
          "output_type": "stream"
        },
        {
          "name": "stderr",
          "text": "/opt/conda/lib/python3.10/site-packages/seaborn/_oldcore.py:1119: FutureWarning: use_inf_as_na option is deprecated and will be removed in a future version. Convert inf values to NaN before operating instead.\n  with pd.option_context('mode.use_inf_as_na', True):\n/opt/conda/lib/python3.10/site-packages/seaborn/_oldcore.py:1119: FutureWarning: use_inf_as_na option is deprecated and will be removed in a future version. Convert inf values to NaN before operating instead.\n  with pd.option_context('mode.use_inf_as_na', True):\n",
          "output_type": "stream"
        },
        {
          "output_type": "display_data",
          "data": {
            "text/plain": "<Figure size 1200x800 with 1 Axes>",
            "image/png": "[encoded data removed]"
          },
          "metadata": {}
        }
      ]
    },
    {
      "cell_type": "code",
      "source": [
        "# model\n",
        "weight_of_zero_class = weights[gridsearch.cv_results_['mean_test_score'].argmax()]\n",
        "model0 = LogisticRegression(solver='newton-cg', class_weight={0: weight_of_zero_class, 1: (1-weight_of_zero_class)})\n",
        "\n",
        "# pipeline\n",
        "pipe = Pipeline([\n",
        "    ('preprocessing_', ColumnTransformer([\n",
        "        ('num_preproc', StandardScaler(), numeric_features),\n",
        "        ('cat_preproc', OneHotEncoder(handle_unknown='ignore', sparse_output=False), cat_features)\n",
        "    ])),\n",
        "    ('model_', model0)\n",
        "])\n",
        "\n",
        "pipe.fit(X_train, y_train)\n",
        "\n",
        "# prediction\n",
        "y_pred = pipe.predict(X_test)\n",
        "metrics = get_scores(y_pred, y_test)\n",
        "tn, fp, fn, tp = confusion_matrix(y_test, y_pred).flatten()\n",
        "num_def, num_not_def, num_all = y_test.value_counts()[1], y_test.value_counts()[0], len(y_test)\n",
        "\n",
        "result_default_period_prediction = pd.concat([\n",
        "    result_default_period_prediction,\n",
        "    pd.DataFrame({'LR w/t weights tuned': [*list(metrics), tn, fp, fn, tp,\n",
        "                                           num_def, num_not_def, num_all]},\n",
        "                 index=['precision', 'recall', 'f1-score', 'accuracy',\n",
        "                        'TrueNegative', 'FalsePositive', 'FalseNegative', 'TruePositive',\n",
        "                        'Number of Positive (default)', 'Number of Negative (not default)',\n",
        "                        'Total Number'])], axis=1)\n",
        "\n",
        "result_default_period_prediction"
      ],
      "metadata": {
        "execution": {
          "iopub.status.busy": "2024-05-22T19:33:42.166688Z",
          "iopub.execute_input": "2024-05-22T19:33:42.167125Z",
          "iopub.status.idle": "2024-05-22T19:33:42.191938Z",
          "shell.execute_reply.started": "2024-05-22T19:33:42.167093Z",
          "shell.execute_reply": "2024-05-22T19:33:42.190644Z"
        },
        "trusted": true,
        "id": "OskAG5P81b34",
        "outputId": "606640c8-35df-40a3-8096-a9b60259072c"
      },
      "execution_count": null,
      "outputs": [
        {
          "execution_count": 46,
          "output_type": "execute_result",
          "data": {
            "text/plain": "                                  LogisticRegression  RandomForestClassifier  \\\nprecision                                     0.0122                  0.0182   \nrecall                                        0.6486                  0.8378   \nf1-score                                      0.0240                  0.0356   \naccuracy                                      0.7234                  0.7617   \nTrueNegative                               5075.0000               5338.0000   \nFalsePositive                              1937.0000               1674.0000   \nFalseNegative                                13.0000                  6.0000   \nTruePositive                                 24.0000                 31.0000   \nNumber of Positive (default)                 37.0000                 37.0000   \nNumber of Negative (not default)           7012.0000               7012.0000   \nTotal Number                               7049.0000               7049.0000   \n\n                                        SVC  RUSBoostClassifier  \\\nprecision                            0.0099              0.0148   \nrecall                               0.2432              0.4054   \nf1-score                             0.0190              0.0285   \naccuracy                             0.8685              0.8550   \nTrueNegative                      6113.0000           6012.0000   \nFalsePositive                      899.0000           1000.0000   \nFalseNegative                       28.0000             22.0000   \nTruePositive                         9.0000             15.0000   \nNumber of Positive (default)        37.0000             37.0000   \nNumber of Negative (not default)  7012.0000           7012.0000   \nTotal Number                      7049.0000           7049.0000   \n\n                                  CatBoostClassifier  LR w/t weights tuned  \nprecision                                     0.1176                0.1053  \nrecall                                        0.0541                0.1081  \nf1-score                                      0.0741                0.1067  \naccuracy                                      0.9929                0.9905  \nTrueNegative                               6997.0000             6978.0000  \nFalsePositive                                15.0000               34.0000  \nFalseNegative                                35.0000               33.0000  \nTruePositive                                  2.0000                4.0000  \nNumber of Positive (default)                 37.0000               37.0000  \nNumber of Negative (not default)           7012.0000             7012.0000  \nTotal Number                               7049.0000             7049.0000  ",
            "text/html": "<div>\n<style scoped>\n    .dataframe tbody tr th:only-of-type {\n        vertical-align: middle;\n    }\n\n    .dataframe tbody tr th {\n        vertical-align: top;\n    }\n\n    .dataframe thead th {\n        text-align: right;\n    }\n</style>\n<table border=\"1\" class=\"dataframe\">\n  <thead>\n    <tr style=\"text-align: right;\">\n      <th></th>\n      <th>LogisticRegression</th>\n      <th>RandomForestClassifier</th>\n      <th>SVC</th>\n      <th>RUSBoostClassifier</th>\n      <th>CatBoostClassifier</th>\n      <th>LR w/t weights tuned</th>\n    </tr>\n  </thead>\n  <tbody>\n    <tr>\n      <th>precision</th>\n      <td>0.0122</td>\n      <td>0.0182</td>\n      <td>0.0099</td>\n      <td>0.0148</td>\n      <td>0.1176</td>\n      <td>0.1053</td>\n    </tr>\n    <tr>\n      <th>recall</th>\n      <td>0.6486</td>\n      <td>0.8378</td>\n      <td>0.2432</td>\n      <td>0.4054</td>\n      <td>0.0541</td>\n      <td>0.1081</td>\n    </tr>\n    <tr>\n      <th>f1-score</th>\n      <td>0.0240</td>\n      <td>0.0356</td>\n      <td>0.0190</td>\n      <td>0.0285</td>\n      <td>0.0741</td>\n      <td>0.1067</td>\n    </tr>\n    <tr>\n      <th>accuracy</th>\n      <td>0.7234</td>\n      <td>0.7617</td>\n      <td>0.8685</td>\n      <td>0.8550</td>\n      <td>0.9929</td>\n      <td>0.9905</td>\n    </tr>\n    <tr>\n      <th>TrueNegative</th>\n      <td>5075.0000</td>\n      <td>5338.0000</td>\n      <td>6113.0000</td>\n      <td>6012.0000</td>\n      <td>6997.0000</td>\n      <td>6978.0000</td>\n    </tr>\n    <tr>\n      <th>FalsePositive</th>\n      <td>1937.0000</td>\n      <td>1674.0000</td>\n      <td>899.0000</td>\n      <td>1000.0000</td>\n      <td>15.0000</td>\n      <td>34.0000</td>\n    </tr>\n    <tr>\n      <th>FalseNegative</th>\n      <td>13.0000</td>\n      <td>6.0000</td>\n      <td>28.0000</td>\n      <td>22.0000</td>\n      <td>35.0000</td>\n      <td>33.0000</td>\n    </tr>\n    <tr>\n      <th>TruePositive</th>\n      <td>24.0000</td>\n      <td>31.0000</td>\n      <td>9.0000</td>\n      <td>15.0000</td>\n      <td>2.0000</td>\n      <td>4.0000</td>\n    </tr>\n    <tr>\n      <th>Number of Positive (default)</th>\n      <td>37.0000</td>\n      <td>37.0000</td>\n      <td>37.0000</td>\n      <td>37.0000</td>\n      <td>37.0000</td>\n      <td>37.0000</td>\n    </tr>\n    <tr>\n      <th>Number of Negative (not default)</th>\n      <td>7012.0000</td>\n      <td>7012.0000</td>\n      <td>7012.0000</td>\n      <td>7012.0000</td>\n      <td>7012.0000</td>\n      <td>7012.0000</td>\n    </tr>\n    <tr>\n      <th>Total Number</th>\n      <td>7049.0000</td>\n      <td>7049.0000</td>\n      <td>7049.0000</td>\n      <td>7049.0000</td>\n      <td>7049.0000</td>\n      <td>7049.0000</td>\n    </tr>\n  </tbody>\n</table>\n</div>"
          },
          "metadata": {}
        }
      ]
    },
    {
      "cell_type": "markdown",
      "source": [
        "* no remarkable improvement of rare class detection\n",
        "* even number of TruePositive become lower\n",
        "* but, however, there is no tendency to consider every period as default for bank that will have default whenever in future or make defaulted every bank (so number of FalsePositive is lower)\n",
        "* so, it might bring some profit but need more proper work for parameters\n",
        "\n",
        "*so I decided to remain 'balanced' hyperparameter instead of manual weigths*\n",
        "\n",
        "*and use aggregated data and model based on this data to predict potential default*\n"
      ],
      "metadata": {
        "id": "RPrfb1hO1b35"
      }
    },
    {
      "cell_type": "markdown",
      "source": [
        "## P.S.S. (to be continued...) Hyperparameter optimization for 2.1."
      ],
      "metadata": {
        "id": "QTzDCEYl1b35"
      }
    },
    {
      "cell_type": "markdown",
      "source": [
        "*-Decided to find the best hyperparameters for CatBoost, because its results of the model showed best metrics for period before and at the time of default*"
      ],
      "metadata": {
        "id": "URaec-bb1b35"
      }
    },
    {
      "cell_type": "code",
      "source": [
        "# features\n",
        "target_feature = 'default'\n",
        "exclude_features = ['licence_num', 'date', target_feature]\n",
        "model_features = np.setdiff1d(df.columns.to_numpy(), np.array(exclude_features))\n",
        "cat_features = ['msk_spb']\n",
        "numeric_features = np.setdiff1d(df.columns.to_numpy(), np.array([*exclude_features, *cat_features]))\n",
        "\n",
        "# models\n",
        "model_cb = CatBoostClassifier(random_seed=75, verbose=0, iterations=3000)\n",
        "\n",
        "# fitting + predicting for every data and model\n",
        "for data in tqdm([df_agg_mean, df_agg_last, df_agg_prelast]):\n",
        "    # data\n",
        "    data = data.astype({'year': 'int', 'month': 'int', 'msk_spb': 'int', 'day_of_week': 'int'})\n",
        "    X = data[model_features]\n",
        "    y = data[target_feature]\n",
        "    X_train, X_test, y_train, y_test = train_test_split(X, y, test_size=0.2, random_state=11, stratify=y)\n",
        "\n",
        "    # fit\n",
        "    scaler = StandardScaler()\n",
        "    X_train[numeric_features] = scaler.fit_transform(X_train[numeric_features])\n",
        "    X_test[numeric_features] = scaler.fit_transform(X_test[numeric_features])\n",
        "\n",
        "    def objective(trial):\n",
        "        params = {\n",
        "            \"iterations\": 1000,\n",
        "            'task_type': 'GPU',\n",
        "            'bootstrap_type': 'Poisson',\n",
        "            \"learning_rate\": trial.suggest_float(\"learning_rate\", 1e-3, 0.1, log=True),\n",
        "            \"depth\": trial.suggest_int(\"depth\", 1, 10),\n",
        "            \"subsample\": trial.suggest_float(\"subsample\", 0.05, 1.0),\n",
        "            \"min_data_in_leaf\": trial.suggest_int(\"min_data_in_leaf\", 1, 100),\n",
        "        }\n",
        "\n",
        "        model = CatBoostClassifier(**params, silent=True, random_seed=75)\n",
        "        model.fit(X_train, y_train)\n",
        "\n",
        "        y_pred = model.predict(X_test)\n",
        "        accuracy = accuracy_score(y_test, y_pred)\n",
        "\n",
        "        return accuracy\n",
        "\n",
        "    def detailed_objective(trial):\n",
        "        params = {\n",
        "            \"iterations\": 1000,\n",
        "            'task_type': 'GPU',\n",
        "            'bootstrap_type': 'Poisson',\n",
        "            \"learning_rate\": trial.suggest_float(\"learning_rate\", 1e-3, 0.1, log=True),\n",
        "            \"depth\": trial.suggest_int(\"depth\", 1, 10),\n",
        "            \"subsample\": trial.suggest_float(\"subsample\", 0.05, 1.0),\n",
        "            \"min_data_in_leaf\": trial.suggest_int(\"min_data_in_leaf\", 1, 100)\n",
        "        }\n",
        "\n",
        "        model = CatBoostClassifier(**params, silent=True, random_seed=75)\n",
        "        model.fit(X_train, y_train)\n",
        "\n",
        "        y_pred = model.predict(X_test)\n",
        "        accuracy = accuracy_score(y_test, y_pred).round(4)\n",
        "        recall = recall_score(y_test, y_pred).round(4)\n",
        "        precision = precision_score(y_test, y_pred).round(4)\n",
        "        f1 = f1_score(y_test, y_pred).round(4)\n",
        "\n",
        "        return precision, recall, f1, accuracy\n",
        "\n",
        "    study = optuna.create_study(direction='maximize')\n",
        "    study.optimize(objective, n_trials=20)\n",
        "\n",
        "    # set results after optuna\n",
        "    models_dict['CatBoostClassifier']['result'].append(detailed_objective(study.best_trial))"
      ],
      "metadata": {
        "execution": {
          "iopub.status.busy": "2024-05-22T11:03:27.449368Z",
          "iopub.execute_input": "2024-05-22T11:03:27.450216Z",
          "iopub.status.idle": "2024-05-22T11:53:23.025883Z",
          "shell.execute_reply.started": "2024-05-22T11:03:27.450182Z",
          "shell.execute_reply": "2024-05-22T11:53:23.025027Z"
        },
        "trusted": true,
        "id": "-nu08hY81b35",
        "outputId": "92a95541-eeab-433f-9640-441bffa6557d"
      },
      "execution_count": null,
      "outputs": [
        {
          "name": "stderr",
          "text": "  0%|          | 0/3 [00:00<?, ?it/s][I 2024-05-22 11:03:27,510] A new study created in memory with name: no-name-7cfe4488-6812-4dad-9c1c-acce5322eb10\n[I 2024-05-22 11:03:45,118] Trial 0 finished with value: 0.7326732673267327 and parameters: {'learning_rate': 0.0011723497760087159, 'depth': 5, 'subsample': 0.9012507305758303, 'min_data_in_leaf': 88}. Best is trial 0 with value: 0.7326732673267327.\n[I 2024-05-22 11:03:59,011] Trial 1 finished with value: 0.5247524752475248 and parameters: {'learning_rate': 0.06149175110416532, 'depth': 2, 'subsample': 0.5344588567457024, 'min_data_in_leaf': 25}. Best is trial 0 with value: 0.7326732673267327.\n[I 2024-05-22 11:04:33,302] Trial 2 finished with value: 0.6485148514851485 and parameters: {'learning_rate': 0.06756924971714114, 'depth': 7, 'subsample': 0.43214123480661254, 'min_data_in_leaf': 43}. Best is trial 0 with value: 0.7326732673267327.\n[I 2024-05-22 11:05:30,184] Trial 3 finished with value: 0.6831683168316832 and parameters: {'learning_rate': 0.04620794163941232, 'depth': 8, 'subsample': 0.74880326711787, 'min_data_in_leaf': 46}. Best is trial 0 with value: 0.7326732673267327.\n[I 2024-05-22 11:07:07,704] Trial 4 finished with value: 0.7029702970297029 and parameters: {'learning_rate': 0.026314255283944765, 'depth': 9, 'subsample': 0.19193447205240682, 'min_data_in_leaf': 39}. Best is trial 0 with value: 0.7326732673267327.\n[I 2024-05-22 11:07:21,440] Trial 5 finished with value: 0.7277227722772277 and parameters: {'learning_rate': 0.008429868085635485, 'depth': 1, 'subsample': 0.98264187283078, 'min_data_in_leaf': 50}. Best is trial 0 with value: 0.7326732673267327.\n[I 2024-05-22 11:08:37,039] Trial 6 finished with value: 0.7425742574257426 and parameters: {'learning_rate': 0.001796965103027601, 'depth': 9, 'subsample': 0.5704050306750217, 'min_data_in_leaf': 76}. Best is trial 6 with value: 0.7425742574257426.\n[I 2024-05-22 11:09:55,291] Trial 7 finished with value: 0.7326732673267327 and parameters: {'learning_rate': 0.002536043701579282, 'depth': 9, 'subsample': 0.7882269765684136, 'min_data_in_leaf': 72}. Best is trial 6 with value: 0.7425742574257426.\n[I 2024-05-22 11:10:17,276] Trial 8 finished with value: 0.7376237623762376 and parameters: {'learning_rate': 0.005342033237283526, 'depth': 6, 'subsample': 0.17793322200054357, 'min_data_in_leaf': 80}. Best is trial 6 with value: 0.7425742574257426.\n[I 2024-05-22 11:10:39,021] Trial 9 finished with value: 0.7475247524752475 and parameters: {'learning_rate': 0.001472011946184612, 'depth': 6, 'subsample': 0.6067857782667285, 'min_data_in_leaf': 66}. Best is trial 9 with value: 0.7475247524752475.\n[I 2024-05-22 11:10:54,297] Trial 10 finished with value: 0.7326732673267327 and parameters: {'learning_rate': 0.004485132976287211, 'depth': 4, 'subsample': 0.34543001626663405, 'min_data_in_leaf': 2}. Best is trial 9 with value: 0.7475247524752475.\n[I 2024-05-22 11:12:47,432] Trial 11 finished with value: 0.7475247524752475 and parameters: {'learning_rate': 0.0010512132804501948, 'depth': 10, 'subsample': 0.6080983791742306, 'min_data_in_leaf': 67}. Best is trial 9 with value: 0.7475247524752475.\n[I 2024-05-22 11:14:43,543] Trial 12 finished with value: 0.7524752475247525 and parameters: {'learning_rate': 0.0011288989915905804, 'depth': 10, 'subsample': 0.6495741184526339, 'min_data_in_leaf': 65}. Best is trial 12 with value: 0.7524752475247525.\n[I 2024-05-22 11:14:57,203] Trial 13 finished with value: 0.7178217821782178 and parameters: {'learning_rate': 0.0028373353575435914, 'depth': 3, 'subsample': 0.7034719417366635, 'min_data_in_leaf': 97}. Best is trial 12 with value: 0.7524752475247525.\n[I 2024-05-22 11:15:19,794] Trial 14 finished with value: 0.6089108910891089 and parameters: {'learning_rate': 0.010176298605417385, 'depth': 6, 'subsample': 0.4282682875081182, 'min_data_in_leaf': 64}. Best is trial 12 with value: 0.7524752475247525.\n[I 2024-05-22 11:15:53,268] Trial 15 finished with value: 0.6386138613861386 and parameters: {'learning_rate': 0.016647182899233934, 'depth': 7, 'subsample': 0.6821312497527309, 'min_data_in_leaf': 58}. Best is trial 12 with value: 0.7524752475247525.\n[I 2024-05-22 11:18:00,958] Trial 16 finished with value: 0.7524752475247525 and parameters: {'learning_rate': 0.0017002734474857138, 'depth': 10, 'subsample': 0.8548085320636747, 'min_data_in_leaf': 25}. Best is trial 12 with value: 0.7524752475247525.\n[I 2024-05-22 11:20:13,950] Trial 17 finished with value: 0.7128712871287128 and parameters: {'learning_rate': 0.0026883354854496393, 'depth': 10, 'subsample': 0.8382444487341093, 'min_data_in_leaf': 24}. Best is trial 12 with value: 0.7524752475247525.\n[I 2024-05-22 11:21:05,982] Trial 18 finished with value: 0.693069306930693 and parameters: {'learning_rate': 0.005372651169442196, 'depth': 8, 'subsample': 0.9460390253469001, 'min_data_in_leaf': 1}. Best is trial 12 with value: 0.7524752475247525.\n[I 2024-05-22 11:23:16,148] Trial 19 finished with value: 0.7376237623762376 and parameters: {'learning_rate': 0.0019469752531418734, 'depth': 10, 'subsample': 0.8768748862332445, 'min_data_in_leaf': 29}. Best is trial 12 with value: 0.7524752475247525.\n 33%|███▎      | 1/3 [21:44<43:28, 1304.46s/it][I 2024-05-22 11:25:11,976] A new study created in memory with name: no-name-fe9bbae3-d20c-4ef1-870b-c60040e448ab\n[I 2024-05-22 11:26:39,905] Trial 0 finished with value: 0.9601449275362319 and parameters: {'learning_rate': 0.0015978935418224536, 'depth': 9, 'subsample': 0.8016269765933401, 'min_data_in_leaf': 18}. Best is trial 0 with value: 0.9601449275362319.\n[I 2024-05-22 11:26:56,589] Trial 1 finished with value: 0.9565217391304348 and parameters: {'learning_rate': 0.030646096196334304, 'depth': 3, 'subsample': 0.6930455357508956, 'min_data_in_leaf': 49}. Best is trial 0 with value: 0.9601449275362319.\n[I 2024-05-22 11:27:12,897] Trial 2 finished with value: 0.9420289855072463 and parameters: {'learning_rate': 0.0016148017550441126, 'depth': 3, 'subsample': 0.9866261245481849, 'min_data_in_leaf': 85}. Best is trial 0 with value: 0.9601449275362319.\n[I 2024-05-22 11:27:29,564] Trial 3 finished with value: 0.9601449275362319 and parameters: {'learning_rate': 0.030757235582650564, 'depth': 3, 'subsample': 0.18192733643365028, 'min_data_in_leaf': 94}. Best is trial 0 with value: 0.9601449275362319.\n[I 2024-05-22 11:28:06,672] Trial 4 finished with value: 0.9601449275362319 and parameters: {'learning_rate': 0.0017935996628562084, 'depth': 7, 'subsample': 0.8789951257590096, 'min_data_in_leaf': 93}. Best is trial 0 with value: 0.9601449275362319.\n[I 2024-05-22 11:28:22,742] Trial 5 finished with value: 0.9637681159420289 and parameters: {'learning_rate': 0.057870863057246355, 'depth': 3, 'subsample': 0.6853983894573915, 'min_data_in_leaf': 37}. Best is trial 5 with value: 0.9637681159420289.\n[I 2024-05-22 11:28:38,168] Trial 6 finished with value: 0.9456521739130435 and parameters: {'learning_rate': 0.09509399825358732, 'depth': 2, 'subsample': 0.7742893649649017, 'min_data_in_leaf': 73}. Best is trial 5 with value: 0.9637681159420289.\n[I 2024-05-22 11:28:57,973] Trial 7 finished with value: 0.9311594202898551 and parameters: {'learning_rate': 0.0011895367048598666, 'depth': 5, 'subsample': 0.1783534845441514, 'min_data_in_leaf': 80}. Best is trial 5 with value: 0.9637681159420289.\n[I 2024-05-22 11:29:12,616] Trial 8 finished with value: 0.894927536231884 and parameters: {'learning_rate': 0.006030950673299652, 'depth': 1, 'subsample': 0.7230204950223976, 'min_data_in_leaf': 24}. Best is trial 5 with value: 0.9637681159420289.\n[I 2024-05-22 11:29:32,408] Trial 9 finished with value: 0.9565217391304348 and parameters: {'learning_rate': 0.0010063655321659686, 'depth': 5, 'subsample': 0.8572761158032867, 'min_data_in_leaf': 92}. Best is trial 5 with value: 0.9637681159420289.\n[I 2024-05-22 11:33:17,076] Trial 10 finished with value: 0.9601449275362319 and parameters: {'learning_rate': 0.09428793769545603, 'depth': 10, 'subsample': 0.4505355964822271, 'min_data_in_leaf': 1}. Best is trial 5 with value: 0.9637681159420289.\n[I 2024-05-22 11:34:46,222] Trial 11 finished with value: 0.9565217391304348 and parameters: {'learning_rate': 0.005414384981150422, 'depth': 9, 'subsample': 0.52468607227434, 'min_data_in_leaf': 32}. Best is trial 5 with value: 0.9637681159420289.\n[I 2024-05-22 11:35:24,201] Trial 12 finished with value: 0.9637681159420289 and parameters: {'learning_rate': 0.017579343938218323, 'depth': 7, 'subsample': 0.6119616001222808, 'min_data_in_leaf': 19}. Best is trial 5 with value: 0.9637681159420289.\n[I 2024-05-22 11:35:50,087] Trial 13 finished with value: 0.9528985507246377 and parameters: {'learning_rate': 0.023414026616750426, 'depth': 6, 'subsample': 0.39621064478751045, 'min_data_in_leaf': 51}. Best is trial 5 with value: 0.9637681159420289.\n[I 2024-05-22 11:36:27,912] Trial 14 finished with value: 0.9565217391304348 and parameters: {'learning_rate': 0.018072594645437746, 'depth': 7, 'subsample': 0.6368962729467456, 'min_data_in_leaf': 43}. Best is trial 5 with value: 0.9637681159420289.\n[I 2024-05-22 11:36:45,368] Trial 15 finished with value: 0.9565217391304348 and parameters: {'learning_rate': 0.04821070656596229, 'depth': 4, 'subsample': 0.6013914358128695, 'min_data_in_leaf': 7}. Best is trial 5 with value: 0.9637681159420289.\n[I 2024-05-22 11:37:43,082] Trial 16 finished with value: 0.9528985507246377 and parameters: {'learning_rate': 0.010550197286533941, 'depth': 8, 'subsample': 0.3302445157153093, 'min_data_in_leaf': 60}. Best is trial 5 with value: 0.9637681159420289.\n[I 2024-05-22 11:37:58,468] Trial 17 finished with value: 0.9347826086956522 and parameters: {'learning_rate': 0.05160771323885532, 'depth': 1, 'subsample': 0.5692685861267519, 'min_data_in_leaf': 32}. Best is trial 5 with value: 0.9637681159420289.\n[I 2024-05-22 11:38:24,021] Trial 18 finished with value: 0.9565217391304348 and parameters: {'learning_rate': 0.011379535059640629, 'depth': 6, 'subsample': 0.3437773230608151, 'min_data_in_leaf': 15}. Best is trial 5 with value: 0.9637681159420289.\n[I 2024-05-22 11:38:41,280] Trial 19 finished with value: 0.9637681159420289 and parameters: {'learning_rate': 0.05328628510466526, 'depth': 4, 'subsample': 0.5154320405946248, 'min_data_in_leaf': 34}. Best is trial 5 with value: 0.9637681159420289.\n 67%|██████▋   | 2/3 [35:30<17:03, 1023.13s/it][I 2024-05-22 11:38:58,171] A new study created in memory with name: no-name-eeeeb576-4bf4-49f9-b3a8-fe36a25c97bd\n[I 2024-05-22 11:39:12,412] Trial 0 finished with value: 0.9428571428571428 and parameters: {'learning_rate': 0.0036130480720363498, 'depth': 3, 'subsample': 0.44527777867463875, 'min_data_in_leaf': 33}. Best is trial 0 with value: 0.9428571428571428.\n[I 2024-05-22 11:39:26,538] Trial 1 finished with value: 0.9 and parameters: {'learning_rate': 0.014775329185261789, 'depth': 2, 'subsample': 0.0832062379876442, 'min_data_in_leaf': 92}. Best is trial 0 with value: 0.9428571428571428.\n[I 2024-05-22 11:42:43,435] Trial 8 finished with value: 0.9428571428571428 and parameters: {'learning_rate': 0.008432593519113163, 'depth': 9, 'subsample': 0.9530314046457942, 'min_data_in_leaf': 53}. Best is trial 2 with value: 0.9523809523809523.\n[I 2024-05-22 11:42:57,107] Trial 9 finished with value: 0.9428571428571428 and parameters: {'learning_rate': 0.004202770994010411, 'depth': 2, 'subsample': 0.8114099796938169, 'min_data_in_leaf': 42}. Best is trial 2 with value: 0.9523809523809523.\n[I 2024-05-22 11:44:08,404] Trial 10 finished with value: 0.9523809523809523 and parameters: {'learning_rate': 0.0010649475295184817, 'depth': 9, 'subsample': 0.6320459077592702, 'min_data_in_leaf': 1}. Best is trial 2 with value: 0.9523809523809523.\n[I 2024-05-22 11:44:55,558] Trial 11 finished with value: 0.9428571428571428 and parameters: {'learning_rate': 0.0010012861720381009, 'depth': 8, 'subsample': 0.6545233626881407, 'min_data_in_leaf': 2}. Best is trial 2 with value: 0.9523809523809523.\n[I 2024-05-22 11:45:27,001] Trial 12 finished with value: 0.9428571428571428 and parameters: {'learning_rate': 0.0010409800320436474, 'depth': 7, 'subsample': 0.6388885032211142, 'min_data_in_leaf': 1}. Best is trial 2 with value: 0.9523809523809523.\n[I 2024-05-22 11:47:28,213] Trial 13 finished with value: 0.9476190476190476 and parameters: {'learning_rate': 0.0023379470907847655, 'depth': 10, 'subsample': 0.6887275856655531, 'min_data_in_leaf': 62}. Best is trial 2 with value: 0.9523809523809523.\n[I 2024-05-22 11:48:00,266] Trial 14 finished with value: 0.9428571428571428 and parameters: {'learning_rate': 0.002044432043687975, 'depth': 7, 'subsample': 0.9851638336478149, 'min_data_in_leaf': 19}. Best is trial 2 with value: 0.9523809523809523.\n[I 2024-05-22 11:48:22,326] Trial 15 finished with value: 0.9428571428571428 and parameters: {'learning_rate': 0.0017608988614054237, 'depth': 6, 'subsample': 0.43991990857833174, 'min_data_in_leaf': 62}. Best is trial 2 with value: 0.9523809523809523.\n[I 2024-05-22 11:50:25,932] Trial 16 finished with value: 0.9476190476190476 and parameters: {'learning_rate': 0.003684225051487701, 'depth': 10, 'subsample': 0.7355474335012033, 'min_data_in_leaf': 18}. Best is trial 2 with value: 0.9523809523809523.\n[I 2024-05-22 11:51:12,194] Trial 17 finished with value: 0.9428571428571428 and parameters: {'learning_rate': 0.0014536974374977753, 'depth': 8, 'subsample': 0.5671945085697374, 'min_data_in_leaf': 90}. Best is trial 2 with value: 0.9523809523809523.\n[I 2024-05-22 11:51:33,693] Trial 18 finished with value: 0.9380952380952381 and parameters: {'learning_rate': 0.00551768586002019, 'depth': 6, 'subsample': 0.33497935339449636, 'min_data_in_leaf': 61}. Best is trial 2 with value: 0.9523809523809523.\n[I 2024-05-22 11:52:51,656] Trial 19 finished with value: 0.9476190476190476 and parameters: {'learning_rate': 0.0025836207392984055, 'depth': 9, 'subsample': 0.8419439883780616, 'min_data_in_leaf': 29}. Best is trial 2 with value: 0.9523809523809523.\n100%|██████████| 3/3 [49:55<00:00, 998.52s/it] \n",
          "output_type": "stream"
        }
      ]
    },
    {
      "cell_type": "code",
      "source": [
        "index = pd.MultiIndex.from_arrays([[*['LogisticRegression'] * 4, *['RandomForestClassifier'] * 4, *['CatBoostClassifier'] * 4],\n",
        "                                   ['precision', 'recall', 'f1-score', 'accuracy'] * 3],\n",
        "                                  names=['model', 'metric'])\n",
        "\n",
        "result_default_prediction = \\\n",
        "    pd.DataFrame({'mean': np.array([models_dict[key]['result'] for key in models_dict.keys()])[0, :, :].flatten(),\n",
        "                  'last': np.array([models_dict[key]['result'] for key in models_dict.keys()])[1, :, :].flatten(),\n",
        "                  'prelast': np.array([models_dict[key]['result'] for key in models_dict.keys()])[2, :, :].flatten()},\n",
        "                 index=index)\n",
        "\n",
        "result_default_prediction"
      ],
      "metadata": {
        "execution": {
          "iopub.status.busy": "2024-05-22T19:37:22.782499Z",
          "iopub.execute_input": "2024-05-22T19:37:22.782938Z",
          "iopub.status.idle": "2024-05-22T19:37:22.800153Z",
          "shell.execute_reply.started": "2024-05-22T19:37:22.782906Z",
          "shell.execute_reply": "2024-05-22T19:37:22.798944Z"
        },
        "trusted": true,
        "id": "xsCL8ghK1b35",
        "outputId": "11760527-ec38-4a2b-e451-90d4b595794e"
      },
      "execution_count": null,
      "outputs": [
        {
          "execution_count": 50,
          "output_type": "execute_result",
          "data": {
            "text/plain": "                                    mean    last  prelast\nmodel                  metric                            \nLogisticRegression     precision  0.6182  0.7442   0.6964\n                       recall     0.5231  0.4923   0.6000\n                       f1-score   0.5667  0.5926   0.6446\n                       accuracy   0.7426  0.7822   0.7871\nRandomForestClassifier precision  0.9853  0.9206   0.9692\n                       recall     0.8933  0.7733   0.8400\n                       f1-score   0.9371  0.8406   0.9000\n                       accuracy   0.9674  0.9203   0.9493\nCatBoostClassifier     precision  0.9714  0.8333   0.9857\n                       recall     0.9189  0.8108   0.9324\n                       f1-score   0.9444  0.8219   0.9583\n                       accuracy   0.9619  0.8762   0.9714",
            "text/html": "<div>\n<style scoped>\n    .dataframe tbody tr th:only-of-type {\n        vertical-align: middle;\n    }\n\n    .dataframe tbody tr th {\n        vertical-align: top;\n    }\n\n    .dataframe thead th {\n        text-align: right;\n    }\n</style>\n<table border=\"1\" class=\"dataframe\">\n  <thead>\n    <tr style=\"text-align: right;\">\n      <th></th>\n      <th></th>\n      <th>mean</th>\n      <th>last</th>\n      <th>prelast</th>\n    </tr>\n    <tr>\n      <th>model</th>\n      <th>metric</th>\n      <th></th>\n      <th></th>\n      <th></th>\n    </tr>\n  </thead>\n  <tbody>\n    <tr>\n      <th rowspan=\"4\" valign=\"top\">LogisticRegression</th>\n      <th>precision</th>\n      <td>0.6182</td>\n      <td>0.7442</td>\n      <td>0.6964</td>\n    </tr>\n    <tr>\n      <th>recall</th>\n      <td>0.5231</td>\n      <td>0.4923</td>\n      <td>0.6000</td>\n    </tr>\n    <tr>\n      <th>f1-score</th>\n      <td>0.5667</td>\n      <td>0.5926</td>\n      <td>0.6446</td>\n    </tr>\n    <tr>\n      <th>accuracy</th>\n      <td>0.7426</td>\n      <td>0.7822</td>\n      <td>0.7871</td>\n    </tr>\n    <tr>\n      <th rowspan=\"4\" valign=\"top\">RandomForestClassifier</th>\n      <th>precision</th>\n      <td>0.9853</td>\n      <td>0.9206</td>\n      <td>0.9692</td>\n    </tr>\n    <tr>\n      <th>recall</th>\n      <td>0.8933</td>\n      <td>0.7733</td>\n      <td>0.8400</td>\n    </tr>\n    <tr>\n      <th>f1-score</th>\n      <td>0.9371</td>\n      <td>0.8406</td>\n      <td>0.9000</td>\n    </tr>\n    <tr>\n      <th>accuracy</th>\n      <td>0.9674</td>\n      <td>0.9203</td>\n      <td>0.9493</td>\n    </tr>\n    <tr>\n      <th rowspan=\"4\" valign=\"top\">CatBoostClassifier</th>\n      <th>precision</th>\n      <td>0.9714</td>\n      <td>0.8333</td>\n      <td>0.9857</td>\n    </tr>\n    <tr>\n      <th>recall</th>\n      <td>0.9189</td>\n      <td>0.8108</td>\n      <td>0.9324</td>\n    </tr>\n    <tr>\n      <th>f1-score</th>\n      <td>0.9444</td>\n      <td>0.8219</td>\n      <td>0.9583</td>\n    </tr>\n    <tr>\n      <th>accuracy</th>\n      <td>0.9619</td>\n      <td>0.8762</td>\n      <td>0.9714</td>\n    </tr>\n  </tbody>\n</table>\n</div>"
          },
          "metadata": {}
        }
      ]
    },
    {
      "cell_type": "markdown",
      "source": [
        "* no improvement after optuna"
      ],
      "metadata": {
        "id": "2NxYsXkY1b35"
      }
    },
    {
      "cell_type": "markdown",
      "source": [
        "## P.S.S.S. Oversampling\n",
        "*-no improvement was detected (guess because no-default class significantly prevails default class)*"
      ],
      "metadata": {
        "id": "fihQ4IAr1b35"
      }
    },
    {
      "cell_type": "code",
      "source": [
        "from imblearn.over_sampling import RandomOverSampler, SMOTE\n",
        "\n",
        "y_train0 = y_train.copy()\n",
        "\n",
        "ros = RandomOverSampler(random_state=42)\n",
        "smote = SMOTE()\n",
        "\n",
        "# fit predictor and target variable\n",
        "# X_train, y_train = ros.fit_resample(X_train, y_train)\n",
        "X_train, y_train = smote.fit_resample(X_train, y_train)\n",
        "\n",
        "print('Original dataset shape', Counter(y_train0))\n",
        "print('Resample dataset shape', Counter(y_train))"
      ],
      "metadata": {
        "execution": {
          "iopub.status.busy": "2024-05-22T19:43:11.316169Z",
          "iopub.execute_input": "2024-05-22T19:43:11.316569Z",
          "iopub.status.idle": "2024-05-22T19:43:11.552355Z",
          "shell.execute_reply.started": "2024-05-22T19:43:11.316538Z",
          "shell.execute_reply": "2024-05-22T19:43:11.551206Z"
        },
        "trusted": true,
        "id": "bCwxc9HE1b35",
        "outputId": "7c1160a6-2925-4c39-d14f-c0f3fda60d1e"
      },
      "execution_count": null,
      "outputs": [
        {
          "name": "stdout",
          "text": "Original dataset shape Counter({0: 63098, 1: 336})\nResample dataset shape Counter({0: 63098, 1: 63098})\n",
          "output_type": "stream"
        }
      ]
    }
  ]
}