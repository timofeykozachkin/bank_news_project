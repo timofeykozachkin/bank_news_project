{
  "metadata": {
    "kernelspec": {
      "language": "python",
      "display_name": "Python 3",
      "name": "python3"
    },
    "language_info": {
      "name": "python",
      "version": "3.10.13",
      "mimetype": "text/x-python",
      "codemirror_mode": {
        "name": "ipython",
        "version": 3
      },
      "pygments_lexer": "ipython3",
      "nbconvert_exporter": "python",
      "file_extension": ".py"
    },
    "kaggle": {
      "accelerator": "none",
      "dataSources": [
        {
          "sourceId": 843399,
          "sourceType": "datasetVersion",
          "datasetId": 37495
        },
        {
          "sourceId": 1056143,
          "sourceType": "datasetVersion",
          "datasetId": 584886
        },
        {
          "sourceId": 8189638,
          "sourceType": "datasetVersion",
          "datasetId": 4849719
        },
        {
          "sourceId": 8200033,
          "sourceType": "datasetVersion",
          "datasetId": 4857622
        },
        {
          "sourceId": 8459467,
          "sourceType": "datasetVersion",
          "datasetId": 5042439
        },
        {
          "sourceId": 8536941,
          "sourceType": "datasetVersion",
          "datasetId": 5099339
        },
        {
          "sourceId": 8555286,
          "sourceType": "datasetVersion",
          "datasetId": 5112737
        }
      ],
      "dockerImageVersionId": 30673,
      "isInternetEnabled": true,
      "language": "python",
      "sourceType": "notebook",
      "isGpuEnabled": false
    },
    "colab": {
      "provenance": []
    }
  },
  "nbformat_minor": 0,
  "nbformat": 4,
  "cells": [
    {
      "cell_type": "code",
      "source": [
        "# !pip install transformers\n",
        "# !pip install lightgbm==3.2.1\n",
        "!pip install pymorphy2"
      ],
      "metadata": {
        "execution": {
          "iopub.status.busy": "2024-05-31T06:47:56.259738Z",
          "iopub.execute_input": "2024-05-31T06:47:56.261114Z",
          "iopub.status.idle": "2024-05-31T06:48:13.800693Z",
          "shell.execute_reply.started": "2024-05-31T06:47:56.261064Z",
          "shell.execute_reply": "2024-05-31T06:48:13.798775Z"
        },
        "trusted": true,
        "id": "EBg5sDGqGnsv",
        "outputId": "f3438f5b-9f45-4e13-8926-0ba7fdc3e10b"
      },
      "execution_count": null,
      "outputs": [
        {
          "name": "stdout",
          "text": "Requirement already satisfied: pymorphy2 in /opt/conda/lib/python3.10/site-packages (0.9.1)\nRequirement already satisfied: dawg-python>=0.7.1 in /opt/conda/lib/python3.10/site-packages (from pymorphy2) (0.7.2)\nRequirement already satisfied: pymorphy2-dicts-ru<3.0,>=2.4 in /opt/conda/lib/python3.10/site-packages (from pymorphy2) (2.4.417127.4579844)\nRequirement already satisfied: docopt>=0.6 in /opt/conda/lib/python3.10/site-packages (from pymorphy2) (0.6.2)\n",
          "output_type": "stream"
        }
      ]
    },
    {
      "cell_type": "code",
      "source": [
        "import re\n",
        "import scipy\n",
        "import numpy as np\n",
        "import pandas as pd\n",
        "import seaborn as sns\n",
        "import matplotlib.pyplot as plt\n",
        "from pymorphy2 import MorphAnalyzer\n",
        "from nltk.corpus import stopwords\n",
        "from functools import lru_cache\n",
        "from multiprocessing import Pool\n",
        "from tqdm import tqdm\n",
        "\n",
        "from sklearn.preprocessing import StandardScaler, OneHotEncoder, MinMaxScaler\n",
        "from sklearn.model_selection import train_test_split, KFold\n",
        "from sklearn.metrics import accuracy_score, precision_score, recall_score, f1_score, mean_squared_error, r2_score, mean_absolute_error, mean_absolute_percentage_error\n",
        "from sklearn.pipeline import Pipeline\n",
        "from sklearn.compose import ColumnTransformer\n",
        "from sklearn.ensemble import RandomForestClassifier, ExtraTreesClassifier, RandomForestRegressor\n",
        "from sklearn.feature_extraction.text import TfidfVectorizer\n",
        "from collections import Counter\n",
        "from catboost import CatBoostClassifier, CatBoostRegressor\n",
        "from sklearn.svm import LinearSVC, LinearSVR\n",
        "from sklearn.linear_model import LogisticRegression, SGDClassifier, SGDRegressor, Ridge\n",
        "from lightgbm import LGBMClassifier, LGBMRegressor\n",
        "from gensim.models import Word2Vec\n",
        "from transformers import (\n",
        "    AutoModelForSequenceClassification, AutoTokenizer, AutoModelForMaskedLM,\n",
        "    BertForSequenceClassification, BertTokenizer)\n",
        "\n",
        "import torch\n",
        "import torch.nn as nn\n",
        "import torch.optim as optim\n",
        "from torch.utils.data import Dataset, DataLoader\n",
        "\n",
        "from IPython.display import clear_output\n",
        "import logging\n",
        "import multiprocessing\n",
        "import gensim\n",
        "from time import time\n",
        "\n",
        "# import fasttext.util\n",
        "# fasttext.util.download_model('ru', if_exists='ignore')\n",
        "# ft = fasttext.load_model('cc.ru.300.bin')\n",
        "\n",
        "import os\n",
        "for dirname, _, filenames in os.walk('/kaggle/input'):\n",
        "    for filename in filenames:\n",
        "        print(os.path.join(dirname, filename))"
      ],
      "metadata": {
        "_uuid": "8f2839f25d086af736a60e9eeb907d3b93b6e0e5",
        "_cell_guid": "b1076dfc-b9ad-4769-8c92-a6c4dae69d19",
        "execution": {
          "iopub.status.busy": "2024-05-31T06:48:16.721318Z",
          "iopub.execute_input": "2024-05-31T06:48:16.721874Z",
          "iopub.status.idle": "2024-05-31T06:48:54.137056Z",
          "shell.execute_reply.started": "2024-05-31T06:48:16.721823Z",
          "shell.execute_reply": "2024-05-31T06:48:54.135443Z"
        },
        "trusted": true,
        "id": "rizMPniOGnsw",
        "outputId": "f4e3f4ca-1782-4a91-e27a-df428d9efa69"
      },
      "execution_count": null,
      "outputs": [
        {
          "name": "stdout",
          "text": "/kaggle/input/del-experiment-stock-price/stock_price.csv\n/kaggle/input/sber-price-hist/---.-ru0009029540.xlsx\n/kaggle/input/corpus-of-russian-news-articles-from-lenta/lenta-ru-news.csv\n/kaggle/input/sentiment-scores-new/title_sentiment.xlsx\n/kaggle/input/sentiment-scores-new/lemmas_sentiment.xlsx\n/kaggle/input/bankdefaultsinrussia/dataset.csv\n/kaggle/input/test-to-delete/test.json\n/kaggle/input/stocks/BSPB.xlsx\n/kaggle/input/stocks/VTBR.xlsx\n/kaggle/input/stocks/SBER.xlsx\n",
          "output_type": "stream"
        }
      ]
    },
    {
      "cell_type": "markdown",
      "source": [
        "# II. DL\n",
        "\n",
        "*Prediciton of news influence on bank return and risk indicators*\n",
        "\n",
        "Goals:\n",
        "- to analyze news data, combine different sources of information\n",
        "- initially, to distinguish financial/economic news data from other types; later, to parse more these types of news\n",
        "- to identify metrics how to evaluate model quality\n",
        "- to experiment with LLM models\n",
        "- to add predicted default by ML model as features for DL model + possibly, add other features used for learning in Part I  "
      ],
      "metadata": {
        "id": "ud-tI7mEGnsx"
      }
    },
    {
      "cell_type": "markdown",
      "source": [
        "## 1. News Dataset"
      ],
      "metadata": {
        "id": "SlyGtwKDGnsy"
      }
    },
    {
      "cell_type": "markdown",
      "source": [
        "### 1.1. News from 2010 to 2017\n",
        "*- I use titles of news but the whole text also might be useful!*"
      ],
      "metadata": {
        "id": "ljkUcXHCGnsy"
      }
    },
    {
      "cell_type": "code",
      "source": [
        "# lenta-ru-news.csv has 739351 rows in reality, but we filter news later 2010\n",
        "df_news = pd.read_csv('/kaggle/input/corpus-of-russian-news-articles-from-lenta/lenta-ru-news.csv', delimiter=',')\n",
        "df_news['date'] = pd.to_datetime(df_news['date'])\n",
        "df_news = df_news.loc[(df_news['date'] >= '2009-12-01') &\n",
        "                      (df_news['date'] <= '2017-12-01')].reset_index(drop=True)\n",
        "\n",
        "df_news['sym_len'] = df_news.title.apply(len)\n",
        "df_news['word_len'] = df_news.title.apply(lambda x: len(x.split()))\n",
        "\n",
        "df_news = df_news[df_news['topic'].isin(['Экономика', 'Мир', 'Россия'])]\n",
        "# df_news.to_csv('lenta-ru-news-2010-to-2017.csv', index=False)"
      ],
      "metadata": {
        "execution": {
          "iopub.status.busy": "2024-05-31T06:49:11.026838Z",
          "iopub.execute_input": "2024-05-31T06:49:11.028035Z",
          "iopub.status.idle": "2024-05-31T06:50:14.306825Z",
          "shell.execute_reply.started": "2024-05-31T06:49:11.027978Z",
          "shell.execute_reply": "2024-05-31T06:50:14.305379Z"
        },
        "trusted": true,
        "id": "QSlRRBVfGnsy",
        "outputId": "b2e6e9e5-2e67-4192-ee89-ba6812355ef7"
      },
      "execution_count": null,
      "outputs": [
        {
          "name": "stderr",
          "text": "/tmp/ipykernel_129/552543655.py:2: DtypeWarning: Columns (3) have mixed types. Specify dtype option on import or set low_memory=False.\n  df_news = pd.read_csv('/kaggle/input/corpus-of-russian-news-articles-from-lenta/lenta-ru-news.csv', delimiter=',')\n",
          "output_type": "stream"
        }
      ]
    },
    {
      "cell_type": "markdown",
      "source": [
        "### 1.2. Lemmatizer for news"
      ],
      "metadata": {
        "id": "-Pkfgi2FGnsy"
      }
    },
    {
      "cell_type": "code",
      "source": [
        "m = MorphAnalyzer()\n",
        "regex = re.compile(\"[А-Яа-яA-z]+\")\n",
        "\n",
        "def words_only(text, regex=regex):\n",
        "    try:\n",
        "        return regex.findall(text.lower())\n",
        "    except:\n",
        "        return []\n",
        "\n",
        "@lru_cache(maxsize=128)\n",
        "def lemmatize_word(token, pymorphy=m):\n",
        "    return pymorphy.parse(token)[0].normal_form\n",
        "\n",
        "def lemmatize_text(text):\n",
        "    return [lemmatize_word(w) for w in text]\n",
        "\n",
        "mystopwords = stopwords.words('russian')\n",
        "def remove_stopwords(lemmas, stopwords = mystopwords):\n",
        "    return [w for w in lemmas if not w in stopwords and len(w) > 3]\n",
        "\n",
        "def clean_text(text):\n",
        "    tokens = words_only(text)\n",
        "    lemmas = lemmatize_text(tokens)\n",
        "    return ' '.join(remove_stopwords(lemmas))\n",
        "\n",
        "with Pool(4) as p:\n",
        "    lemmas = list(tqdm(p.imap(clean_text, df_news['title']), total=len(df_news)))\n",
        "\n",
        "df_news['lemmas'] = lemmas"
      ],
      "metadata": {
        "execution": {
          "iopub.status.busy": "2024-05-31T06:50:15.833315Z",
          "iopub.execute_input": "2024-05-31T06:50:15.833995Z",
          "iopub.status.idle": "2024-05-31T06:53:12.515070Z",
          "shell.execute_reply.started": "2024-05-31T06:50:15.833943Z",
          "shell.execute_reply": "2024-05-31T06:53:12.513484Z"
        },
        "trusted": true,
        "id": "zPIlHafSGnsy",
        "outputId": "c01ae477-a63a-4091-ce0d-e5441f10fe14"
      },
      "execution_count": null,
      "outputs": [
        {
          "name": "stderr",
          "text": "/opt/conda/lib/python3.10/multiprocessing/popen_fork.py:66: RuntimeWarning: os.fork() was called. os.fork() is incompatible with multithreaded code, and JAX is multithreaded, so this will likely lead to a deadlock.\n  self.pid = os.fork()\n100%|██████████| 168333/168333 [02:55<00:00, 956.58it/s] \n",
          "output_type": "stream"
        }
      ]
    },
    {
      "cell_type": "markdown",
      "source": [
        "### 1.3. Target features"
      ],
      "metadata": {
        "id": "fN-3wm25Gnsy"
      }
    },
    {
      "cell_type": "markdown",
      "source": [
        "#### 1.3.1. Price History from 2010 to 2017\n",
        "3 stocks"
      ],
      "metadata": {
        "id": "pUpLZwJ5Gnsy"
      }
    },
    {
      "cell_type": "code",
      "source": [
        "# prepare regression data\n",
        "stocks_files = ['SBER.xlsx', 'VTBR.xlsx','BSPB.xlsx']\n",
        "df_stocks_targets_reg = pd.DataFrame(\n",
        "    {'date': pd.read_excel(f'/kaggle/input/stocks/{stocks_files[0]}', header=1)['Дата'].tolist()})\n",
        "\n",
        "# filter for news period\n",
        "df_stocks_targets_reg = df_stocks_targets_reg.loc[(df_stocks_targets_reg['date'] >= '2009-11-01') &\n",
        "                                                  (df_stocks_targets_reg['date'] <= '2017-12-01')].dropna()\n",
        "\n",
        "# prepare classification data\n",
        "df_stocks_targets_cls = df_stocks_targets_reg.copy()\n",
        "\n",
        "# prepare extra data to experiment with returns\n",
        "df_stocks_returns_reg = df_stocks_targets_reg.copy()\n",
        "\n",
        "# prepare extra data for classification of major changes (+- 2% of yesterday price)\n",
        "df_stocks_major_cls = df_stocks_targets_reg.copy()\n",
        "\n",
        "\n",
        "for f in stocks_files:\n",
        "    df_stock = pd.read_excel(f'/kaggle/input/stocks/{f}', header=1).rename(columns={'Дата': 'date', 'Avg': f[:4]})\n",
        "    df_stock.loc[df_stock[f[:4]].isna(), f[:4]] = df_stock.loc[df_stock[f[:4]].isna(), 'Закрытие']\n",
        "    df_stocks_targets_reg = df_stocks_targets_reg.merge(df_stock[['date', f[:4]]], how='left', on='date')\n",
        "    df_stocks_targets_reg = df_stocks_targets_reg.dropna()\n",
        "\n",
        "    df_stock['up_down'] = np.where(df_stock[f[:4]].diff() < 0, -1, 1)\n",
        "    df_stocks_targets_cls = df_stocks_targets_cls.merge(df_stock[['date', 'up_down']], how='left', on='date')\\\n",
        "                                                 .rename(columns={'up_down': f[:4]})\n",
        "\n",
        "    df_stocks_returns_reg[f[:4]] = df_stocks_targets_reg[f[:4]].pct_change(fill_method=None)\n",
        "    df_stocks_returns_reg = df_stocks_returns_reg.dropna()\n",
        "\n",
        "    df_stock['up_down_class'] = np.select(\n",
        "        condlist=[\n",
        "            (df_stock[f[:4]].diff() < -2),\n",
        "            (df_stock[f[:4]].diff() >= -2) & (df_stock[f[:4]].diff() < 0),\n",
        "            (df_stock[f[:4]].diff() >= 0) & (df_stock[f[:4]].diff() <= 2),\n",
        "            (df_stock[f[:4]].diff() > 2)],\n",
        "        choicelist=['down', 'small down', 'small up', 'up'], default='small down')\n",
        "    df_stocks_major_cls = df_stocks_major_cls.merge(df_stock[['date', 'up_down_class']], how='left', on='date')\\\n",
        "                                             .rename(columns={'up_down_class': f[:4]})"
      ],
      "metadata": {
        "execution": {
          "iopub.status.busy": "2024-05-31T09:57:17.287540Z",
          "iopub.execute_input": "2024-05-31T09:57:17.288100Z",
          "iopub.status.idle": "2024-05-31T09:57:21.463686Z",
          "shell.execute_reply.started": "2024-05-31T09:57:17.288065Z",
          "shell.execute_reply": "2024-05-31T09:57:21.462364Z"
        },
        "trusted": true,
        "id": "uLYXptpXGnsz"
      },
      "execution_count": null,
      "outputs": []
    },
    {
      "cell_type": "code",
      "source": [
        "print('regression data\\n', df_stocks_targets_reg.head())\n",
        "print('\\nclassification data\\n', df_stocks_targets_cls.head())\n",
        "print('\\nregression data with returns\\n', df_stocks_returns_reg.head())\n",
        "print('\\nclassification of major changes (+- 2% of yesterday price)\\n:', df_stocks_major_cls.head())"
      ],
      "metadata": {
        "execution": {
          "iopub.status.busy": "2024-05-31T09:57:24.717234Z",
          "iopub.execute_input": "2024-05-31T09:57:24.717776Z",
          "iopub.status.idle": "2024-05-31T09:57:24.738303Z",
          "shell.execute_reply.started": "2024-05-31T09:57:24.717737Z",
          "shell.execute_reply": "2024-05-31T09:57:24.736489Z"
        },
        "trusted": true,
        "id": "owPc8mjAGnsz",
        "outputId": "8c2d6826-a8f3-4344-f519-03c85897255e"
      },
      "execution_count": null,
      "outputs": [
        {
          "name": "stdout",
          "text": "regression data\n         date   SBER    VTBR   BSPB\n0 2010-01-11  87.30  0.0740  84.91\n1 2010-01-12  85.85  0.0727  82.63\n2 2010-01-13  85.93  0.0737  86.01\n3 2010-01-14  87.43  0.0751  95.75\n4 2010-01-15  88.01  0.0746  96.98\n\nclassification data\n         date  SBER  VTBR  BSPB\n0 2010-01-11     1     1     1\n1 2010-01-12    -1    -1    -1\n2 2010-01-13     1     1     1\n3 2010-01-14     1     1     1\n4 2010-01-15     1    -1     1\n\nregression data with returns\n         date      SBER      VTBR      BSPB\n1 2010-01-12 -0.016609 -0.017568 -0.026852\n2 2010-01-13  0.000932  0.013755  0.040905\n3 2010-01-14  0.017456  0.018996  0.113243\n4 2010-01-15  0.006634 -0.006658  0.012846\n5 2010-01-18  0.018180  0.004021  0.039390\n\nclassification of major changes (+- 2% of yesterday price)\n:         date        SBER        VTBR      BSPB\n0 2010-01-11  small down    small up  small up\n1 2010-01-12  small down  small down      down\n2 2010-01-13    small up    small up        up\n3 2010-01-14    small up    small up        up\n4 2010-01-15    small up  small down  small up\n",
          "output_type": "stream"
        }
      ]
    },
    {
      "cell_type": "markdown",
      "source": [
        "#### 1.4.2. Banks' indicators data (`bankdefaultsinrussia`)"
      ],
      "metadata": {
        "id": "b_bC1D8PGnsz"
      }
    },
    {
      "cell_type": "code",
      "source": [
        "df = pd.read_csv('/kaggle/input/bankdefaultsinrussia/dataset.csv')\n",
        "df = df.dropna().reset_index(drop=True)\n",
        "df['дата'] = pd.to_datetime(df['дата'])\n",
        "df = df.astype({'лицензия': 'int', 'default': 'int', 'msk_spb': 'int'})\n",
        "df = df.rename(columns={'лицензия': 'licence_num', 'дата': 'date'})\n",
        "\n",
        "# feature engineering\n",
        "df['month'] = df['date'].dt.month\n",
        "df['year'] = df['date'].dt.year\n",
        "df['day_of_week'] = pd.DatetimeIndex(df['date']).dayofweek\n",
        "# df['yearmonth'] = df.apply(lambda row: 100 * row['year'] + row['month'], axis = 1)\n",
        "\n",
        "df['n_reports'] = df.groupby('licence_num')['licence_num'].transform('count')\n",
        "df['occurence'] = df.groupby(['licence_num']).cumcount()+1"
      ],
      "metadata": {
        "execution": {
          "iopub.status.busy": "2024-05-31T09:57:27.611636Z",
          "iopub.execute_input": "2024-05-31T09:57:27.612179Z",
          "iopub.status.idle": "2024-05-31T09:57:28.572386Z",
          "shell.execute_reply.started": "2024-05-31T09:57:27.612138Z",
          "shell.execute_reply": "2024-05-31T09:57:28.571135Z"
        },
        "trusted": true,
        "id": "FUA9Y_61Gnsz"
      },
      "execution_count": null,
      "outputs": []
    },
    {
      "cell_type": "markdown",
      "source": [
        "*- let's use some of the features as target*"
      ],
      "metadata": {
        "id": "cpjq7n9zGnsz"
      }
    },
    {
      "cell_type": "code",
      "source": [
        "df_indicators = df[['licence_num', 'date', 'ROA', 'ROE', 'net_assets', 'occurence']]\n",
        "df_indicators.sample(5)"
      ],
      "metadata": {
        "execution": {
          "iopub.status.busy": "2024-05-31T09:57:29.756268Z",
          "iopub.execute_input": "2024-05-31T09:57:29.756734Z",
          "iopub.status.idle": "2024-05-31T09:57:29.782422Z",
          "shell.execute_reply.started": "2024-05-31T09:57:29.756699Z",
          "shell.execute_reply": "2024-05-31T09:57:29.780950Z"
        },
        "trusted": true,
        "id": "hvFhwNjiGnsz",
        "outputId": "dc2250a9-f99e-422b-ed72-86d631758773"
      },
      "execution_count": null,
      "outputs": [
        {
          "execution_count": 324,
          "output_type": "execute_result",
          "data": {
            "text/plain": "       licence_num       date     ROA      ROE   net_assets  occurence\n56902         3172 2014-03-01   168.0    717.0    4182149.0         49\n31594         2209 2017-09-01  1818.0  18857.0   10181285.0         92\n52574         3006 2011-10-01  -215.0   -588.0     929882.0         19\n60070         3252 2014-07-01   216.0   2333.0  167420224.0         47\n17496         1194 2010-05-01   184.0   1661.0   23814980.0          4",
            "text/html": "<div>\n<style scoped>\n    .dataframe tbody tr th:only-of-type {\n        vertical-align: middle;\n    }\n\n    .dataframe tbody tr th {\n        vertical-align: top;\n    }\n\n    .dataframe thead th {\n        text-align: right;\n    }\n</style>\n<table border=\"1\" class=\"dataframe\">\n  <thead>\n    <tr style=\"text-align: right;\">\n      <th></th>\n      <th>licence_num</th>\n      <th>date</th>\n      <th>ROA</th>\n      <th>ROE</th>\n      <th>net_assets</th>\n      <th>occurence</th>\n    </tr>\n  </thead>\n  <tbody>\n    <tr>\n      <th>56902</th>\n      <td>3172</td>\n      <td>2014-03-01</td>\n      <td>168.0</td>\n      <td>717.0</td>\n      <td>4182149.0</td>\n      <td>49</td>\n    </tr>\n    <tr>\n      <th>31594</th>\n      <td>2209</td>\n      <td>2017-09-01</td>\n      <td>1818.0</td>\n      <td>18857.0</td>\n      <td>10181285.0</td>\n      <td>92</td>\n    </tr>\n    <tr>\n      <th>52574</th>\n      <td>3006</td>\n      <td>2011-10-01</td>\n      <td>-215.0</td>\n      <td>-588.0</td>\n      <td>929882.0</td>\n      <td>19</td>\n    </tr>\n    <tr>\n      <th>60070</th>\n      <td>3252</td>\n      <td>2014-07-01</td>\n      <td>216.0</td>\n      <td>2333.0</td>\n      <td>167420224.0</td>\n      <td>47</td>\n    </tr>\n    <tr>\n      <th>17496</th>\n      <td>1194</td>\n      <td>2010-05-01</td>\n      <td>184.0</td>\n      <td>1661.0</td>\n      <td>23814980.0</td>\n      <td>4</td>\n    </tr>\n  </tbody>\n</table>\n</div>"
          },
          "metadata": {}
        }
      ]
    },
    {
      "cell_type": "markdown",
      "source": [
        "### 1.3. Merge data and generate features\n",
        "Datasets list:\n",
        "* `df_news` - full news dataset\n",
        "* `df_stocks_targets_cls` - timeseries with stocks price changes as targets for classification\n",
        "* `df_stocks_major_cls` - timeseries with degrees of stocks price changes as targets for classification\n",
        "* `df_stocks_targets_reg` - timeseries with stocks prices as targets for regression\n",
        "* `df_stocks_targets_reg` - timeseries with stocks returns as targets for regression\n",
        "* `df_indicators` - timeseries with different business indicators as targets for regression\n",
        "\n",
        "Each training datasets will consist of:\n",
        "1. Shifts for last 10 periods - input size `(10, 1)`\n",
        "2. (if it's part of experiment) Sentiment score - input size `(11, 1)`\n",
        "3. (if it's part of experiment) Embeddings - input size `(10 + embeddings shape, 1)`"
      ],
      "metadata": {
        "id": "SkcozaB_Gnsz"
      }
    },
    {
      "cell_type": "code",
      "source": [
        "# for data without tokenizers and sentiment\n",
        "def add_shifts_and_filter(df, target, multi_bank_series_feature=None, date_feature='date', dropna=True,\n",
        "                          reg_data_for_cls_task=None):\n",
        "    data = df.copy()\n",
        "\n",
        "    if not multi_bank_series_feature:\n",
        "        if reg_data_for_cls_task is None:\n",
        "            for i in range(1, 11):\n",
        "                data[f'{target}_shift{i}'] = data[target].shift(i)\n",
        "        else:\n",
        "            for i in range(1, 11):\n",
        "                data[f'{target}_shift{i}'] = reg_data_for_cls_task[target].shift(i)\n",
        "        data = data.loc[:, [date_feature,\n",
        "                            *data.columns[data.columns.str.contains(target)].tolist()]]\n",
        "\n",
        "    else:\n",
        "        data['occurence'] = data.groupby([multi_bank_series_feature]).cumcount() + 1\n",
        "        for i in range(1, 11):\n",
        "            data['prev'] = data['occurence'] - i\n",
        "            data = data.merge(data[[multi_bank_series_feature, target, 'occurence']],\n",
        "                              how='left', left_on=[multi_bank_series_feature, 'prev'],\n",
        "                              right_on=[multi_bank_series_feature, 'occurence'],\n",
        "                              suffixes=('', f'_shift{i}')).drop(columns=['prev', f'occurence_shift{i}'])\n",
        "        data = data.loc[:, [multi_bank_series_feature, date_feature,\n",
        "                            *data.columns[data.columns.str.contains(target)].tolist()]]\n",
        "\n",
        "    if dropna:\n",
        "        return data.dropna()\n",
        "    else:\n",
        "        return data"
      ],
      "metadata": {
        "execution": {
          "iopub.status.busy": "2024-05-31T09:57:32.476533Z",
          "iopub.execute_input": "2024-05-31T09:57:32.477051Z",
          "iopub.status.idle": "2024-05-31T09:57:32.491994Z",
          "shell.execute_reply.started": "2024-05-31T09:57:32.477011Z",
          "shell.execute_reply": "2024-05-31T09:57:32.490689Z"
        },
        "trusted": true,
        "id": "9rXJKQQjGnsz"
      },
      "execution_count": null,
      "outputs": []
    },
    {
      "cell_type": "code",
      "source": [
        "# for data with tokenizers and sentiment\n",
        "def aggregate_and_merge_daily(data_news, data_target, date_field='date',\n",
        "                              lemmas_field='lemmas', dropna=True):\n",
        "    dts = data_news[date_field].unique().tolist()\n",
        "    date_words = pd.DataFrame({date_field: [], lemmas_field: []})\n",
        "\n",
        "    for d in tqdm(dts):\n",
        "        day_lemmas = [' '.join(data_news.loc[data_news[date_field] == d, lemmas_field].values.tolist())]\n",
        "        new_date_words = pd.DataFrame({date_field: [d], lemmas_field: day_lemmas})\n",
        "        if date_words.empty:\n",
        "            date_words = new_date_words\n",
        "        else:\n",
        "            date_words = pd.concat([date_words, new_date_words], axis=0, ignore_index=True)\n",
        "\n",
        "    #     date_words['sym_len'] = date_words.lemmas.apply(len)\n",
        "    #     date_words['word_len'] = date_words.lemmas.apply(lambda x: len(x.split()))\n",
        "\n",
        "    date_words = date_words.merge(data_target, how='left', on=date_field)\n",
        "\n",
        "    if dropna:\n",
        "        return date_words.dropna()\n",
        "    else:\n",
        "        return date_words"
      ],
      "metadata": {
        "execution": {
          "iopub.status.busy": "2024-05-31T09:57:34.216478Z",
          "iopub.execute_input": "2024-05-31T09:57:34.216960Z",
          "iopub.status.idle": "2024-05-31T09:57:34.228226Z",
          "shell.execute_reply.started": "2024-05-31T09:57:34.216923Z",
          "shell.execute_reply": "2024-05-31T09:57:34.226731Z"
        },
        "trusted": true,
        "id": "V04jKrHfGns0"
      },
      "execution_count": null,
      "outputs": []
    },
    {
      "cell_type": "code",
      "source": [
        "def transform_target_series(data, target_col, scaler, date_feature='date'):\n",
        "    if scaler is not None:\n",
        "        transformed_data = scaler.fit_transform(data[target_col].to_numpy().reshape(-1, 1)).squeeze()\n",
        "        transformed_data = pd.Series(transformed_data, name=target_col)\n",
        "    else:\n",
        "        transformed_data = data[target_col]\n",
        "    return pd.DataFrame({date_feature: data[date_feature].values, target_col: transformed_data}), scaler"
      ],
      "metadata": {
        "execution": {
          "iopub.status.busy": "2024-05-31T09:57:35.386301Z",
          "iopub.execute_input": "2024-05-31T09:57:35.386795Z",
          "iopub.status.idle": "2024-05-31T09:57:35.398706Z",
          "shell.execute_reply.started": "2024-05-31T09:57:35.386758Z",
          "shell.execute_reply": "2024-05-31T09:57:35.397354Z"
        },
        "trusted": true,
        "id": "r3oLpfdUGns0"
      },
      "execution_count": null,
      "outputs": []
    },
    {
      "cell_type": "code",
      "source": [
        "# add_shifts_and_filter(df_stocks_targets_reg, 'SBER')\n",
        "# add_shifts_and_filter(df_stocks_targets_cls, 'SBER', reg_data_for_cls_task=df_stocks_targets_reg)\n",
        "# add_shifts_and_filter(df_indicators, 'ROE', multi_bank_series_feature='licence_num')\n",
        "searchfor = ['банк', 'втб', 'сбер', 'плат', 'кредит', 'депозит', 'долг',\n",
        "             'доллар', 'рубль', 'нефть', 'доход', 'экономика', 'оценка', 'бизнес', 'правительство',\n",
        "             'дефолт', 'компания', 'альфа', 'акционер', 'клиент', 'актив', 'суд', 'обвал']\n",
        "df_news_filtered = df_news[df_news['lemmas'].str.lower().str.contains('|'.join(searchfor))].reset_index(drop=True)\n",
        "df_news_filtered = df_news_filtered.merge(df_news[(df_news.topic == 'Экономика') & (~df_news.date.isin(df_news_filtered.date))]\\\n",
        "                                          .groupby('date', as_index=False)['title'].first(),\n",
        "                                          how='left', on='date')\n",
        "date_words_reg = aggregate_and_merge_daily(df_news_filtered, df_stocks_targets_reg).reset_index(drop=True)\n",
        "date_words_cls = aggregate_and_merge_daily(df_news_filtered, df_stocks_targets_cls).reset_index(drop=True)"
      ],
      "metadata": {
        "execution": {
          "iopub.status.busy": "2024-05-31T09:57:42.772488Z",
          "iopub.execute_input": "2024-05-31T09:57:42.772978Z",
          "iopub.status.idle": "2024-05-31T09:57:53.742456Z",
          "shell.execute_reply.started": "2024-05-31T09:57:42.772944Z",
          "shell.execute_reply": "2024-05-31T09:57:53.740688Z"
        },
        "trusted": true,
        "id": "j3FA7nhRGns0",
        "outputId": "9edcad03-f095-4d3a-efdc-7ab3d24578a6"
      },
      "execution_count": null,
      "outputs": [
        {
          "name": "stderr",
          "text": "100%|██████████| 2763/2763 [00:04<00:00, 578.35it/s]\n100%|██████████| 2763/2763 [00:04<00:00, 579.86it/s]\n",
          "output_type": "stream"
        }
      ]
    },
    {
      "cell_type": "markdown",
      "source": [
        "## 2. Models and Vectorizers"
      ],
      "metadata": {
        "id": "41BccgnvGns0"
      }
    },
    {
      "cell_type": "markdown",
      "source": [
        "2 types of tasks can be solved with this data:\n",
        "\n",
        "> CLASSIFICATION\n",
        ">\n",
        "> *- prediction of target movement direction - up/down*\n",
        "\n",
        "> REGRESSION\n",
        ">\n",
        "> *- prediction of future target value*\n",
        "\n",
        "All tasks data will be considered in several ways:\n",
        "* different targets - stock price (3 banks) / banks' business indicators from data of ML part (defined above)\n",
        "* Classic models / DL models\n",
        "* with / without sentiment from DL\n",
        "* without tokenizer / TF-IDF / Word2Vec\n",
        "\n",
        "The result of each task for every considered target will be presented in this table:\n",
        "\n",
        "| | | without sentiment | | | with sentiment | |\n",
        "|:-:|:-:|:-:|:-:|:-:|:-:|:-:|\n",
        "| **model** | **no text data** | **TF-IDF** | **Word2Vec** | **without tokenizer** | **TF-IDF**     | **Word2Vec** |\n",
        "| ... | ... | ... | ... | ... | ... |\n"
      ],
      "metadata": {
        "id": "EC-4L_opGns0"
      }
    },
    {
      "cell_type": "markdown",
      "source": [
        "### 2.1. Models"
      ],
      "metadata": {
        "id": "P80WZb7JGns0"
      }
    },
    {
      "cell_type": "markdown",
      "source": [
        "#### 2.1.1. Classic Models"
      ],
      "metadata": {
        "id": "TvjznKXcGns0"
      }
    },
    {
      "cell_type": "code",
      "source": [
        "# CLASSIFICATION\n",
        "def get_ml_models_cls(task_type=\"GPU\"):\n",
        "    model_lr = LogisticRegression(random_state=42, max_iter=5000, warm_start=True, verbose=False, n_jobs=-1)\n",
        "    model_svc = LinearSVC(loss=\"squared_hinge\", verbose=False, max_iter=5000, random_state=42, penalty='l2', dual=False)\n",
        "    model_rf = RandomForestClassifier(random_state=42, verbose=False, n_jobs=-1)\n",
        "    model_cb = CatBoostClassifier(random_seed=7, silent=True, task_type=task_type)\n",
        "    model_lgbm = LGBMClassifier(n_estimators=300, verbose=0, n_jobs=-1)\n",
        "    models_dict = {'LogisticRegression': model_lr,\n",
        "                   'LinearSVC': model_svc,\n",
        "                   'RandomForestClassifier': model_rf,\n",
        "                   'CatBoostClassifier': model_cb,\n",
        "                   'LGBMClassifier': model_lgbm}\n",
        "\n",
        "    result_dict = {'LogisticRegression': {'accuracy': [], 'predictions': []},\n",
        "                   'LinearSVC': {'accuracy': [], 'predictions': []},\n",
        "                   'RandomForestClassifier': {'accuracy': [], 'predictions': []},\n",
        "                   'CatBoostClassifier': {'accuracy': [], 'predictions': []},\n",
        "                   'LGBMClassifier': {'accuracy': [], 'predictions': []}}\n",
        "    return models_dict, result_dict"
      ],
      "metadata": {
        "execution": {
          "iopub.status.busy": "2024-05-31T09:58:00.758205Z",
          "iopub.execute_input": "2024-05-31T09:58:00.758846Z",
          "iopub.status.idle": "2024-05-31T09:58:00.772577Z",
          "shell.execute_reply.started": "2024-05-31T09:58:00.758808Z",
          "shell.execute_reply": "2024-05-31T09:58:00.771236Z"
        },
        "trusted": true,
        "id": "h7UNxsdbGns0"
      },
      "execution_count": null,
      "outputs": []
    },
    {
      "cell_type": "code",
      "source": [
        "# REGRESSION\n",
        "def get_ml_models_reg(task_type=\"GPU\", verb=False):\n",
        "    model_lr_reg = Ridge(random_state=42, max_iter=5000)\n",
        "    model_svc_reg = LinearSVR(verbose=verb, max_iter=5000)\n",
        "    model_sgd_reg = SGDRegressor(verbose=verb, max_iter=5000, warm_start=True, loss='squared_error')\n",
        "    model_cb_reg = CatBoostRegressor(random_seed=7, silent=not verb, task_type=task_type, iterations=1000)\n",
        "    model_lgbm_reg = LGBMRegressor(n_estimators=300, verbose=int(verb), n_jobs=-1)\n",
        "    models_dict = {'Ridge': model_lr_reg,\n",
        "                   'LinearSVR': model_svc_reg,\n",
        "                   'SGDRegressor': model_sgd_reg,\n",
        "                   'CatBoostRegressor': model_cb_reg,\n",
        "                   'LGBMRegressor': model_lgbm_reg}\n",
        "\n",
        "    result_dict = {'Ridge': {'mse': 0, 'mae': 0, 'mape': 0, 'predictions': []},\n",
        "                   'LinearSVR': {'mse': 0, 'mae': 0, 'mape': 0, 'predictions': []},\n",
        "                   'SGDRegressor': {'mse': 0, 'mae': 0, 'mape': 0, 'predictions': []},\n",
        "                   'CatBoostRegressor': {'mse': 0, 'mae': 0, 'mape': 0, 'predictions': []},\n",
        "                   'LGBMRegressor': {'mse': 0, 'mae': 0, 'mape': 0, 'predictions': []}}\n",
        "    return models_dict, result_dict"
      ],
      "metadata": {
        "execution": {
          "iopub.status.busy": "2024-05-31T09:58:02.362175Z",
          "iopub.execute_input": "2024-05-31T09:58:02.362715Z",
          "iopub.status.idle": "2024-05-31T09:58:02.376099Z",
          "shell.execute_reply.started": "2024-05-31T09:58:02.362671Z",
          "shell.execute_reply": "2024-05-31T09:58:02.374573Z"
        },
        "trusted": true,
        "id": "hE26IfT-Gns0"
      },
      "execution_count": null,
      "outputs": []
    },
    {
      "cell_type": "markdown",
      "source": [
        "#### 2.1.2. DL model\n",
        "I will construct LSTM network that offered in this [source](https://arxiv.org/pdf/2211.07392v1#page=2)"
      ],
      "metadata": {
        "id": "mFHpW_ogGns0"
      }
    },
    {
      "cell_type": "markdown",
      "source": [
        "------------------------------------------------------------------------"
      ],
      "metadata": {
        "id": "mkAu-Qf7Gns0"
      }
    },
    {
      "cell_type": "code",
      "source": [
        "def train_test_split_timeseries(stock_data, target_col, scaler, window, test_size=100):\n",
        "    target_col = target_col if isinstance(target_col, list) else [target_col]\n",
        "    train = stock_data.get(target_col).values[:-test_size]\n",
        "    test = stock_data.get(target_col).values[-test_size:]\n",
        "    train, test = scaler.fit_transform(train), scaler.fit_transform(test)\n",
        "\n",
        "    X_train, X_test = [], []\n",
        "    for i in range(train.shape[0] - window):\n",
        "        X_train.append(train[i : i + window])\n",
        "    for i in range(test.shape[0] - window):\n",
        "        X_test.append(test[i : i + window])\n",
        "\n",
        "    X_test = np.array(X_test).astype(float)\n",
        "    y_test = np.array(test[window:]).astype(float)\n",
        "    X_train = np.array(X_train).astype(float)\n",
        "    y_train = np.array(train[window:]).astype(float)\n",
        "\n",
        "    return X_train, y_train, X_test, y_test"
      ],
      "metadata": {
        "execution": {
          "iopub.status.busy": "2024-05-31T09:58:05.822568Z",
          "iopub.execute_input": "2024-05-31T09:58:05.823623Z",
          "iopub.status.idle": "2024-05-31T09:58:05.839686Z",
          "shell.execute_reply.started": "2024-05-31T09:58:05.823538Z",
          "shell.execute_reply": "2024-05-31T09:58:05.837545Z"
        },
        "trusted": true,
        "id": "58fcLFdZGns1"
      },
      "execution_count": null,
      "outputs": []
    },
    {
      "cell_type": "code",
      "source": [
        "class LSTMModel(nn.Module):\n",
        "    def __init__(self, input_size, output_size):\n",
        "        super(LSTMModel, self).__init__()\n",
        "        self.lstm1 = nn.LSTM(input_size=input_size, hidden_size=50, batch_first=True)\n",
        "        self.dropout1 = nn.Dropout(0.15)\n",
        "        self.lstm2 = nn.LSTM(input_size=50, hidden_size=30, batch_first=True)\n",
        "        self.dropout2 = nn.Dropout(0.05)\n",
        "        self.lstm3 = nn.LSTM(input_size=30, hidden_size=20, batch_first=True)\n",
        "        self.dropout3 = nn.Dropout(0.01)\n",
        "        self.fc = nn.Linear(20, output_size)\n",
        "        self.tanh = nn.Tanh()\n",
        "\n",
        "    def forward(self, x):\n",
        "        out, _ = self.lstm1(x)\n",
        "        out = self.dropout1(out)\n",
        "        out, _ = self.lstm2(out)\n",
        "        out = self.dropout2(out)\n",
        "        out, _ = self.lstm3(out)\n",
        "        out = self.dropout3(out)\n",
        "        out = out[:, -1, :]  # take the last output of the sequence\n",
        "        out = self.fc(out)\n",
        "        return out"
      ],
      "metadata": {
        "execution": {
          "iopub.status.busy": "2024-05-31T09:58:07.702044Z",
          "iopub.execute_input": "2024-05-31T09:58:07.702561Z",
          "iopub.status.idle": "2024-05-31T09:58:07.716359Z",
          "shell.execute_reply.started": "2024-05-31T09:58:07.702523Z",
          "shell.execute_reply": "2024-05-31T09:58:07.714870Z"
        },
        "trusted": true,
        "id": "TzbQE1tOGns1"
      },
      "execution_count": null,
      "outputs": []
    },
    {
      "cell_type": "code",
      "source": [
        "# define training loop\n",
        "def train_epoch(model, train_loader, criterion, optimizer, window=10, num_sent_features=0, metric='MAPE'):\n",
        "    train_loss = 0.0\n",
        "    train_metric = 0.0\n",
        "\n",
        "    model.train()\n",
        "    for inputs, targets in train_loader:\n",
        "        optimizer.zero_grad()\n",
        "        inputs = inputs.view(-1, window+num_sent_features, 1)\n",
        "        outputs = model(inputs)\n",
        "        loss = criterion(outputs, targets)\n",
        "\n",
        "        train_loss += loss.item()\n",
        "\n",
        "        if metric == 'MAE':\n",
        "            train_metric += mean_absolute_error(outputs.cpu().detach().numpy(), targets)\n",
        "        elif metric == 'MAPE':\n",
        "            train_metric += mean_absolute_percentage_error(outputs.cpu().detach().numpy(), targets)\n",
        "\n",
        "        loss.backward()\n",
        "        optimizer.step()\n",
        "\n",
        "    train_loss /= len(train_loader)\n",
        "    train_metric /= len(train_loader)\n",
        "\n",
        "    return train_loss, train_metric\n",
        "\n",
        "# define evaluating loop\n",
        "def eval_epoch(model, test_loader, criterion, scaler, window=10,\n",
        "               num_sent_features=0, metric='MAPE'):\n",
        "    predicts = []\n",
        "    test_loss = 0.0\n",
        "    test_metric = 0.0\n",
        "    targets = []\n",
        "\n",
        "    model.eval()\n",
        "    with torch.no_grad():\n",
        "        for inputs, targets in test_loader:\n",
        "            inputs = inputs.view(-1, window+num_sent_features, 1)\n",
        "            outputs = model(inputs)\n",
        "            loss = criterion(outputs, targets)\n",
        "\n",
        "            predicts = outputs.squeeze()\n",
        "            test_loss += loss.item()\n",
        "            targets = targets\n",
        "\n",
        "    test_loss /= len(test_loader)\n",
        "\n",
        "    predicts = scaler.inverse_transform(predicts.view(-1, 1).numpy()).reshape(-1, 1)\n",
        "    targets = scaler.inverse_transform(targets.view(-1, 1).numpy()).reshape(-1, 1)\n",
        "\n",
        "    if metric == 'MAE':\n",
        "        test_metric += mean_absolute_error(predicts, targets)\n",
        "    elif metric == 'MAPE':\n",
        "        test_metric += mean_absolute_percentage_error(predicts, targets)\n",
        "\n",
        "    return test_loss, test_metric, predicts\n",
        "\n",
        "# define training epoch\n",
        "def train_lstm_model(model, train_loader, test_loader, criterion, optimizer,\n",
        "                     scaler, num_epochs=50, num_sent_features=0):\n",
        "    train_losses = []\n",
        "    test_losses = []\n",
        "    train_metrics = []\n",
        "    test_metrics = []\n",
        "\n",
        "    for epoch in range(num_epochs):\n",
        "        train_loss, train_metric = train_epoch(model, train_loader, criterion, optimizer,\n",
        "                                               num_sent_features=num_sent_features)\n",
        "        train_losses.append(train_loss)\n",
        "        train_metrics.append(train_metric)\n",
        "\n",
        "        test_loss, test_metric, predicts = eval_epoch(model, test_loader, criterion, scaler,\n",
        "                                                      num_sent_features=num_sent_features)\n",
        "        test_losses.append(test_loss)\n",
        "        test_metrics.append(test_metric)\n",
        "        print(f'Epoch {epoch+1}/{num_epochs}, Train Loss: {train_loss:.6f}, Test Loss: {test_loss:.6f}')\n",
        "\n",
        "        if (epoch+1) % 25 == 0:\n",
        "            plot_losses(train_losses, test_losses, train_metrics, test_metrics, metric='MAE')\n",
        "\n",
        "    return train_losses, test_losses, train_metrics, test_metrics, np.array(predicts)\n",
        "\n",
        "def plot_losses(train_losses, test_losses, train_metric, test_metric, metric='MAPE'):\n",
        "    clear_output()\n",
        "    fig, axs = plt.subplots(1, 2, figsize=(13, 4))\n",
        "    axs[0].plot(range(1, len(train_losses) + 1), train_losses, label='train')\n",
        "    axs[0].plot(range(1, len(test_losses) + 1), test_losses, label='test')\n",
        "    axs[0].set_ylabel('loss')\n",
        "\n",
        "    axs[1].plot(range(1, len(train_metric) + 1), train_metric, label='train')\n",
        "    axs[1].plot(range(1, len(test_metric) + 1), test_metric, label='test')\n",
        "    axs[1].set_ylabel(metric)\n",
        "\n",
        "    for ax in axs:\n",
        "        ax.set_xlabel('epoch')\n",
        "        ax.legend()\n",
        "\n",
        "    plt.show()"
      ],
      "metadata": {
        "execution": {
          "iopub.status.busy": "2024-05-31T09:58:08.887198Z",
          "iopub.execute_input": "2024-05-31T09:58:08.887709Z",
          "iopub.status.idle": "2024-05-31T09:58:08.922748Z",
          "shell.execute_reply.started": "2024-05-31T09:58:08.887671Z",
          "shell.execute_reply": "2024-05-31T09:58:08.921271Z"
        },
        "trusted": true,
        "id": "CmY-aZ9pGns1"
      },
      "execution_count": null,
      "outputs": []
    },
    {
      "cell_type": "code",
      "source": [
        "from torch.utils.data import Dataset, DataLoader, TensorDataset\n",
        "# Hyperparameters\n",
        "test_size = 100\n",
        "window = 10\n",
        "epochs = 200\n",
        "learning_rate = 0.02\n",
        "\n",
        "scaler = MinMaxScaler()\n",
        "stock_data = df_stocks_targets_reg\n",
        "target_col = ['SBER']\n",
        "X_train, y_train, X_test, y_test = train_test_split_timeseries(stock_data, target_col, scaler, window, test_size=100)\n",
        "# Convert to PyTorch tensors\n",
        "X_train, y_train = torch.tensor(X_train, dtype=torch.float32), torch.tensor(y_train, dtype=torch.float32)\n",
        "X_test, y_test = torch.tensor(X_test, dtype=torch.float32), torch.tensor(y_test, dtype=torch.float32)\n",
        "\n",
        "# ------ add sentiment\n",
        "# train_sent_arr = torch.tensor(sent_arr[10:-100], dtype=torch.float32)\n",
        "# test_sent_arr = torch.tensor(sent_arr[-90:], dtype=torch.float32)\n",
        "# X_train = torch.cat((X_train, train_sent_arr.unsqueeze(dim=1).unsqueeze(dim=1)), dim=1)\n",
        "# X_test = torch.cat((X_test, test_sent_arr.unsqueeze(dim=1).unsqueeze(dim=1)), dim=1)\n",
        "# ------ add sentiment\n",
        "\n",
        "# Create DataLoader\n",
        "train_dataset = TensorDataset(X_train, y_train)\n",
        "train_loader = DataLoader(train_dataset, batch_size=32, shuffle=True)\n",
        "test_dataset = TensorDataset(X_test, y_test)\n",
        "test_loader = DataLoader(test_dataset, batch_size=len(test_dataset), shuffle=False)\n",
        "\n",
        "# # Instantiate the model, define the loss function and the optimizer\n",
        "device = torch.device('cuda:0' if torch.cuda.is_available() else 'cpu')\n",
        "model = LSTMModel(1, 1)\n",
        "criterion = nn.MSELoss()\n",
        "optimizer = torch.optim.Adam(model.parameters(), lr=learning_rate)\n",
        "\n",
        "# predictions_no_sent = predictions.copy()\n",
        "# print(f'Raw data: {train_losses[-1]:.6f}, {test_losses[-1]:.6f}, {train_metrics[-1]:.6f}, {test_metrics[-1]:.6f}')\n",
        "\n",
        "train_losses, test_losses, train_metrics, test_metrics, predictions = train_lstm_model(\n",
        "    model, train_loader, test_loader, criterion, optimizer, scaler, num_epochs=epochs, num_sent_features=0)"
      ],
      "metadata": {
        "execution": {
          "iopub.status.busy": "2024-05-29T15:31:11.672516Z",
          "iopub.execute_input": "2024-05-29T15:31:11.672915Z",
          "iopub.status.idle": "2024-05-29T15:33:04.721095Z",
          "shell.execute_reply.started": "2024-05-29T15:31:11.672885Z",
          "shell.execute_reply": "2024-05-29T15:33:04.719862Z"
        },
        "trusted": true,
        "id": "EeIL6TIBGns1",
        "outputId": "53ce2545-d664-44db-aa73-c9d05cfebe72"
      },
      "execution_count": null,
      "outputs": [
        {
          "output_type": "display_data",
          "data": {
            "text/plain": "<Figure size 1300x400 with 2 Axes>",
            "image/png": "[encoded data removed]"
          },
          "metadata": {}
        }
      ]
    },
    {
      "cell_type": "markdown",
      "source": [
        "----"
      ],
      "metadata": {
        "id": "5VOtF9tfGns1"
      }
    },
    {
      "cell_type": "markdown",
      "source": [
        "### 2.2. Sentiment feature engineering"
      ],
      "metadata": {
        "id": "YnWgp9yHGns1"
      }
    },
    {
      "cell_type": "code",
      "source": [
        "tokenizer = AutoTokenizer.from_pretrained('sismetanin/xlm_roberta_large-ru-sentiment-rusentiment')\n",
        "model = AutoModelForSequenceClassification.from_pretrained(\"sismetanin/xlm_roberta_large-ru-sentiment-rusentiment\")\n",
        "device = torch.device('cuda' if torch.cuda.is_available() else 'cpu')\n",
        "model = model.to(device)"
      ],
      "metadata": {
        "execution": {
          "iopub.status.busy": "2024-05-30T04:24:05.158212Z",
          "iopub.execute_input": "2024-05-30T04:24:05.159088Z",
          "iopub.status.idle": "2024-05-30T04:24:22.016285Z",
          "shell.execute_reply.started": "2024-05-30T04:24:05.159051Z",
          "shell.execute_reply": "2024-05-30T04:24:22.015456Z"
        },
        "trusted": true,
        "colab": {
          "referenced_widgets": [
            "468c72cfffe745dc9cecee1215d35c80",
            "b817c981b42f466da3ebff6d29b418fe",
            "70550e5d4ed0449583bcc6548dc48d84",
            "187bb44b6f104177bd05be28fc29ab1b",
            "5369871491ea4c79a83582c2e1571abb"
          ]
        },
        "id": "POHrePTGGns1",
        "outputId": "2562b977-7886-4080-ec7f-2627ddc57941"
      },
      "execution_count": null,
      "outputs": [
        {
          "output_type": "display_data",
          "data": {
            "text/plain": "tokenizer_config.json:   0%|          | 0.00/434 [00:00<?, ?B/s]",
            "application/vnd.jupyter.widget-view+json": {
              "version_major": 2,
              "version_minor": 0,
              "model_id": "468c72cfffe745dc9cecee1215d35c80"
            }
          },
          "metadata": {}
        },
        {
          "output_type": "display_data",
          "data": {
            "text/plain": "config.json:   0%|          | 0.00/1.03k [00:00<?, ?B/s]",
            "application/vnd.jupyter.widget-view+json": {
              "version_major": 2,
              "version_minor": 0,
              "model_id": "b817c981b42f466da3ebff6d29b418fe"
            }
          },
          "metadata": {}
        },
        {
          "output_type": "display_data",
          "data": {
            "text/plain": "sentencepiece.bpe.model:   0%|          | 0.00/5.07M [00:00<?, ?B/s]",
            "application/vnd.jupyter.widget-view+json": {
              "version_major": 2,
              "version_minor": 0,
              "model_id": "70550e5d4ed0449583bcc6548dc48d84"
            }
          },
          "metadata": {}
        },
        {
          "output_type": "display_data",
          "data": {
            "text/plain": "special_tokens_map.json:   0%|          | 0.00/150 [00:00<?, ?B/s]",
            "application/vnd.jupyter.widget-view+json": {
              "version_major": 2,
              "version_minor": 0,
              "model_id": "187bb44b6f104177bd05be28fc29ab1b"
            }
          },
          "metadata": {}
        },
        {
          "output_type": "display_data",
          "data": {
            "text/plain": "pytorch_model.bin:   0%|          | 0.00/2.24G [00:00<?, ?B/s]",
            "application/vnd.jupyter.widget-view+json": {
              "version_major": 2,
              "version_minor": 0,
              "model_id": "5369871491ea4c79a83582c2e1571abb"
            }
          },
          "metadata": {}
        },
        {
          "name": "stderr",
          "text": "/opt/conda/lib/python3.10/site-packages/torch/_utils.py:831: UserWarning: TypedStorage is deprecated. It will be removed in the future and UntypedStorage will be the only storage class. This should only matter to you if you are using storages directly.  To access UntypedStorage directly, use tensor.untyped_storage() instead of tensor.storage()\n  return self.fget.__get__(instance, owner)()\n",
          "output_type": "stream"
        }
      ]
    },
    {
      "cell_type": "code",
      "source": [
        "X = df_news[df_news.topic.isin(['Экономика'])].reset_index(drop=True)\n",
        "preds = []\n",
        "preds_proba = []\n",
        "tokenizer_kwargs = {\"padding\": True, \"truncation\": True, \"max_length\": 128}\n",
        "\n",
        "for x in tqdm(X['title'].values):\n",
        "    with torch.no_grad():\n",
        "        input_sequence = tokenizer(x, return_tensors=\"pt\", **tokenizer_kwargs).to(device)\n",
        "        logits = model(**input_sequence).logits\n",
        "        scores = {\n",
        "        k: v\n",
        "        for k, v in zip(\n",
        "            model.config.id2label.values(),\n",
        "            scipy.special.softmax(logits.cpu().detach().numpy().squeeze()),\n",
        "        )\n",
        "    }\n",
        "\n",
        "    sentimentFinbert = max(scores, key=scores.get)\n",
        "    probabilityFinbert = max(scores.values())\n",
        "    preds.append(sentimentFinbert)\n",
        "    preds_proba.append(probabilityFinbert)\n",
        "\n",
        "dff1 = pd.DataFrame()\n",
        "dff1['date'] = X['date'].reset_index(drop=True)\n",
        "dff1['title'] = X['title'].reset_index(drop=True)\n",
        "dff1['preds'] = preds\n",
        "dff1['preds_proba'] = preds_proba\n",
        "# dff1.to_excel('lemmas_sentiment.xlsx', index=False)\n",
        "# dff1.to_excel('title_sentiment.xlsx', index=False)"
      ],
      "metadata": {
        "execution": {
          "iopub.status.busy": "2024-05-29T19:21:35.501284Z",
          "iopub.execute_input": "2024-05-29T19:21:35.501689Z",
          "iopub.status.idle": "2024-05-29T19:34:31.066370Z",
          "shell.execute_reply.started": "2024-05-29T19:21:35.501659Z",
          "shell.execute_reply": "2024-05-29T19:34:31.065459Z"
        },
        "trusted": true,
        "id": "uoHOIPVBGns1",
        "outputId": "877d2557-9e2e-411e-a688-147fdcff95c8"
      },
      "execution_count": null,
      "outputs": [
        {
          "name": "stderr",
          "text": "100%|██████████| 37542/37542 [12:55<00:00, 48.41it/s]\n",
          "output_type": "stream"
        }
      ]
    },
    {
      "cell_type": "code",
      "source": [
        "# X = df_news[df_news.topic.isin(['Экономика'])].reset_index(drop=True)\n",
        "dff1 = pd.read_excel('/kaggle/input/sentiment-scores-new/lemmas_sentiment.xlsx')\n",
        "\n",
        "# dff1['date'] = X['date'].reset_index(drop=True)\n",
        "dff1['preds'] = np.select(\n",
        "    condlist=[\n",
        "        dff1['preds'] == 'LABEL_0',\n",
        "        dff1['preds'] == 'LABEL_1',\n",
        "        dff1['preds'] == 'LABEL_2',\n",
        "        dff1['preds'] == 'LABEL_3'],\n",
        "    choicelist=[\n",
        "        'negative',\n",
        "        'neutral',\n",
        "        'positive',\n",
        "        'negative'],\n",
        "    default='neutral')\n",
        "\n",
        "# the most relevant news\n",
        "searchfor = ['банк', 'втб', 'сбер', 'плат', 'кредит', 'депозит', 'долг',\n",
        "             'доллар', 'рубль', 'нефть', 'доход', 'экономика', 'оценка', 'бизнес'\n",
        "             'дефолт', 'компания', 'альфа', 'акционер', 'клиент', 'актив', 'суд']\n",
        "dff1_sent = dff1\n",
        "# [dff1['lemmas'].str.lower().str.contains('|'.join(searchfor))]\n",
        "dff1_sent.loc[dff1_sent.preds == 'neutral', 'preds_proba'] = 0\n",
        "dff1_sent.loc[dff1_sent.preds == 'negative', 'preds_proba'] *= (-1)\n",
        "dff1_sent = dff1_sent.groupby('date', as_index=False).agg({'preds_proba': 'mean'}).sort_values('preds_proba')\n",
        "dff1_sent['sentiment'] = np.select([dff1_sent.preds_proba < 0, dff1_sent.preds_proba == 0, dff1_sent.preds_proba > 0],\n",
        "                                   ['negative', 'neutral', 'positive'])\n",
        "\n",
        "# sentiment feature for each day\n",
        "sent_arr = pd.DataFrame(df_stocks_targets_reg['date']).merge(dff1_sent, how='left', on='date')['preds_proba'].fillna(0).to_numpy()"
      ],
      "metadata": {
        "execution": {
          "iopub.status.busy": "2024-05-31T06:53:46.633816Z",
          "iopub.execute_input": "2024-05-31T06:53:46.634352Z",
          "iopub.status.idle": "2024-05-31T06:53:53.376744Z",
          "shell.execute_reply.started": "2024-05-31T06:53:46.634314Z",
          "shell.execute_reply": "2024-05-31T06:53:53.375370Z"
        },
        "trusted": true,
        "id": "h0MO7JVsGns1"
      },
      "execution_count": null,
      "outputs": []
    },
    {
      "cell_type": "markdown",
      "source": [
        "### 2.3. Vectorizers"
      ],
      "metadata": {
        "id": "RC048xr5Gns2"
      }
    },
    {
      "cell_type": "markdown",
      "source": [
        "#### 2.3.1. TF-IDF Vectorizer"
      ],
      "metadata": {
        "id": "HAA9cFXVGns6"
      }
    },
    {
      "cell_type": "code",
      "source": [
        "tfidf_vectorizer = TfidfVectorizer(ngram_range=(1, 3))\n",
        "# tfidf_vectorizer.fit(date_words_cls['lemmas'].values)"
      ],
      "metadata": {
        "execution": {
          "iopub.status.busy": "2024-05-31T06:41:05.635437Z",
          "iopub.execute_input": "2024-05-31T06:41:05.635975Z",
          "iopub.status.idle": "2024-05-31T06:41:05.644532Z",
          "shell.execute_reply.started": "2024-05-31T06:41:05.635937Z",
          "shell.execute_reply": "2024-05-31T06:41:05.642504Z"
        },
        "trusted": true,
        "id": "wFXfu5WgGns6"
      },
      "execution_count": null,
      "outputs": []
    },
    {
      "cell_type": "markdown",
      "source": [
        "#### 2.3.2. Word2vec"
      ],
      "metadata": {
        "id": "trVfcJGIGns7"
      }
    },
    {
      "cell_type": "code",
      "source": [
        "sentences=[]\n",
        "sentences.extend(df_news['lemmas'])\n",
        "sentences=[i.split() for i in sentences]\n",
        "\n",
        "cores = multiprocessing.cpu_count()\n",
        "w2v_model = Word2Vec(min_count=20,\n",
        "                     window=2,\n",
        "                     vector_size=100,\n",
        "                     sample=6e-5,\n",
        "                     alpha=0.03,\n",
        "                     min_alpha=0.0007,\n",
        "                     negative=20,\n",
        "                     workers=cores-1)\n",
        "\n",
        "t = time()\n",
        "w2v_model.build_vocab(sentences, progress_per=10000)\n",
        "print('Time to build vocab: {} mins'.format(round((time() - t) / 60, 2)))\n",
        "\n",
        "t = time()\n",
        "w2v_model.train(sentences, total_examples=w2v_model.corpus_count, epochs=10, report_delay=1)\n",
        "print('Time to train the model: {} mins'.format(round((time() - t) / 60, 2)))\n",
        "\n",
        "vector = w2v_model.wv['газпром']  # get numpy vector of a word\n",
        "sims = w2v_model.wv.most_similar('газпром', topn=10)  # get other similar words\n",
        "\n",
        "# [tup[0] for tup in sims]\n",
        "sims"
      ],
      "metadata": {
        "execution": {
          "iopub.status.busy": "2024-05-31T06:53:53.379241Z",
          "iopub.execute_input": "2024-05-31T06:53:53.379709Z",
          "iopub.status.idle": "2024-05-31T06:54:09.586118Z",
          "shell.execute_reply.started": "2024-05-31T06:53:53.379671Z",
          "shell.execute_reply": "2024-05-31T06:54:09.584409Z"
        },
        "trusted": true,
        "id": "muPpvFtbGns7",
        "outputId": "81c4ee74-0592-4cbb-cbf6-bd6e0e31d380"
      },
      "execution_count": null,
      "outputs": [
        {
          "name": "stdout",
          "text": "Time to build vocab: 0.01 mins\nTime to train the model: 0.25 mins\n",
          "output_type": "stream"
        },
        {
          "execution_count": 16,
          "output_type": "execute_result",
          "data": {
            "text/plain": "[('нафтогаз', 0.9445496201515198),\n ('роснефть', 0.9424133896827698),\n ('транснефть', 0.9141384363174438),\n ('казахстан', 0.9051945209503174),\n ('туркмения', 0.9051777720451355),\n ('новатэк', 0.9006801843643188),\n ('росатом', 0.8994365334510803),\n ('освоение', 0.890393853187561),\n ('лукойл', 0.8881252408027649),\n ('нефтегазовый', 0.8823068141937256)]"
          },
          "metadata": {}
        }
      ]
    },
    {
      "cell_type": "code",
      "source": [
        "def get_vectors(model,sentence):\n",
        "\n",
        "    '''Get sentence vectors'''\n",
        "\n",
        "    vectors=[]\n",
        "    for i in sentence.split():\n",
        "        try:\n",
        "            vectors.append(model.wv[i])\n",
        "        except:\n",
        "            continue\n",
        "    return np.average(vectors,axis=0)\n",
        "\n",
        "\n",
        "def get_doc_vectors(model,documents,num_features=100):\n",
        "    # Initialize a counter\n",
        "    counter = 0\n",
        "    # Preallocate a 2D numpy array, for speed\n",
        "    reviewFeatureVecs = np.zeros((len(documents),num_features),dtype=\"float32\")\n",
        "\n",
        "    # Loop through the reviews\n",
        "    for sentence in documents:\n",
        "        # Call the function (defined above) that makes average feature vectors\n",
        "        reviewFeatureVecs[counter] = get_vectors(model,sentence)\n",
        "\n",
        "        # Increment the counter\n",
        "        counter = counter + 1\n",
        "    return reviewFeatureVecs"
      ],
      "metadata": {
        "_kg_hide-input": true,
        "execution": {
          "iopub.status.busy": "2024-05-31T06:54:09.594800Z",
          "iopub.execute_input": "2024-05-31T06:54:09.599839Z",
          "iopub.status.idle": "2024-05-31T06:54:09.619629Z",
          "shell.execute_reply.started": "2024-05-31T06:54:09.599756Z",
          "shell.execute_reply": "2024-05-31T06:54:09.617449Z"
        },
        "trusted": true,
        "id": "kMPhAITaGns7"
      },
      "execution_count": null,
      "outputs": []
    },
    {
      "cell_type": "markdown",
      "source": [
        "## 3. Experiments with stocks data"
      ],
      "metadata": {
        "id": "9zWuAl8-Gns7"
      }
    },
    {
      "cell_type": "markdown",
      "source": [
        "### 3.1. Classification"
      ],
      "metadata": {
        "id": "_fKuRiDNGns7"
      }
    },
    {
      "cell_type": "markdown",
      "source": [
        "#### 3.1.1. BASELINE - No sentiment, no text, just raw history data"
      ],
      "metadata": {
        "id": "alHuXNORGns7"
      }
    },
    {
      "cell_type": "code",
      "source": [
        "def get_result_dataframe():\n",
        "    result_dataframe = pd.DataFrame({'sentiment': [], 'tokenizer': [], 'model': [], 'stock_or_indicator': [], 'result': []})\n",
        "    return result_dataframe\n",
        "\n",
        "reg_stock_result_dataframe = get_result_dataframe()\n",
        "reg_indicator_result_dataframe = get_result_dataframe()"
      ],
      "metadata": {
        "execution": {
          "iopub.status.busy": "2024-05-31T06:54:09.628087Z",
          "iopub.execute_input": "2024-05-31T06:54:09.629430Z",
          "iopub.status.idle": "2024-05-31T06:54:09.648456Z",
          "shell.execute_reply.started": "2024-05-31T06:54:09.629358Z",
          "shell.execute_reply": "2024-05-31T06:54:09.646653Z"
        },
        "trusted": true,
        "id": "K_PDOW3gGns7"
      },
      "execution_count": null,
      "outputs": []
    },
    {
      "cell_type": "code",
      "source": [
        "# DataFrame for results\n",
        "cls_stock_result_dataframe = get_result_dataframe()\n",
        "\n",
        "scaler = StandardScaler()\n",
        "encode1 = OneHotEncoder(drop='first', handle_unknown=\"ignore\")\n",
        "stock_targets = df_stocks_targets_cls.columns[1:].tolist()\n",
        "\n",
        "for stock in stock_targets:\n",
        "    single_stock_data = add_shifts_and_filter(df_stocks_targets_cls, stock, reg_data_for_cls_task=df_stocks_targets_cls)\n",
        "    single_stock_data_reg = add_shifts_and_filter(df_stocks_targets_cls, stock, reg_data_for_cls_task=df_stocks_targets_reg)\n",
        "    single_stock_data = single_stock_data.merge(single_stock_data_reg, how='left', on='date', suffixes=('', '_reg')).drop(columns=[f'{stock}_reg'])\n",
        "    X = single_stock_data.loc[:, ~single_stock_data.columns.isin(['date', stock])].iloc[:-100]\n",
        "    y_train = single_stock_data[stock].iloc[:-100]\n",
        "    X_test = single_stock_data.loc[:, ~single_stock_data.columns.isin(['date', stock])].iloc[-100:]\n",
        "    y_test = single_stock_data[stock].iloc[-100:]\n",
        "\n",
        "    models_dict, models_dict_cls = get_ml_models_cls()\n",
        "\n",
        "    for key in tqdm(models_dict.keys()):\n",
        "#         if key in ['CatBoostClassifier', 'LGBMClassifier', 'RandomForestClassifier']:\n",
        "#             X_train = X.loc[:, ~X.columns.str.contains('_reg')]\n",
        "#             X_test = X_test.loc[:, ~X_test.columns.str.contains('_reg')]\n",
        "#             column_transformer = ColumnTransformer([\n",
        "#                 ('encode1', encode1, [f'{stock}_shift{i}' for i in range(1, 11)])], remainder='passthrough', n_jobs=-1)\n",
        "#         else:\n",
        "        X_train = X\n",
        "        column_transformer = ColumnTransformer([\n",
        "            ('encode1', encode1, [f'{stock}_shift{i}' for i in range(1, 11)]),\n",
        "            ('scaler', scaler, [f'{stock}_shift{i}_reg' for i in range(1, 11)])], remainder='passthrough', n_jobs=-1)\n",
        "\n",
        "        model = models_dict[key]\n",
        "        pipe = Pipeline([\n",
        "            ('transform', column_transformer),\n",
        "            ('classify', model)])\n",
        "\n",
        "        pipe.fit(X_train, y_train)\n",
        "        y_pred = pipe.predict(X_test)\n",
        "        acc = accuracy_score(y_test, y_pred)\n",
        "        cls_stock_result_dataframe = pd.concat([cls_stock_result_dataframe,\n",
        "                                                pd.DataFrame({'sentiment': ['no sentiment'],\n",
        "                                                              'tokenizer': ['no tokenizer'],\n",
        "                                                              'model': [key],\n",
        "                                                              'stock_or_indicator': [stock],\n",
        "                                                              'result': [acc]})], axis=0, ignore_index=True)"
      ],
      "metadata": {
        "execution": {
          "iopub.status.busy": "2024-05-30T15:22:48.953646Z",
          "iopub.execute_input": "2024-05-30T15:22:48.954331Z",
          "iopub.status.idle": "2024-05-30T15:24:04.568073Z",
          "shell.execute_reply.started": "2024-05-30T15:22:48.954294Z",
          "shell.execute_reply": "2024-05-30T15:24:04.567282Z"
        },
        "trusted": true,
        "id": "fe6blddtGns7",
        "outputId": "4b368784-cb02-44f8-c6c2-4fd63cb902bf"
      },
      "execution_count": null,
      "outputs": [
        {
          "name": "stderr",
          "text": "100%|██████████| 5/5 [00:25<00:00,  5.14s/it]\n100%|██████████| 5/5 [00:25<00:00,  5.09s/it]\n100%|██████████| 5/5 [00:24<00:00,  4.87s/it]\n",
          "output_type": "stream"
        }
      ]
    },
    {
      "cell_type": "markdown",
      "source": [
        "#### 3.1.2. Add tokenizers\n",
        "* TF-IDF\n",
        "* Word2Vec"
      ],
      "metadata": {
        "id": "9RHE6UKLGns7"
      }
    },
    {
      "cell_type": "code",
      "source": [
        "scaler = StandardScaler()\n",
        "encode1 = OneHotEncoder(drop='first', handle_unknown=\"ignore\")\n",
        "stock_targets = df_stocks_targets_cls.columns[1:].tolist()\n",
        "\n",
        "for stock in stock_targets:\n",
        "    single_stock_data = add_shifts_and_filter(df_stocks_targets_cls, stock, reg_data_for_cls_task=df_stocks_targets_cls)\n",
        "    single_stock_data_reg = add_shifts_and_filter(df_stocks_targets_cls, stock, reg_data_for_cls_task=df_stocks_targets_reg)\n",
        "    single_stock_data = single_stock_data.merge(single_stock_data_reg, how='left', on='date', suffixes=('', '_reg')).drop(columns=[f'{stock}_reg'])\n",
        "    single_stock_data = single_stock_data.merge(date_words_cls[['date', 'lemmas']], how='left', on='date')\n",
        "\n",
        "    X_train = single_stock_data.loc[:, ~single_stock_data.columns.isin(['date', stock])].iloc[:-100]\n",
        "    y_train = single_stock_data[stock].iloc[:-100]\n",
        "    X_test = single_stock_data.loc[:, ~single_stock_data.columns.isin(['date', stock])].iloc[-100:]\n",
        "    y_test = single_stock_data[stock].iloc[-100:]\n",
        "\n",
        "    models_dict, models_dict_cls = get_ml_models_cls()\n",
        "    tfidf_vectorizer = TfidfVectorizer(ngram_range=(1, 3))\n",
        "\n",
        "    for key in tqdm(models_dict.keys()):\n",
        "        column_transformer = ColumnTransformer([\n",
        "            ('tfidf', tfidf_vectorizer, 'lemmas'),\n",
        "            ('encode1', encode1, [f'{stock}_shift{i}' for i in range(1, 11)]),\n",
        "            ('scaler', scaler, [f'{stock}_shift{i}_reg' for i in range(1, 11)])], remainder='passthrough', n_jobs=-1)\n",
        "\n",
        "        model = models_dict[key]\n",
        "        pipe = Pipeline([\n",
        "            ('transform', column_transformer),\n",
        "            ('classify', model)])\n",
        "\n",
        "        pipe.fit(X_train, y_train)\n",
        "        y_pred = pipe.predict(X_test)\n",
        "        acc = accuracy_score(y_test, y_pred)\n",
        "        cls_stock_result_dataframe = pd.concat([cls_stock_result_dataframe,\n",
        "                                                pd.DataFrame({'sentiment': ['no sentiment'],\n",
        "                                                              'tokenizer': ['tf-idf'],\n",
        "                                                              'model': [key],\n",
        "                                                              'stock_or_indicator': [stock],\n",
        "                                                              'result': [acc]})], axis=0, ignore_index=True)"
      ],
      "metadata": {
        "execution": {
          "iopub.status.busy": "2024-05-30T15:40:35.850156Z",
          "iopub.execute_input": "2024-05-30T15:40:35.850771Z",
          "iopub.status.idle": "2024-05-30T15:50:30.286881Z",
          "shell.execute_reply.started": "2024-05-30T15:40:35.850739Z",
          "shell.execute_reply": "2024-05-30T15:50:30.286005Z"
        },
        "trusted": true,
        "id": "EPy3NX4TGns7",
        "outputId": "b9b855c8-c77c-4a7c-f443-ad1f62524000"
      },
      "execution_count": null,
      "outputs": [
        {
          "name": "stderr",
          "text": "100%|██████████| 5/5 [03:20<00:00, 40.04s/it]\n100%|██████████| 5/5 [03:19<00:00, 39.84s/it]\n100%|██████████| 5/5 [03:14<00:00, 38.98s/it]\n",
          "output_type": "stream"
        }
      ]
    },
    {
      "cell_type": "code",
      "source": [
        "scaler = StandardScaler()\n",
        "encode1 = OneHotEncoder(drop='first', handle_unknown=\"ignore\")\n",
        "stock_targets = df_stocks_targets_cls.columns[1:].tolist()\n",
        "\n",
        "for stock in stock_targets:\n",
        "    single_stock_data = add_shifts_and_filter(df_stocks_targets_cls, stock, reg_data_for_cls_task=df_stocks_targets_cls)\n",
        "    single_stock_data_reg = add_shifts_and_filter(df_stocks_targets_cls, stock, reg_data_for_cls_task=df_stocks_targets_reg)\n",
        "    single_stock_data = single_stock_data.merge(single_stock_data_reg, how='left', on='date', suffixes=('', '_reg')).drop(columns=[f'{stock}_reg'])\n",
        "    single_stock_data = single_stock_data.merge(date_words_cls[['date', 'lemmas']], how='left', on='date')\n",
        "    X_w2v_vectors = get_doc_vectors(w2v_model, single_stock_data['lemmas'])\n",
        "    single_stock_data = pd.concat([single_stock_data.reset_index(drop=True), pd.DataFrame(X_w2v_vectors)], axis=1)\n",
        "    single_stock_data.columns = single_stock_data.columns.astype(str)\n",
        "    single_stock_data = single_stock_data.loc[:, single_stock_data.columns != 'lemmas']\n",
        "\n",
        "    X_train = single_stock_data.loc[:, ~single_stock_data.columns.isin(['date', stock])].iloc[:-100]\n",
        "    y_train = single_stock_data[stock].iloc[:-100]\n",
        "    X_test = single_stock_data.loc[:, ~single_stock_data.columns.isin(['date', stock])].iloc[-100:]\n",
        "    y_test = single_stock_data[stock].iloc[-100:]\n",
        "\n",
        "    models_dict, models_dict_cls = get_ml_models_cls()\n",
        "\n",
        "    for key in tqdm(models_dict.keys()):\n",
        "        column_transformer = ColumnTransformer([\n",
        "            ('encode1', encode1, [f'{stock}_shift{i}' for i in range(1, 11)]),\n",
        "            ('scaler', scaler, [f'{stock}_shift{i}_reg' for i in range(1, 11)])], remainder='passthrough', n_jobs=-1)\n",
        "\n",
        "        model = models_dict[key]\n",
        "        pipe = Pipeline([\n",
        "            ('transform', column_transformer),\n",
        "            ('classify', model)])\n",
        "\n",
        "        pipe.fit(X_train, y_train)\n",
        "        y_pred = pipe.predict(X_test)\n",
        "        acc = accuracy_score(y_test, y_pred)\n",
        "        cls_stock_result_dataframe = pd.concat([cls_stock_result_dataframe,\n",
        "                                                pd.DataFrame({'sentiment': ['no sentiment'],\n",
        "                                                              'tokenizer': ['word2vec'],\n",
        "                                                              'model': [key],\n",
        "                                                              'stock_or_indicator': [stock],\n",
        "                                                              'result': [acc]})], axis=0, ignore_index=True)"
      ],
      "metadata": {
        "execution": {
          "iopub.status.busy": "2024-05-30T15:53:55.983734Z",
          "iopub.execute_input": "2024-05-30T15:53:55.984126Z",
          "iopub.status.idle": "2024-05-30T15:55:32.789221Z",
          "shell.execute_reply.started": "2024-05-30T15:53:55.984098Z",
          "shell.execute_reply": "2024-05-30T15:55:32.788408Z"
        },
        "trusted": true,
        "id": "d5rJDwcNGns7",
        "outputId": "23002f6f-8af7-410f-8074-1e89c56a0f78"
      },
      "execution_count": null,
      "outputs": [
        {
          "name": "stderr",
          "text": "100%|██████████| 5/5 [00:31<00:00,  6.31s/it]\n100%|██████████| 5/5 [00:31<00:00,  6.37s/it]\n100%|██████████| 5/5 [00:31<00:00,  6.33s/it]\n",
          "output_type": "stream"
        }
      ]
    },
    {
      "cell_type": "markdown",
      "source": [
        "#### 3.1.3. Add sentiment"
      ],
      "metadata": {
        "id": "QdII1euoGns8"
      }
    },
    {
      "cell_type": "code",
      "source": [
        "scaler = StandardScaler()\n",
        "encoder = OneHotEncoder(drop=[\"neutral\"], handle_unknown=\"ignore\")\n",
        "encode1 = OneHotEncoder(drop='first', handle_unknown=\"ignore\")\n",
        "stock_targets = df_stocks_targets_cls.columns[1:].tolist()\n",
        "\n",
        "for stock in stock_targets:\n",
        "    single_stock_data = add_shifts_and_filter(df_stocks_targets_cls, stock, reg_data_for_cls_task=df_stocks_targets_cls)\n",
        "    single_stock_data_reg = add_shifts_and_filter(df_stocks_targets_cls, stock, reg_data_for_cls_task=df_stocks_targets_reg)\n",
        "    single_stock_data = single_stock_data.merge(single_stock_data_reg, how='left', on='date', suffixes=('', '_reg')).drop(columns=[f'{stock}_reg'])\n",
        "    single_stock_data = single_stock_data.merge(dff1_sent, how='left', on='date')\n",
        "    X_train = single_stock_data.loc[:, ~single_stock_data.columns.isin(['date', stock, 'preds_proba'])].iloc[:-100]\n",
        "    y_train = single_stock_data[stock].iloc[:-100]\n",
        "    X_test = single_stock_data.loc[:, ~single_stock_data.columns.isin(['date', stock, 'preds_proba'])].iloc[-100:]\n",
        "    y_test = single_stock_data[stock].iloc[-100:]\n",
        "\n",
        "    models_dict, models_dict_cls = get_ml_models_cls()\n",
        "\n",
        "    for key in tqdm(models_dict.keys()):\n",
        "        column_transformer = ColumnTransformer([\n",
        "            ('encode1', encode1, [f'{stock}_shift{i}' for i in range(1, 11)]),\n",
        "            (\"ohe\",    encoder, ['sentiment']),\n",
        "            ('scaler', scaler, [f'{stock}_shift{i}_reg' for i in range(1, 11)]),\n",
        "        ], remainder='passthrough', n_jobs=-1)\n",
        "\n",
        "        model = models_dict[key]\n",
        "        pipe = Pipeline([\n",
        "            ('transform', column_transformer),\n",
        "            ('classify', model)])\n",
        "\n",
        "        pipe.fit(X_train, y_train)\n",
        "        y_pred = pipe.predict(X_test)\n",
        "        acc = accuracy_score(y_test, y_pred)\n",
        "        cls_stock_result_dataframe = pd.concat([cls_stock_result_dataframe,\n",
        "                                                pd.DataFrame({'sentiment': ['with sentiment'],\n",
        "                                                              'tokenizer': ['no tokenizer'],\n",
        "                                                              'model': [key],\n",
        "                                                              'stock_or_indicator': [stock],\n",
        "                                                              'result': [acc]})], axis=0, ignore_index=True)"
      ],
      "metadata": {
        "execution": {
          "iopub.status.busy": "2024-05-30T16:10:26.266534Z",
          "iopub.execute_input": "2024-05-30T16:10:26.267326Z",
          "iopub.status.idle": "2024-05-30T16:11:43.132689Z",
          "shell.execute_reply.started": "2024-05-30T16:10:26.267288Z",
          "shell.execute_reply": "2024-05-30T16:11:43.131860Z"
        },
        "trusted": true,
        "id": "9FSs3RhyGns8",
        "outputId": "7eb412ff-f8e9-47f8-b9b3-ebc366303e4a"
      },
      "execution_count": null,
      "outputs": [
        {
          "name": "stderr",
          "text": "100%|██████████| 5/5 [00:26<00:00,  5.21s/it]\n100%|██████████| 5/5 [00:25<00:00,  5.10s/it]\n100%|██████████| 5/5 [00:25<00:00,  5.05s/it]\n",
          "output_type": "stream"
        }
      ]
    },
    {
      "cell_type": "code",
      "source": [
        "scaler = StandardScaler()\n",
        "encoder = OneHotEncoder(drop=[\"neutral\"], handle_unknown=\"ignore\")\n",
        "encode1 = OneHotEncoder(drop='first', handle_unknown=\"ignore\")\n",
        "stock_targets = df_stocks_targets_cls.columns[1:].tolist()\n",
        "\n",
        "for stock in stock_targets:\n",
        "    single_stock_data = add_shifts_and_filter(df_stocks_targets_cls, stock, reg_data_for_cls_task=df_stocks_targets_cls)\n",
        "    single_stock_data_reg = add_shifts_and_filter(df_stocks_targets_cls, stock, reg_data_for_cls_task=df_stocks_targets_reg)\n",
        "    single_stock_data = single_stock_data.merge(single_stock_data_reg, how='left', on='date', suffixes=('', '_reg')).drop(columns=[f'{stock}_reg'])\n",
        "    single_stock_data = single_stock_data.merge(date_words_cls[['date', 'lemmas']], how='left', on='date')\n",
        "    single_stock_data = single_stock_data.merge(dff1_sent, how='left', on='date')\n",
        "\n",
        "    X_train = single_stock_data.loc[:, ~single_stock_data.columns.isin(['date', stock, 'preds_proba'])].iloc[:-100]\n",
        "    y_train = single_stock_data[stock].iloc[:-100]\n",
        "    X_test = single_stock_data.loc[:, ~single_stock_data.columns.isin(['date', stock, 'preds_proba'])].iloc[-100:]\n",
        "    y_test = single_stock_data[stock].iloc[-100:]\n",
        "\n",
        "    models_dict, models_dict_cls = get_ml_models_cls()\n",
        "    tfidf_vectorizer = TfidfVectorizer(ngram_range=(1, 3))\n",
        "\n",
        "    for key in tqdm(models_dict.keys()):\n",
        "        column_transformer = ColumnTransformer([\n",
        "            ('tfidf', tfidf_vectorizer, 'lemmas'),\n",
        "            (\"ohe\",    encoder, ['sentiment']),\n",
        "            ('encode1', encode1, [f'{stock}_shift{i}' for i in range(1, 11)]),\n",
        "            ('scaler', scaler, [f'{stock}_shift{i}_reg' for i in range(1, 11)])], remainder='passthrough', n_jobs=-1)\n",
        "\n",
        "        model = models_dict[key]\n",
        "        pipe = Pipeline([\n",
        "            ('transform', column_transformer),\n",
        "            ('classify', model)])\n",
        "\n",
        "        pipe.fit(X_train, y_train)\n",
        "        y_pred = pipe.predict(X_test)\n",
        "        acc = accuracy_score(y_test, y_pred)\n",
        "        cls_stock_result_dataframe = pd.concat([cls_stock_result_dataframe,\n",
        "                                                pd.DataFrame({'sentiment': ['with sentiment'],\n",
        "                                                              'tokenizer': ['tf-idf'],\n",
        "                                                              'model': [key],\n",
        "                                                              'stock_or_indicator': [stock],\n",
        "                                                              'result': [acc]})], axis=0, ignore_index=True)"
      ],
      "metadata": {
        "execution": {
          "iopub.status.busy": "2024-05-30T16:11:43.136592Z",
          "iopub.execute_input": "2024-05-30T16:11:43.137331Z",
          "iopub.status.idle": "2024-05-30T16:21:37.651612Z",
          "shell.execute_reply.started": "2024-05-30T16:11:43.137298Z",
          "shell.execute_reply": "2024-05-30T16:21:37.650682Z"
        },
        "trusted": true,
        "id": "gbQBUY-8Gns8",
        "outputId": "ef19f987-85d5-43d0-e47c-c650e54e9686"
      },
      "execution_count": null,
      "outputs": [
        {
          "name": "stderr",
          "text": "100%|██████████| 5/5 [03:18<00:00, 39.78s/it]\n100%|██████████| 5/5 [03:20<00:00, 40.08s/it]\n100%|██████████| 5/5 [03:15<00:00, 39.02s/it]\n",
          "output_type": "stream"
        }
      ]
    },
    {
      "cell_type": "code",
      "source": [
        "scaler = StandardScaler()\n",
        "encoder = OneHotEncoder(drop=[\"neutral\"], handle_unknown=\"ignore\")\n",
        "encode1 = OneHotEncoder(drop='first', handle_unknown=\"ignore\")\n",
        "stock_targets = df_stocks_targets_cls.columns[1:].tolist()\n",
        "\n",
        "for stock in stock_targets:\n",
        "    single_stock_data = add_shifts_and_filter(df_stocks_targets_cls, stock, reg_data_for_cls_task=df_stocks_targets_cls)\n",
        "    single_stock_data_reg = add_shifts_and_filter(df_stocks_targets_cls, stock, reg_data_for_cls_task=df_stocks_targets_reg)\n",
        "    single_stock_data = single_stock_data.merge(single_stock_data_reg, how='left', on='date', suffixes=('', '_reg')).drop(columns=[f'{stock}_reg'])\n",
        "    single_stock_data = single_stock_data.merge(date_words_cls[['date', 'lemmas']], how='left', on='date')\n",
        "    X_w2v_vectors = get_doc_vectors(w2v_model, single_stock_data['lemmas'])\n",
        "    single_stock_data = pd.concat([single_stock_data.reset_index(drop=True), pd.DataFrame(X_w2v_vectors)], axis=1)\n",
        "    single_stock_data.columns = single_stock_data.columns.astype(str)\n",
        "    single_stock_data = single_stock_data.loc[:, single_stock_data.columns != 'lemmas']\n",
        "    single_stock_data = single_stock_data.merge(dff1_sent, how='left', on='date')\n",
        "\n",
        "    X_train = single_stock_data.loc[:, ~single_stock_data.columns.isin(['date', stock, 'preds_proba'])].iloc[:-100]\n",
        "    y_train = single_stock_data[stock].iloc[:-100]\n",
        "    X_test = single_stock_data.loc[:, ~single_stock_data.columns.isin(['date', stock, 'preds_proba'])].iloc[-100:]\n",
        "    y_test = single_stock_data[stock].iloc[-100:]\n",
        "\n",
        "    models_dict, models_dict_cls = get_ml_models_cls()\n",
        "    tfidf_vectorizer = TfidfVectorizer(ngram_range=(1, 3))\n",
        "\n",
        "    for key in tqdm(models_dict.keys()):\n",
        "        column_transformer = ColumnTransformer([\n",
        "            (\"ohe\", encoder, ['sentiment']),\n",
        "            ('encode1', encode1, [f'{stock}_shift{i}' for i in range(1, 11)]),\n",
        "            ('scaler', scaler, [f'{stock}_shift{i}_reg' for i in range(1, 11)])], remainder='passthrough', n_jobs=-1)\n",
        "\n",
        "        model = models_dict[key]\n",
        "        pipe = Pipeline([\n",
        "            ('transform', column_transformer),\n",
        "            ('classify', model)])\n",
        "\n",
        "        pipe.fit(X_train, y_train)\n",
        "        y_pred = pipe.predict(X_test)\n",
        "        acc = accuracy_score(y_test, y_pred)\n",
        "        cls_stock_result_dataframe = pd.concat([cls_stock_result_dataframe,\n",
        "                                                pd.DataFrame({'sentiment': ['with sentiment'],\n",
        "                                                              'tokenizer': ['word2vec'],\n",
        "                                                              'model': [key],\n",
        "                                                              'stock_or_indicator': [stock],\n",
        "                                                              'result': [acc]})], axis=0, ignore_index=True)"
      ],
      "metadata": {
        "execution": {
          "iopub.status.busy": "2024-05-30T16:24:24.102013Z",
          "iopub.execute_input": "2024-05-30T16:24:24.102736Z",
          "iopub.status.idle": "2024-05-30T16:26:02.790442Z",
          "shell.execute_reply.started": "2024-05-30T16:24:24.102701Z",
          "shell.execute_reply": "2024-05-30T16:26:02.789577Z"
        },
        "trusted": true,
        "id": "aA0UR7-qGns8",
        "outputId": "2ed66b30-8a1c-4f27-d501-04fd86cd4b21"
      },
      "execution_count": null,
      "outputs": [
        {
          "name": "stderr",
          "text": "100%|██████████| 5/5 [00:33<00:00,  6.77s/it]\n100%|██████████| 5/5 [00:31<00:00,  6.30s/it]\n100%|██████████| 5/5 [00:31<00:00,  6.33s/it]\n",
          "output_type": "stream"
        }
      ]
    },
    {
      "cell_type": "code",
      "source": [
        "pd.pivot_table(cls_stock_result_dataframe, values='result', index=['model', 'stock_or_indicator'], columns=['sentiment', 'tokenizer'], aggfunc='first', sort=False)"
      ],
      "metadata": {
        "execution": {
          "iopub.status.busy": "2024-05-30T17:46:26.762592Z",
          "iopub.execute_input": "2024-05-30T17:46:26.763415Z",
          "iopub.status.idle": "2024-05-30T17:46:26.794900Z",
          "shell.execute_reply.started": "2024-05-30T17:46:26.763378Z",
          "shell.execute_reply": "2024-05-30T17:46:26.793876Z"
        },
        "trusted": true,
        "id": "r3GORHbGGns8",
        "outputId": "df4caa38-4aaf-44ee-be71-048b15709863"
      },
      "execution_count": null,
      "outputs": [
        {
          "execution_count": 352,
          "output_type": "execute_result",
          "data": {
            "text/plain": "sentiment                                 no sentiment                  \\\ntokenizer                                 no tokenizer tf-idf Word2Vec   \nmodel                  stock_or_indicator                                \nLogisticRegression     SBER                       0.56   0.58     0.51   \n                       VTBR                       0.53   0.52     0.51   \n                       BSPB                       0.53   0.50     0.54   \nLinearSVC              SBER                       0.58   0.66     0.59   \n                       VTBR                       0.55   0.55     0.53   \n                       BSPB                       0.51   0.55     0.54   \nRandomForestClassifier SBER                       0.46   0.50     0.49   \n                       VTBR                       0.48   0.47     0.50   \n                       BSPB                       0.57   0.54     0.47   \nCatBoostClassifier     SBER                       0.48   0.51     0.45   \n                       VTBR                       0.51   0.55     0.54   \n                       BSPB                       0.55   0.58     0.56   \nLGBMClassifier         SBER                       0.51   0.51     0.51   \n                       VTBR                       0.41   0.53     0.50   \n                       BSPB                       0.50   0.57     0.51   \n\nsentiment                                 with sentiment                  \ntokenizer                                   no tokenizer tf-idf Word2Vec  \nmodel                  stock_or_indicator                                 \nLogisticRegression     SBER                         0.56   0.58     0.52  \n                       VTBR                         0.55   0.52     0.50  \n                       BSPB                         0.46   0.46     0.50  \nLinearSVC              SBER                         0.58   0.66     0.58  \n                       VTBR                         0.55   0.55     0.51  \n                       BSPB                         0.41   0.54     0.52  \nRandomForestClassifier SBER                         0.47   0.48     0.40  \n                       VTBR                         0.52   0.54     0.42  \n                       BSPB                         0.60   0.63     0.45  \nCatBoostClassifier     SBER                         0.50   0.48     0.43  \n                       VTBR                         0.44   0.58     0.49  \n                       BSPB                         0.51   0.57     0.60  \nLGBMClassifier         SBER                         0.50   0.50     0.43  \n                       VTBR                         0.44   0.51     0.52  \n                       BSPB                         0.50   0.54     0.54  ",
            "text/html": "<div>\n<style scoped>\n    .dataframe tbody tr th:only-of-type {\n        vertical-align: middle;\n    }\n\n    .dataframe tbody tr th {\n        vertical-align: top;\n    }\n\n    .dataframe thead tr th {\n        text-align: left;\n    }\n\n    .dataframe thead tr:last-of-type th {\n        text-align: right;\n    }\n</style>\n<table border=\"1\" class=\"dataframe\">\n  <thead>\n    <tr>\n      <th></th>\n      <th>sentiment</th>\n      <th colspan=\"3\" halign=\"left\">no sentiment</th>\n      <th colspan=\"3\" halign=\"left\">with sentiment</th>\n    </tr>\n    <tr>\n      <th></th>\n      <th>tokenizer</th>\n      <th>no tokenizer</th>\n      <th>tf-idf</th>\n      <th>Word2Vec</th>\n      <th>no tokenizer</th>\n      <th>tf-idf</th>\n      <th>Word2Vec</th>\n    </tr>\n    <tr>\n      <th>model</th>\n      <th>stock_or_indicator</th>\n      <th></th>\n      <th></th>\n      <th></th>\n      <th></th>\n      <th></th>\n      <th></th>\n    </tr>\n  </thead>\n  <tbody>\n    <tr>\n      <th rowspan=\"3\" valign=\"top\">LogisticRegression</th>\n      <th>SBER</th>\n      <td>0.56</td>\n      <td>0.58</td>\n      <td>0.51</td>\n      <td>0.56</td>\n      <td>0.58</td>\n      <td>0.52</td>\n    </tr>\n    <tr>\n      <th>VTBR</th>\n      <td>0.53</td>\n      <td>0.52</td>\n      <td>0.51</td>\n      <td>0.55</td>\n      <td>0.52</td>\n      <td>0.50</td>\n    </tr>\n    <tr>\n      <th>BSPB</th>\n      <td>0.53</td>\n      <td>0.50</td>\n      <td>0.54</td>\n      <td>0.46</td>\n      <td>0.46</td>\n      <td>0.50</td>\n    </tr>\n    <tr>\n      <th rowspan=\"3\" valign=\"top\">LinearSVC</th>\n      <th>SBER</th>\n      <td>0.58</td>\n      <td>0.66</td>\n      <td>0.59</td>\n      <td>0.58</td>\n      <td>0.66</td>\n      <td>0.58</td>\n    </tr>\n    <tr>\n      <th>VTBR</th>\n      <td>0.55</td>\n      <td>0.55</td>\n      <td>0.53</td>\n      <td>0.55</td>\n      <td>0.55</td>\n      <td>0.51</td>\n    </tr>\n    <tr>\n      <th>BSPB</th>\n      <td>0.51</td>\n      <td>0.55</td>\n      <td>0.54</td>\n      <td>0.41</td>\n      <td>0.54</td>\n      <td>0.52</td>\n    </tr>\n    <tr>\n      <th rowspan=\"3\" valign=\"top\">RandomForestClassifier</th>\n      <th>SBER</th>\n      <td>0.46</td>\n      <td>0.50</td>\n      <td>0.49</td>\n      <td>0.47</td>\n      <td>0.48</td>\n      <td>0.40</td>\n    </tr>\n    <tr>\n      <th>VTBR</th>\n      <td>0.48</td>\n      <td>0.47</td>\n      <td>0.50</td>\n      <td>0.52</td>\n      <td>0.54</td>\n      <td>0.42</td>\n    </tr>\n    <tr>\n      <th>BSPB</th>\n      <td>0.57</td>\n      <td>0.54</td>\n      <td>0.47</td>\n      <td>0.60</td>\n      <td>0.63</td>\n      <td>0.45</td>\n    </tr>\n    <tr>\n      <th rowspan=\"3\" valign=\"top\">CatBoostClassifier</th>\n      <th>SBER</th>\n      <td>0.48</td>\n      <td>0.51</td>\n      <td>0.45</td>\n      <td>0.50</td>\n      <td>0.48</td>\n      <td>0.43</td>\n    </tr>\n    <tr>\n      <th>VTBR</th>\n      <td>0.51</td>\n      <td>0.55</td>\n      <td>0.54</td>\n      <td>0.44</td>\n      <td>0.58</td>\n      <td>0.49</td>\n    </tr>\n    <tr>\n      <th>BSPB</th>\n      <td>0.55</td>\n      <td>0.58</td>\n      <td>0.56</td>\n      <td>0.51</td>\n      <td>0.57</td>\n      <td>0.60</td>\n    </tr>\n    <tr>\n      <th rowspan=\"3\" valign=\"top\">LGBMClassifier</th>\n      <th>SBER</th>\n      <td>0.51</td>\n      <td>0.51</td>\n      <td>0.51</td>\n      <td>0.50</td>\n      <td>0.50</td>\n      <td>0.43</td>\n    </tr>\n    <tr>\n      <th>VTBR</th>\n      <td>0.41</td>\n      <td>0.53</td>\n      <td>0.50</td>\n      <td>0.44</td>\n      <td>0.51</td>\n      <td>0.52</td>\n    </tr>\n    <tr>\n      <th>BSPB</th>\n      <td>0.50</td>\n      <td>0.57</td>\n      <td>0.51</td>\n      <td>0.50</td>\n      <td>0.54</td>\n      <td>0.54</td>\n    </tr>\n  </tbody>\n</table>\n</div>"
          },
          "metadata": {}
        }
      ]
    },
    {
      "cell_type": "markdown",
      "source": [
        "### 3.1*. Classification of significant movements\n",
        "\n",
        "#### 3.1.1*. BASELINE - No sentiment, no text, just raw history data\n",
        "#### 3.1.2*. Add tokenizers\n",
        "#### 3.1.3*. Add sentiment"
      ],
      "metadata": {
        "id": "D4mRygmlGns8"
      }
    },
    {
      "cell_type": "markdown",
      "source": [
        "### 3.2. Regression"
      ],
      "metadata": {
        "id": "J2F-kkLAGns8"
      }
    },
    {
      "cell_type": "markdown",
      "source": [
        "#### 3.2.1. BASELINE - No sentiment, no text, just raw history data"
      ],
      "metadata": {
        "id": "9PVUTIDpGns8"
      }
    },
    {
      "cell_type": "code",
      "source": [
        "# DataFrame for results\n",
        "reg_stock_result_dataframe = get_result_dataframe()\n",
        "\n",
        "scaler = StandardScaler()\n",
        "stock_targets = df_stocks_targets_reg.columns[1:].tolist()\n",
        "\n",
        "for stock in stock_targets:\n",
        "    single_stock_data = add_shifts_and_filter(df_stocks_targets_reg, stock)\n",
        "    X_train = single_stock_data.loc[:, ~single_stock_data.columns.isin(['date', stock])].iloc[:-100]\n",
        "    y_train = single_stock_data[stock].iloc[:-100]\n",
        "    X_test = single_stock_data.loc[:, ~single_stock_data.columns.isin(['date', stock])].iloc[-100:]\n",
        "    y_test = single_stock_data[stock].iloc[-100:]\n",
        "\n",
        "    models_dict, models_dict_reg = get_ml_models_reg()\n",
        "\n",
        "    for key in tqdm(models_dict.keys()):\n",
        "        column_transformer = ColumnTransformer([\n",
        "            ('scaler', scaler, [f'{stock}_shift{i}' for i in range(1, 11)])], remainder='passthrough', n_jobs=-1)\n",
        "\n",
        "        model = models_dict[key]\n",
        "        pipe = Pipeline([\n",
        "            ('transform', column_transformer),\n",
        "            ('model', model)])\n",
        "\n",
        "        pipe.fit(X_train, y_train)\n",
        "        y_pred = pipe.predict(X_test)\n",
        "\n",
        "        dd = pd.DataFrame({'y_pred': y_pred, 'y_test': y_test.reset_index(drop=True)})\n",
        "        dd['diff_y_pred'] = dd['y_pred'].diff()\n",
        "        dd['diff_y_test'] = dd['y_test'].diff()\n",
        "        dd['diff_y_pred_cat'] = np.where(dd['diff_y_pred'] > 0, 'up', 'down')\n",
        "        dd['diff_y_test_cat'] = np.where(dd['diff_y_test'] > 0, 'up', 'down')\n",
        "\n",
        "        res = round(mean_absolute_percentage_error(y_test, y_pred), 4), accuracy_score(dd['diff_y_pred_cat'], dd['diff_y_test_cat'])\n",
        "        reg_stock_result_dataframe = pd.concat([reg_stock_result_dataframe,\n",
        "                                                pd.DataFrame({'sentiment': ['no sentiment'],\n",
        "                                                              'tokenizer': ['no tokenizer'],\n",
        "                                                              'model': [key],\n",
        "                                                              'stock_or_indicator': [stock],\n",
        "                                                              'result': [res]})], axis=0, ignore_index=True)"
      ],
      "metadata": {
        "execution": {
          "iopub.status.busy": "2024-05-30T17:21:54.088521Z",
          "iopub.execute_input": "2024-05-30T17:21:54.089620Z",
          "iopub.status.idle": "2024-05-30T17:22:23.036214Z",
          "shell.execute_reply.started": "2024-05-30T17:21:54.089549Z",
          "shell.execute_reply": "2024-05-30T17:22:23.035443Z"
        },
        "trusted": true,
        "id": "F2zPUGGTGns8",
        "outputId": "95fbfaef-2dac-4601-e5ce-0e2430b64f06"
      },
      "execution_count": null,
      "outputs": [
        {
          "name": "stderr",
          "text": "100%|██████████| 5/5 [00:09<00:00,  1.93s/it]\n  0%|          | 0/5 [00:00<?, ?it/s]/opt/conda/lib/python3.10/site-packages/sklearn/svm/_base.py:1244: ConvergenceWarning: Liblinear failed to converge, increase the number of iterations.\n  warnings.warn(\n100%|██████████| 5/5 [00:09<00:00,  1.86s/it]\n100%|██████████| 5/5 [00:09<00:00,  1.99s/it]\n",
          "output_type": "stream"
        }
      ]
    },
    {
      "cell_type": "markdown",
      "source": [
        "#### 3.2.2. Add tokenizers"
      ],
      "metadata": {
        "id": "BpWwh2HdGns8"
      }
    },
    {
      "cell_type": "code",
      "source": [
        "scaler = StandardScaler()\n",
        "stock_targets = df_stocks_targets_reg.columns[1:].tolist()\n",
        "\n",
        "for stock in stock_targets:\n",
        "    single_stock_data = add_shifts_and_filter(df_stocks_targets_reg, stock)\n",
        "    single_stock_data = single_stock_data.merge(date_words_reg[['date', 'lemmas']], how='left', on='date')\n",
        "\n",
        "    X_train = single_stock_data.loc[:, ~single_stock_data.columns.isin(['date', stock])].iloc[:-100]\n",
        "    y_train = single_stock_data[stock].iloc[:-100]\n",
        "    X_test = single_stock_data.loc[:, ~single_stock_data.columns.isin(['date', stock])].iloc[-100:]\n",
        "    y_test = single_stock_data[stock].iloc[-100:]\n",
        "\n",
        "    models_dict, models_dict_reg = get_ml_models_reg()\n",
        "    tfidf_vectorizer = TfidfVectorizer(ngram_range=(1, 3))\n",
        "\n",
        "    for key in tqdm(models_dict.keys()):\n",
        "        column_transformer = ColumnTransformer([\n",
        "            ('tfidf', tfidf_vectorizer, 'lemmas'),\n",
        "            ('scaler', scaler, [f'{stock}_shift{i}' for i in range(1, 11)])], remainder='passthrough', n_jobs=-1)\n",
        "\n",
        "        model = models_dict[key]\n",
        "        pipe = Pipeline([\n",
        "            ('transform', column_transformer),\n",
        "            ('model', model)])\n",
        "\n",
        "        pipe.fit(X_train, y_train)\n",
        "        y_pred = pipe.predict(X_test)\n",
        "\n",
        "        dd = pd.DataFrame({'y_pred': y_pred, 'y_test': y_test.reset_index(drop=True)})\n",
        "        dd['diff_y_pred'] = dd['y_pred'].diff()\n",
        "        dd['diff_y_test'] = dd['y_test'].diff()\n",
        "        dd['diff_y_pred_cat'] = np.where(dd['diff_y_pred'] > 0, 'up', 'down')\n",
        "        dd['diff_y_test_cat'] = np.where(dd['diff_y_test'] > 0, 'up', 'down')\n",
        "\n",
        "        res = round(mean_absolute_percentage_error(y_test, y_pred), 4), accuracy_score(dd['diff_y_pred_cat'], dd['diff_y_test_cat'])\n",
        "        reg_stock_result_dataframe = pd.concat([reg_stock_result_dataframe,\n",
        "                                                pd.DataFrame({'sentiment': ['no sentiment'],\n",
        "                                                              'tokenizer': ['tf-idf'],\n",
        "                                                              'model': [key],\n",
        "                                                              'stock_or_indicator': [stock],\n",
        "                                                              'result': [res]})], axis=0, ignore_index=True)"
      ],
      "metadata": {
        "execution": {
          "iopub.status.busy": "2024-05-30T17:22:23.038734Z",
          "iopub.execute_input": "2024-05-30T17:22:23.039034Z",
          "iopub.status.idle": "2024-05-30T17:30:52.424509Z",
          "shell.execute_reply.started": "2024-05-30T17:22:23.039006Z",
          "shell.execute_reply": "2024-05-30T17:30:52.423619Z"
        },
        "trusted": true,
        "id": "hm68Pj9LGns8",
        "outputId": "c05bc58f-5222-474b-a12e-62cd27e894d8"
      },
      "execution_count": null,
      "outputs": [
        {
          "name": "stderr",
          "text": "100%|██████████| 5/5 [02:51<00:00, 34.24s/it]\n100%|██████████| 5/5 [02:47<00:00, 33.50s/it]\n100%|██████████| 5/5 [02:50<00:00, 34.11s/it]\n",
          "output_type": "stream"
        }
      ]
    },
    {
      "cell_type": "code",
      "source": [
        "scaler = StandardScaler()\n",
        "stock_targets = df_stocks_targets_reg.columns[1:].tolist()\n",
        "\n",
        "for stock in stock_targets:\n",
        "    single_stock_data = add_shifts_and_filter(df_stocks_targets_reg, stock)\n",
        "    single_stock_data = single_stock_data.merge(date_words_reg[['date', 'lemmas']], how='left', on='date')\n",
        "    X_w2v_vectors = get_doc_vectors(w2v_model, single_stock_data['lemmas'])\n",
        "    single_stock_data = pd.concat([single_stock_data.reset_index(drop=True), pd.DataFrame(X_w2v_vectors)], axis=1)\n",
        "    single_stock_data.columns = single_stock_data.columns.astype(str)\n",
        "    single_stock_data = single_stock_data.loc[:, single_stock_data.columns != 'lemmas']\n",
        "\n",
        "    X_train = single_stock_data.loc[:, ~single_stock_data.columns.isin(['date', stock])].iloc[:-100]\n",
        "    y_train = single_stock_data[stock].iloc[:-100]\n",
        "    X_test = single_stock_data.loc[:, ~single_stock_data.columns.isin(['date', stock])].iloc[-100:]\n",
        "    y_test = single_stock_data[stock].iloc[-100:]\n",
        "\n",
        "    models_dict, models_dict_reg = get_ml_models_reg()\n",
        "    tfidf_vectorizer = TfidfVectorizer(ngram_range=(1, 3))\n",
        "\n",
        "    for key in tqdm(models_dict.keys()):\n",
        "        column_transformer = ColumnTransformer([\n",
        "            ('scaler', scaler, [f'{stock}_shift{i}' for i in range(1, 11)])], remainder='passthrough', n_jobs=-1)\n",
        "\n",
        "        model = models_dict[key]\n",
        "        pipe = Pipeline([\n",
        "            ('transform', column_transformer),\n",
        "            ('model', model)])\n",
        "\n",
        "        pipe.fit(X_train, y_train)\n",
        "        y_pred = pipe.predict(X_test)\n",
        "\n",
        "        dd = pd.DataFrame({'y_pred': y_pred, 'y_test': y_test.reset_index(drop=True)})\n",
        "        dd['diff_y_pred'] = dd['y_pred'].diff()\n",
        "        dd['diff_y_test'] = dd['y_test'].diff()\n",
        "        dd['diff_y_pred_cat'] = np.where(dd['diff_y_pred'] > 0, 'up', 'down')\n",
        "        dd['diff_y_test_cat'] = np.where(dd['diff_y_test'] > 0, 'up', 'down')\n",
        "\n",
        "        res = round(mean_absolute_percentage_error(y_test, y_pred), 4), accuracy_score(dd['diff_y_pred_cat'], dd['diff_y_test_cat'])\n",
        "        reg_stock_result_dataframe = pd.concat([reg_stock_result_dataframe,\n",
        "                                                pd.DataFrame({'sentiment': ['no sentiment'],\n",
        "                                                              'tokenizer': ['word2vec'],\n",
        "                                                              'model': [key],\n",
        "                                                              'stock_or_indicator': [stock],\n",
        "                                                              'result': [res]})], axis=0, ignore_index=True)"
      ],
      "metadata": {
        "execution": {
          "iopub.status.busy": "2024-05-30T17:32:45.618195Z",
          "iopub.execute_input": "2024-05-30T17:32:45.619069Z",
          "iopub.status.idle": "2024-05-30T17:33:31.047294Z",
          "shell.execute_reply.started": "2024-05-30T17:32:45.619033Z",
          "shell.execute_reply": "2024-05-30T17:33:31.046538Z"
        },
        "trusted": true,
        "id": "BhE2TRP3Gns9",
        "outputId": "ea97d323-58a6-4a2a-9c0a-b1e8f80746ff"
      },
      "execution_count": null,
      "outputs": [
        {
          "name": "stderr",
          "text": "100%|██████████| 5/5 [00:13<00:00,  2.64s/it]\n  0%|          | 0/5 [00:00<?, ?it/s]/opt/conda/lib/python3.10/site-packages/sklearn/svm/_base.py:1244: ConvergenceWarning: Liblinear failed to converge, increase the number of iterations.\n  warnings.warn(\n100%|██████████| 5/5 [00:17<00:00,  3.41s/it]\n100%|██████████| 5/5 [00:13<00:00,  2.70s/it]\n",
          "output_type": "stream"
        }
      ]
    },
    {
      "cell_type": "markdown",
      "source": [
        "#### 3.2.3. Add sentiment"
      ],
      "metadata": {
        "id": "qJmeQWPcGns9"
      }
    },
    {
      "cell_type": "code",
      "source": [
        "scaler = StandardScaler()\n",
        "encoder = OneHotEncoder(drop=[\"neutral\"], handle_unknown=\"ignore\")\n",
        "\n",
        "stock_targets = df_stocks_targets_reg.columns[1:].tolist()\n",
        "\n",
        "for stock in stock_targets:\n",
        "    single_stock_data = add_shifts_and_filter(df_stocks_targets_reg, stock)\n",
        "    single_stock_data = single_stock_data.merge(dff1_sent, how='left', on='date')\n",
        "\n",
        "    X_train = single_stock_data.loc[:, ~single_stock_data.columns.isin(['date', stock, 'preds_proba'])].iloc[:-100]\n",
        "    y_train = single_stock_data[stock].iloc[:-100]\n",
        "    X_test = single_stock_data.loc[:, ~single_stock_data.columns.isin(['date', stock, 'preds_proba'])].iloc[-100:]\n",
        "    y_test = single_stock_data[stock].iloc[-100:]\n",
        "\n",
        "    models_dict, models_dict_reg = get_ml_models_reg()\n",
        "\n",
        "    for key in tqdm(models_dict.keys()):\n",
        "        column_transformer = ColumnTransformer([\n",
        "            (\"ohe\",    encoder, ['sentiment']),\n",
        "            ('scaler', scaler, [f'{stock}_shift{i}' for i in range(1, 11)])], remainder='passthrough', n_jobs=-1)\n",
        "\n",
        "        model = models_dict[key]\n",
        "        pipe = Pipeline([\n",
        "            ('transform', column_transformer),\n",
        "            ('model', model)])\n",
        "\n",
        "        pipe.fit(X_train, y_train)\n",
        "        y_pred = pipe.predict(X_test)\n",
        "\n",
        "        dd = pd.DataFrame({'y_pred': y_pred, 'y_test': y_test.reset_index(drop=True)})\n",
        "        dd['diff_y_pred'] = dd['y_pred'].diff()\n",
        "        dd['diff_y_test'] = dd['y_test'].diff()\n",
        "        dd['diff_y_pred_cat'] = np.where(dd['diff_y_pred'] > 0, 'up', 'down')\n",
        "        dd['diff_y_test_cat'] = np.where(dd['diff_y_test'] > 0, 'up', 'down')\n",
        "\n",
        "        res = round(mean_absolute_percentage_error(y_test, y_pred), 4), accuracy_score(dd['diff_y_pred_cat'], dd['diff_y_test_cat'])\n",
        "        reg_stock_result_dataframe = pd.concat([reg_stock_result_dataframe,\n",
        "                                                pd.DataFrame({'sentiment': ['with sentiment'],\n",
        "                                                              'tokenizer': ['no tokenizer'],\n",
        "                                                              'model': [key],\n",
        "                                                              'stock_or_indicator': [stock],\n",
        "                                                              'result': [res]})], axis=0, ignore_index=True)"
      ],
      "metadata": {
        "execution": {
          "iopub.status.busy": "2024-05-30T17:33:31.050449Z",
          "iopub.execute_input": "2024-05-30T17:33:31.051146Z",
          "iopub.status.idle": "2024-05-30T17:34:01.379419Z",
          "shell.execute_reply.started": "2024-05-30T17:33:31.051115Z",
          "shell.execute_reply": "2024-05-30T17:34:01.378594Z"
        },
        "trusted": true,
        "id": "JdW2O0hVGns9",
        "outputId": "4d61bdf4-e9e9-4950-8249-cb47c5d78ebd"
      },
      "execution_count": null,
      "outputs": [
        {
          "name": "stderr",
          "text": "100%|██████████| 5/5 [00:10<00:00,  2.09s/it]\n  0%|          | 0/5 [00:00<?, ?it/s]/opt/conda/lib/python3.10/site-packages/sklearn/svm/_base.py:1244: ConvergenceWarning: Liblinear failed to converge, increase the number of iterations.\n  warnings.warn(\n100%|██████████| 5/5 [00:10<00:00,  2.02s/it]\n100%|██████████| 5/5 [00:09<00:00,  1.94s/it]\n",
          "output_type": "stream"
        }
      ]
    },
    {
      "cell_type": "code",
      "source": [
        "scaler = StandardScaler()\n",
        "encoder = OneHotEncoder(drop=[\"neutral\"], handle_unknown=\"ignore\")\n",
        "stock_targets = df_stocks_targets_reg.columns[1:].tolist()\n",
        "\n",
        "for stock in stock_targets:\n",
        "    single_stock_data = add_shifts_and_filter(df_stocks_targets_reg, stock)\n",
        "    single_stock_data = single_stock_data.merge(date_words_reg[['date', 'lemmas']], how='left', on='date')\n",
        "    single_stock_data = single_stock_data.merge(dff1_sent, how='left', on='date')\n",
        "\n",
        "    X_train = single_stock_data.loc[:, ~single_stock_data.columns.isin(['date', stock, 'preds_proba'])].iloc[:-100]\n",
        "    y_train = single_stock_data[stock].iloc[:-100]\n",
        "    X_test = single_stock_data.loc[:, ~single_stock_data.columns.isin(['date', stock, 'preds_proba'])].iloc[-100:]\n",
        "    y_test = single_stock_data[stock].iloc[-100:]\n",
        "\n",
        "    models_dict, models_dict_reg = get_ml_models_reg()\n",
        "    tfidf_vectorizer = TfidfVectorizer(ngram_range=(1, 3))\n",
        "\n",
        "    for key in tqdm(models_dict.keys()):\n",
        "        column_transformer = ColumnTransformer([\n",
        "            ('tfidf', tfidf_vectorizer, 'lemmas'),\n",
        "            (\"ohe\",    encoder, ['sentiment']),\n",
        "            ('scaler', scaler, [f'{stock}_shift{i}' for i in range(1, 11)])], remainder='passthrough', n_jobs=-1)\n",
        "\n",
        "        model = models_dict[key]\n",
        "        pipe = Pipeline([\n",
        "            ('transform', column_transformer),\n",
        "            ('model', model)])\n",
        "\n",
        "        pipe.fit(X_train, y_train)\n",
        "        y_pred = pipe.predict(X_test)\n",
        "\n",
        "        dd = pd.DataFrame({'y_pred': y_pred, 'y_test': y_test.reset_index(drop=True)})\n",
        "        dd['diff_y_pred'] = dd['y_pred'].diff()\n",
        "        dd['diff_y_test'] = dd['y_test'].diff()\n",
        "        dd['diff_y_pred_cat'] = np.where(dd['diff_y_pred'] > 0, 'up', 'down')\n",
        "        dd['diff_y_test_cat'] = np.where(dd['diff_y_test'] > 0, 'up', 'down')\n",
        "\n",
        "        res = round(mean_absolute_percentage_error(y_test, y_pred), 4), accuracy_score(dd['diff_y_pred_cat'], dd['diff_y_test_cat'])\n",
        "        reg_stock_result_dataframe = pd.concat([reg_stock_result_dataframe,\n",
        "                                                pd.DataFrame({'sentiment': ['with sentiment'],\n",
        "                                                              'tokenizer': ['tf-idf'],\n",
        "                                                              'model': [key],\n",
        "                                                              'stock_or_indicator': [stock],\n",
        "                                                              'result': [res]})], axis=0, ignore_index=True)"
      ],
      "metadata": {
        "execution": {
          "iopub.status.busy": "2024-05-30T17:34:25.859281Z",
          "iopub.execute_input": "2024-05-30T17:34:25.859714Z",
          "iopub.status.idle": "2024-05-30T17:42:47.656796Z",
          "shell.execute_reply.started": "2024-05-30T17:34:25.859680Z",
          "shell.execute_reply": "2024-05-30T17:42:47.655865Z"
        },
        "trusted": true,
        "id": "bKdomX_7Gns9",
        "outputId": "292fb2a0-d03c-492a-b1d5-112538edbe89"
      },
      "execution_count": null,
      "outputs": [
        {
          "name": "stderr",
          "text": "100%|██████████| 5/5 [02:47<00:00, 33.51s/it]\n100%|██████████| 5/5 [02:46<00:00, 33.30s/it]\n100%|██████████| 5/5 [02:47<00:00, 33.53s/it]\n",
          "output_type": "stream"
        }
      ]
    },
    {
      "cell_type": "code",
      "source": [
        "scaler = StandardScaler()\n",
        "encoder = OneHotEncoder(drop=[\"neutral\"], handle_unknown=\"ignore\")\n",
        "stock_targets = df_stocks_targets_reg.columns[1:].tolist()\n",
        "\n",
        "for stock in stock_targets:\n",
        "    single_stock_data = add_shifts_and_filter(df_stocks_targets_reg, stock)\n",
        "    single_stock_data = single_stock_data.merge(date_words_reg[['date', 'lemmas']], how='left', on='date')\n",
        "    X_w2v_vectors = get_doc_vectors(w2v_model, single_stock_data['lemmas'])\n",
        "    single_stock_data = pd.concat([single_stock_data.reset_index(drop=True), pd.DataFrame(X_w2v_vectors)], axis=1)\n",
        "    single_stock_data.columns = single_stock_data.columns.astype(str)\n",
        "    single_stock_data = single_stock_data.loc[:, single_stock_data.columns != 'lemmas']\n",
        "    single_stock_data = single_stock_data.merge(dff1_sent, how='left', on='date')\n",
        "\n",
        "    X_train = single_stock_data.loc[:, ~single_stock_data.columns.isin(['date', stock, 'preds_proba'])].iloc[:-100]\n",
        "    y_train = single_stock_data[stock].iloc[:-100]\n",
        "    X_test = single_stock_data.loc[:, ~single_stock_data.columns.isin(['date', stock, 'preds_proba'])].iloc[-100:]\n",
        "    y_test = single_stock_data[stock].iloc[-100:]\n",
        "\n",
        "    models_dict, models_dict_reg = get_ml_models_reg()\n",
        "    tfidf_vectorizer = TfidfVectorizer(ngram_range=(1, 3))\n",
        "\n",
        "    for key in tqdm(models_dict.keys()):\n",
        "        column_transformer = ColumnTransformer([\n",
        "            (\"ohe\",    encoder, ['sentiment']),\n",
        "            ('scaler', scaler, [f'{stock}_shift{i}' for i in range(1, 11)])], remainder='passthrough', n_jobs=-1)\n",
        "\n",
        "        model = models_dict[key]\n",
        "        pipe = Pipeline([\n",
        "            ('transform', column_transformer),\n",
        "            ('model', model)])\n",
        "\n",
        "        pipe.fit(X_train, y_train)\n",
        "        y_pred = pipe.predict(X_test)\n",
        "\n",
        "        dd = pd.DataFrame({'y_pred': y_pred, 'y_test': y_test.reset_index(drop=True)})\n",
        "        dd['diff_y_pred'] = dd['y_pred'].diff()\n",
        "        dd['diff_y_test'] = dd['y_test'].diff()\n",
        "        dd['diff_y_pred_cat'] = np.where(dd['diff_y_pred'] > 0, 'up', 'down')\n",
        "        dd['diff_y_test_cat'] = np.where(dd['diff_y_test'] > 0, 'up', 'down')\n",
        "\n",
        "        res = round(mean_absolute_percentage_error(y_test, y_pred), 4), accuracy_score(dd['diff_y_pred_cat'], dd['diff_y_test_cat'])\n",
        "        reg_stock_result_dataframe = pd.concat([reg_stock_result_dataframe,\n",
        "                                                pd.DataFrame({'sentiment': ['withsentiment'],\n",
        "                                                              'tokenizer': ['word2vec'],\n",
        "                                                              'model': [key],\n",
        "                                                              'stock_or_indicator': [stock],\n",
        "                                                              'result': [res]})], axis=0, ignore_index=True)"
      ],
      "metadata": {
        "execution": {
          "iopub.status.busy": "2024-05-30T17:56:46.778182Z",
          "iopub.execute_input": "2024-05-30T17:56:46.779155Z",
          "iopub.status.idle": "2024-05-30T17:57:34.506736Z",
          "shell.execute_reply.started": "2024-05-30T17:56:46.779114Z",
          "shell.execute_reply": "2024-05-30T17:57:34.505771Z"
        },
        "trusted": true,
        "id": "ZoqX2L1UGns9",
        "outputId": "5ffb8462-738e-4fb8-ad8e-3540a2c891e5"
      },
      "execution_count": null,
      "outputs": [
        {
          "name": "stderr",
          "text": "100%|██████████| 5/5 [00:15<00:00,  3.15s/it]\n  0%|          | 0/5 [00:00<?, ?it/s]/opt/conda/lib/python3.10/site-packages/sklearn/svm/_base.py:1244: ConvergenceWarning: Liblinear failed to converge, increase the number of iterations.\n  warnings.warn(\n100%|██████████| 5/5 [00:16<00:00,  3.31s/it]\n100%|██████████| 5/5 [00:13<00:00,  2.73s/it]\n",
          "output_type": "stream"
        }
      ]
    },
    {
      "cell_type": "code",
      "source": [
        "pd.pivot_table(reg_stock_result_dataframe, values='result', index=['model', 'stock_or_indicator'], columns=['sentiment', 'tokenizer'], aggfunc='first', sort=False)"
      ],
      "metadata": {
        "execution": {
          "iopub.status.busy": "2024-05-30T17:57:35.921911Z",
          "iopub.execute_input": "2024-05-30T17:57:35.922835Z",
          "iopub.status.idle": "2024-05-30T17:57:35.980925Z",
          "shell.execute_reply.started": "2024-05-30T17:57:35.922793Z",
          "shell.execute_reply": "2024-05-30T17:57:35.980049Z"
        },
        "trusted": true,
        "id": "OnekY_vYGns9",
        "outputId": "577c4b04-bbd2-4278-9725-62d825220456"
      },
      "execution_count": null,
      "outputs": [
        {
          "execution_count": 360,
          "output_type": "execute_result",
          "data": {
            "text/plain": "sentiment                               no sentiment                  \\\ntokenizer                               no tokenizer          tf-idf   \nmodel             stock_or_indicator                                   \nRidge             SBER                (0.0091, 0.52)  (0.0092, 0.52)   \n                  VTBR                (0.0102, 0.57)  (0.0104, 0.55)   \n                  BSPB                (0.0072, 0.55)  (0.0081, 0.57)   \nLinearSVR         SBER                (0.0094, 0.54)   (0.009, 0.51)   \n                  VTBR                (0.0099, 0.55)  (0.0109, 0.54)   \n                  BSPB                (0.0076, 0.52)  (0.0086, 0.56)   \nSGDRegressor      SBER                (0.0098, 0.48)  (0.0629, 0.52)   \n                  VTBR                 (0.015, 0.49)  (0.7761, 0.56)   \n                  BSPB                (0.0081, 0.51)  (0.1395, 0.49)   \nCatBoostRegressor SBER                (0.0892, 0.46)  (0.0926, 0.49)   \n                  VTBR                (0.0195, 0.57)  (0.0201, 0.46)   \n                  BSPB                (0.0132, 0.56)   (0.018, 0.54)   \nLGBMRegressor     SBER                (0.0926, 0.43)  (0.0924, 0.54)   \n                  VTBR                 (0.013, 0.56)  (0.0139, 0.57)   \n                  BSPB                 (0.0097, 0.6)  (0.0112, 0.59)   \n\nsentiment                                             with sentiment  \\\ntokenizer                                   word2vec    no tokenizer   \nmodel             stock_or_indicator                                   \nRidge             SBER                (0.0092, 0.51)  (0.0091, 0.52)   \n                  VTBR                (0.0101, 0.56)  (0.0102, 0.57)   \n                  BSPB                 (0.008, 0.44)  (0.0073, 0.54)   \nLinearSVR         SBER                 (0.012, 0.49)  (0.0096, 0.52)   \n                  VTBR                (0.0133, 0.55)    (0.01, 0.55)   \n                  BSPB                (0.0143, 0.52)  (0.0076, 0.49)   \nSGDRegressor      SBER                (0.0127, 0.48)  (0.0096, 0.48)   \n                  VTBR                (0.0299, 0.51)  (0.0222, 0.44)   \n                  BSPB                (0.0174, 0.52)   (0.0079, 0.5)   \nCatBoostRegressor SBER                (0.0953, 0.55)    (0.093, 0.5)   \n                  VTBR                (0.0202, 0.51)  (0.0167, 0.47)   \n                  BSPB                (0.0149, 0.52)  (0.0153, 0.52)   \nLGBMRegressor     SBER                 (0.093, 0.47)  (0.0925, 0.42)   \n                  VTBR                (0.0138, 0.64)  (0.0125, 0.59)   \n                  BSPB                (0.0094, 0.55)  (0.0096, 0.61)   \n\nsentiment                                              withsentiment  \ntokenizer                                     tf-idf        word2vec  \nmodel             stock_or_indicator                                  \nRidge             SBER                (0.0092, 0.52)  (0.0092, 0.51)  \n                  VTBR                (0.0104, 0.55)  (0.0101, 0.57)  \n                  BSPB                (0.0081, 0.58)  (0.0081, 0.48)  \nLinearSVR         SBER                (0.0091, 0.49)   (0.0119, 0.5)  \n                  VTBR                (0.0109, 0.55)  (0.0137, 0.56)  \n                  BSPB                (0.0086, 0.52)  (0.0143, 0.52)  \nSGDRegressor      SBER                (0.0604, 0.53)   (0.012, 0.47)  \n                  VTBR                (0.6203, 0.45)    (0.031, 0.5)  \n                  BSPB                 (0.127, 0.49)   (0.017, 0.54)  \nCatBoostRegressor SBER                 (0.093, 0.43)  (0.0946, 0.52)  \n                  VTBR                (0.0197, 0.47)   (0.019, 0.57)  \n                  BSPB                (0.0187, 0.54)  (0.0185, 0.48)  \nLGBMRegressor     SBER                (0.0931, 0.55)  (0.0931, 0.51)  \n                  VTBR                (0.0139, 0.54)   (0.014, 0.65)  \n                  BSPB                (0.0112, 0.59)  (0.0096, 0.59)  ",
            "text/html": "<div>\n<style scoped>\n    .dataframe tbody tr th:only-of-type {\n        vertical-align: middle;\n    }\n\n    .dataframe tbody tr th {\n        vertical-align: top;\n    }\n\n    .dataframe thead tr th {\n        text-align: left;\n    }\n\n    .dataframe thead tr:last-of-type th {\n        text-align: right;\n    }\n</style>\n<table border=\"1\" class=\"dataframe\">\n  <thead>\n    <tr>\n      <th></th>\n      <th>sentiment</th>\n      <th colspan=\"3\" halign=\"left\">no sentiment</th>\n      <th colspan=\"2\" halign=\"left\">with sentiment</th>\n      <th>withsentiment</th>\n    </tr>\n    <tr>\n      <th></th>\n      <th>tokenizer</th>\n      <th>no tokenizer</th>\n      <th>tf-idf</th>\n      <th>word2vec</th>\n      <th>no tokenizer</th>\n      <th>tf-idf</th>\n      <th>word2vec</th>\n    </tr>\n    <tr>\n      <th>model</th>\n      <th>stock_or_indicator</th>\n      <th></th>\n      <th></th>\n      <th></th>\n      <th></th>\n      <th></th>\n      <th></th>\n    </tr>\n  </thead>\n  <tbody>\n    <tr>\n      <th rowspan=\"3\" valign=\"top\">Ridge</th>\n      <th>SBER</th>\n      <td>(0.0091, 0.52)</td>\n      <td>(0.0092, 0.52)</td>\n      <td>(0.0092, 0.51)</td>\n      <td>(0.0091, 0.52)</td>\n      <td>(0.0092, 0.52)</td>\n      <td>(0.0092, 0.51)</td>\n    </tr>\n    <tr>\n      <th>VTBR</th>\n      <td>(0.0102, 0.57)</td>\n      <td>(0.0104, 0.55)</td>\n      <td>(0.0101, 0.56)</td>\n      <td>(0.0102, 0.57)</td>\n      <td>(0.0104, 0.55)</td>\n      <td>(0.0101, 0.57)</td>\n    </tr>\n    <tr>\n      <th>BSPB</th>\n      <td>(0.0072, 0.55)</td>\n      <td>(0.0081, 0.57)</td>\n      <td>(0.008, 0.44)</td>\n      <td>(0.0073, 0.54)</td>\n      <td>(0.0081, 0.58)</td>\n      <td>(0.0081, 0.48)</td>\n    </tr>\n    <tr>\n      <th rowspan=\"3\" valign=\"top\">LinearSVR</th>\n      <th>SBER</th>\n      <td>(0.0094, 0.54)</td>\n      <td>(0.009, 0.51)</td>\n      <td>(0.012, 0.49)</td>\n      <td>(0.0096, 0.52)</td>\n      <td>(0.0091, 0.49)</td>\n      <td>(0.0119, 0.5)</td>\n    </tr>\n    <tr>\n      <th>VTBR</th>\n      <td>(0.0099, 0.55)</td>\n      <td>(0.0109, 0.54)</td>\n      <td>(0.0133, 0.55)</td>\n      <td>(0.01, 0.55)</td>\n      <td>(0.0109, 0.55)</td>\n      <td>(0.0137, 0.56)</td>\n    </tr>\n    <tr>\n      <th>BSPB</th>\n      <td>(0.0076, 0.52)</td>\n      <td>(0.0086, 0.56)</td>\n      <td>(0.0143, 0.52)</td>\n      <td>(0.0076, 0.49)</td>\n      <td>(0.0086, 0.52)</td>\n      <td>(0.0143, 0.52)</td>\n    </tr>\n    <tr>\n      <th rowspan=\"3\" valign=\"top\">SGDRegressor</th>\n      <th>SBER</th>\n      <td>(0.0098, 0.48)</td>\n      <td>(0.0629, 0.52)</td>\n      <td>(0.0127, 0.48)</td>\n      <td>(0.0096, 0.48)</td>\n      <td>(0.0604, 0.53)</td>\n      <td>(0.012, 0.47)</td>\n    </tr>\n    <tr>\n      <th>VTBR</th>\n      <td>(0.015, 0.49)</td>\n      <td>(0.7761, 0.56)</td>\n      <td>(0.0299, 0.51)</td>\n      <td>(0.0222, 0.44)</td>\n      <td>(0.6203, 0.45)</td>\n      <td>(0.031, 0.5)</td>\n    </tr>\n    <tr>\n      <th>BSPB</th>\n      <td>(0.0081, 0.51)</td>\n      <td>(0.1395, 0.49)</td>\n      <td>(0.0174, 0.52)</td>\n      <td>(0.0079, 0.5)</td>\n      <td>(0.127, 0.49)</td>\n      <td>(0.017, 0.54)</td>\n    </tr>\n    <tr>\n      <th rowspan=\"3\" valign=\"top\">CatBoostRegressor</th>\n      <th>SBER</th>\n      <td>(0.0892, 0.46)</td>\n      <td>(0.0926, 0.49)</td>\n      <td>(0.0953, 0.55)</td>\n      <td>(0.093, 0.5)</td>\n      <td>(0.093, 0.43)</td>\n      <td>(0.0946, 0.52)</td>\n    </tr>\n    <tr>\n      <th>VTBR</th>\n      <td>(0.0195, 0.57)</td>\n      <td>(0.0201, 0.46)</td>\n      <td>(0.0202, 0.51)</td>\n      <td>(0.0167, 0.47)</td>\n      <td>(0.0197, 0.47)</td>\n      <td>(0.019, 0.57)</td>\n    </tr>\n    <tr>\n      <th>BSPB</th>\n      <td>(0.0132, 0.56)</td>\n      <td>(0.018, 0.54)</td>\n      <td>(0.0149, 0.52)</td>\n      <td>(0.0153, 0.52)</td>\n      <td>(0.0187, 0.54)</td>\n      <td>(0.0185, 0.48)</td>\n    </tr>\n    <tr>\n      <th rowspan=\"3\" valign=\"top\">LGBMRegressor</th>\n      <th>SBER</th>\n      <td>(0.0926, 0.43)</td>\n      <td>(0.0924, 0.54)</td>\n      <td>(0.093, 0.47)</td>\n      <td>(0.0925, 0.42)</td>\n      <td>(0.0931, 0.55)</td>\n      <td>(0.0931, 0.51)</td>\n    </tr>\n    <tr>\n      <th>VTBR</th>\n      <td>(0.013, 0.56)</td>\n      <td>(0.0139, 0.57)</td>\n      <td>(0.0138, 0.64)</td>\n      <td>(0.0125, 0.59)</td>\n      <td>(0.0139, 0.54)</td>\n      <td>(0.014, 0.65)</td>\n    </tr>\n    <tr>\n      <th>BSPB</th>\n      <td>(0.0097, 0.6)</td>\n      <td>(0.0112, 0.59)</td>\n      <td>(0.0094, 0.55)</td>\n      <td>(0.0096, 0.61)</td>\n      <td>(0.0112, 0.59)</td>\n      <td>(0.0096, 0.59)</td>\n    </tr>\n  </tbody>\n</table>\n</div>"
          },
          "metadata": {}
        }
      ]
    },
    {
      "cell_type": "markdown",
      "source": [
        "### 3.2*. Regression for return data\n",
        "\n",
        "#### 3.2.1*. BASELINE - No sentiment, no text, just raw history data\n",
        "#### 3.2.2*. Add tokenizers\n",
        "#### 3.2.3*. Add sentiment"
      ],
      "metadata": {
        "id": "hPmPU74yGns9"
      }
    },
    {
      "cell_type": "markdown",
      "source": [
        "## 4. Experiments with indicators data"
      ],
      "metadata": {
        "id": "ySAfS5pdGns9"
      }
    },
    {
      "cell_type": "markdown",
      "source": [
        "### 4.1. Regression - ROE"
      ],
      "metadata": {
        "id": "KeeuXU0sGns9"
      }
    },
    {
      "cell_type": "markdown",
      "source": [
        "#### 4.1.1. BASELINE - No sentiment, no text, just raw history data"
      ],
      "metadata": {
        "id": "EKxd_49eGns9"
      }
    },
    {
      "cell_type": "code",
      "source": [
        "date_feature = 'date'\n",
        "target_indicator = 'ROE'\n",
        "scaler = StandardScaler()\n",
        "\n",
        "df_roe_targets_reg = add_shifts_and_filter(df_indicators, target_indicator, multi_bank_series_feature='licence_num')\n",
        "df_roe_targets_reg = df_roe_targets_reg.merge(df.loc[:, df.columns != target_indicator], how='left', on=['licence_num', 'date'])\n",
        "df_roe_targets_reg['month'] = df_roe_targets_reg['date'].dt.month\n",
        "df_roe_targets_reg['year'] = df_roe_targets_reg['date'].dt.year\n",
        "df_roe_targets_reg[target_indicator] = scaler.fit_transform(df_roe_targets_reg[target_indicator].values.reshape(-1, 1))\n",
        "\n",
        "banks_to_pred = df_roe_targets_reg.groupby('licence_num')['date'].count().sort_values().tail(20).index.to_list()\n",
        "roe_data_test = df_roe_targets_reg[df_roe_targets_reg.licence_num.isin(banks_to_pred)].groupby('licence_num').tail(10)\n",
        "roe_data_train = df_roe_targets_reg[~df_roe_targets_reg.index.isin(roe_data_test.index)]\n",
        "\n",
        "cat_features = ['licence_num', 'msk_spb', 'default', 'month', 'year', 'day_of_week']\n",
        "num_features = roe_data_train.columns[~roe_data_train.columns.isin([date_feature, target_indicator, *cat_features])].tolist()"
      ],
      "metadata": {
        "execution": {
          "iopub.status.busy": "2024-05-31T09:38:45.584782Z",
          "iopub.execute_input": "2024-05-31T09:38:45.585300Z",
          "iopub.status.idle": "2024-05-31T09:38:46.082601Z",
          "shell.execute_reply.started": "2024-05-31T09:38:45.585264Z",
          "shell.execute_reply": "2024-05-31T09:38:46.080970Z"
        },
        "trusted": true,
        "id": "dnsWUZ6wGns-"
      },
      "execution_count": null,
      "outputs": []
    },
    {
      "cell_type": "code",
      "source": [
        "# DataFrame for results\n",
        "reg_roe_result_dataframe = get_result_dataframe()\n",
        "\n",
        "scaler = StandardScaler()\n",
        "encoder = OneHotEncoder(drop='first', handle_unknown=\"ignore\")\n",
        "target_indicator = 'ROE'\n",
        "\n",
        "X_train = roe_data_train.loc[:, ~roe_data_train.columns.isin([target_indicator, 'date'])]\n",
        "y_train = roe_data_train[target_indicator]\n",
        "X_test = roe_data_test.loc[:, ~roe_data_test.columns.isin([target_indicator, 'date'])]\n",
        "y_test = roe_data_test[target_indicator]\n",
        "\n",
        "models_dict, models_dict_reg = get_ml_models_reg(task_type='CPU')\n",
        "\n",
        "for key in tqdm(models_dict.keys()):\n",
        "    if key == 'LinearSVR' or key == 'SGDRegressor':\n",
        "        continue\n",
        "    column_transformer = ColumnTransformer([\n",
        "        ('ohe', encoder, cat_features),\n",
        "        ('scaler', scaler, num_features)], remainder='passthrough', n_jobs=-1)\n",
        "\n",
        "    model = models_dict[key]\n",
        "    pipe = Pipeline([\n",
        "        ('transform', column_transformer),\n",
        "        ('model', model)])\n",
        "\n",
        "    pipe.fit(X_train, y_train)\n",
        "    y_pred = pipe.predict(X_test)\n",
        "\n",
        "    dd = pd.DataFrame({'y_pred': y_pred, 'y_test': y_test.reset_index(drop=True)})\n",
        "    dd['diff_y_pred'] = dd['y_pred'].diff()\n",
        "    dd['diff_y_test'] = dd['y_test'].diff()\n",
        "    dd['diff_y_pred_cat'] = np.where(dd['diff_y_pred'] > 0, 'up', 'down')\n",
        "    dd['diff_y_test_cat'] = np.where(dd['diff_y_test'] > 0, 'up', 'down')\n",
        "\n",
        "    res = round(mean_absolute_percentage_error(y_test, y_pred), 4)  # , accuracy_score(dd['diff_y_pred_cat'], dd['diff_y_test_cat'])\n",
        "    reg_roe_result_dataframe = pd.concat([reg_roe_result_dataframe,\n",
        "                                            pd.DataFrame({'sentiment': ['no sentiment'],\n",
        "                                                          'tokenizer': ['no tokenizer'],\n",
        "                                                          'model': [key],\n",
        "                                                          'stock_or_indicator': [target_indicator],\n",
        "                                                          'result': [res],\n",
        "                                                          'predictions': [y_pred]})], axis=0, ignore_index=True)"
      ],
      "metadata": {
        "execution": {
          "iopub.status.busy": "2024-05-31T09:38:48.506917Z",
          "iopub.execute_input": "2024-05-31T09:38:48.507400Z",
          "iopub.status.idle": "2024-05-31T09:39:22.823497Z",
          "shell.execute_reply.started": "2024-05-31T09:38:48.507364Z",
          "shell.execute_reply": "2024-05-31T09:39:22.822045Z"
        },
        "trusted": true,
        "id": "2ZiiPsGsGns-",
        "outputId": "4ef15eb1-9f67-47df-935e-45622cb48c8b"
      },
      "execution_count": null,
      "outputs": [
        {
          "name": "stderr",
          "text": "100%|██████████| 5/5 [00:34<00:00,  6.85s/it]\n",
          "output_type": "stream"
        }
      ]
    },
    {
      "cell_type": "markdown",
      "source": [
        "#### 4.1.2. Add tokenizers"
      ],
      "metadata": {
        "id": "LHLnIQGPGns-"
      }
    },
    {
      "cell_type": "markdown",
      "source": [
        "#### 4.1.3. Add sentiment"
      ],
      "metadata": {
        "id": "Sg05jFwzGns-"
      }
    },
    {
      "cell_type": "code",
      "source": [
        "df_news_filtered['month'] = df_news_filtered['date'].dt.month\n",
        "df_news_filtered['year'] = df_news_filtered['date'].dt.year\n",
        "\n",
        "# date_words_ind = df_news_filtered.groupby(['year', 'month'])[['lemmas']].first().reset_index()[['year', 'month']].merge(\n",
        "#     df_news_filtered.groupby(['year', 'month'])[['lemmas']].transform(lambda x: ' '.join(x)).drop_duplicates().reset_index(drop=True),\n",
        "#     how='left', left_index=True, right_index=True)\n",
        "\n",
        "# tfidf_vectorizer = TfidfVectorizer(ngram_range=(1, 2))\n",
        "# del_test = pd.DataFrame(tfidf_vectorizer.fit_transform(date_words_ind['lemmas']).toarray())\n",
        "# date_words_ind = date_words_ind.merge(del_test, how='left', left_index=True, right_index=True)\n",
        "dff1_sent_roe = dff1_sent.copy()\n",
        "dff1_sent_roe['month'] = dff1_sent_roe['date'].dt.month\n",
        "dff1_sent_roe['year'] = dff1_sent_roe['date'].dt.year\n",
        "dff1_sent_roe = dff1_sent_roe.groupby(['year', 'month'], as_index=False)\\\n",
        "     .agg({'preds_proba': 'min'})\\\n",
        "     .rename(columns={'preds_proba': 'preds_proba_min'})\\\n",
        "     .merge(dff1_sent_roe.groupby(['year', 'month'], as_index=False).agg({'preds_proba': 'max'}), how='left', on=['year', 'month'])\\\n",
        "     .rename(columns={'preds_proba': 'preds_proba_max'})\n",
        "# dff1_sent_roe = dff1_sent_roe.groupby(['year', 'month'], as_index=False).agg({'preds_proba': 'mean'})\n",
        "dff1_sent_roe['sentiment'] = np.where(dff1_sent_roe['preds_proba_max'] >= dff1_sent_roe['preds_proba_min'].abs(),\n",
        "                                      'positive', 'negative')\n",
        "# dff1_sent_roe = dff1_sent_roe.drop(columns=['preds_proba'])\n",
        "\n",
        "\n",
        "df_roe_targets_reg = df_roe_targets_reg.merge(dff1_sent_roe, how='left', on=['year', 'month'])\n",
        "# df_roe_targets_reg = df_roe_targets_reg.merge(date_words_ind, how='left', on=['year', 'month'])\n",
        "banks_to_pred = df_roe_targets_reg.groupby('licence_num')['date'].count().sort_values().tail(20).index.to_list()\n",
        "roe_data_test = df_roe_targets_reg[df_roe_targets_reg.licence_num.isin(banks_to_pred)].groupby('licence_num').tail(10)\n",
        "roe_data_train = df_roe_targets_reg[~df_roe_targets_reg.index.isin(roe_data_test.index)]"
      ],
      "metadata": {
        "execution": {
          "iopub.status.busy": "2024-05-31T09:39:22.826236Z",
          "iopub.execute_input": "2024-05-31T09:39:22.826769Z",
          "iopub.status.idle": "2024-05-31T09:39:22.953291Z",
          "shell.execute_reply.started": "2024-05-31T09:39:22.826722Z",
          "shell.execute_reply": "2024-05-31T09:39:22.952058Z"
        },
        "trusted": true,
        "id": "vQVn7UZLGns-"
      },
      "execution_count": null,
      "outputs": []
    },
    {
      "cell_type": "code",
      "source": [
        "scaler = StandardScaler()\n",
        "encoder = OneHotEncoder(drop='first', handle_unknown=\"ignore\")\n",
        "target_indicator = 'ROE'\n",
        "\n",
        "X_train = roe_data_train.loc[:, ~roe_data_train.columns.isin([target_indicator, 'date'])]\n",
        "y_train = roe_data_train[target_indicator]\n",
        "X_test = roe_data_test.loc[:, ~roe_data_test.columns.isin([target_indicator, 'date'])]\n",
        "y_test = roe_data_test[target_indicator]\n",
        "\n",
        "models_dict, models_dict_reg = get_ml_models_reg(task_type='CPU', verb=False)\n",
        "tfidf_vectorizer = TfidfVectorizer(ngram_range=(1, 3))\n",
        "\n",
        "for key in tqdm(models_dict.keys()):\n",
        "    if key == 'LinearSVR' or key == 'SGDRegressor':\n",
        "        continue\n",
        "    column_transformer = ColumnTransformer([\n",
        "        ('ohe1', encoder, ['sentiment']),\n",
        "        ('ohe', encoder, cat_features),\n",
        "        ('scaler', scaler, ['preds_proba_min', 'preds_proba_max', *num_features])], remainder='passthrough', n_jobs=-1)\n",
        "\n",
        "    model = models_dict[key]\n",
        "    pipe = Pipeline([\n",
        "        ('transform', column_transformer),\n",
        "        ('model', model)])\n",
        "\n",
        "    pipe.fit(X_train, y_train)\n",
        "    y_pred = pipe.predict(X_test)\n",
        "\n",
        "    dd = pd.DataFrame({'y_pred': y_pred, 'y_test': y_test.reset_index(drop=True)})\n",
        "    dd['diff_y_pred'] = dd['y_pred'].diff()\n",
        "    dd['diff_y_test'] = dd['y_test'].diff()\n",
        "    dd['diff_y_pred_cat'] = np.where(dd['diff_y_pred'] > 0, 'up', 'down')\n",
        "    dd['diff_y_test_cat'] = np.where(dd['diff_y_test'] > 0, 'up', 'down')\n",
        "\n",
        "    res = round(mean_absolute_percentage_error(y_test, y_pred), 4)  # , accuracy_score(dd['diff_y_pred_cat'], dd['diff_y_test_cat'])\n",
        "    reg_roe_result_dataframe = pd.concat([reg_roe_result_dataframe,\n",
        "                                            pd.DataFrame({'sentiment': ['with sentiment'],\n",
        "                                                          'tokenizer': ['no tokenizer'],\n",
        "                                                          'model': [key],\n",
        "                                                          'stock_or_indicator': [target_indicator],\n",
        "                                                          'result': [res],\n",
        "                                                          'predictions': [y_pred]})], axis=0, ignore_index=True)"
      ],
      "metadata": {
        "execution": {
          "iopub.status.busy": "2024-05-31T09:39:22.954984Z",
          "iopub.execute_input": "2024-05-31T09:39:22.955416Z",
          "iopub.status.idle": "2024-05-31T09:39:58.404158Z",
          "shell.execute_reply.started": "2024-05-31T09:39:22.955381Z",
          "shell.execute_reply": "2024-05-31T09:39:58.403018Z"
        },
        "trusted": true,
        "id": "NL1T-W2bGns-",
        "outputId": "ca1c3d4f-e1c5-4777-f917-6f22a07dbd7d"
      },
      "execution_count": null,
      "outputs": [
        {
          "name": "stderr",
          "text": "100%|██████████| 5/5 [00:35<00:00,  7.08s/it]\n",
          "output_type": "stream"
        }
      ]
    },
    {
      "cell_type": "code",
      "source": [
        "reg_roe_result_dataframe"
      ],
      "metadata": {
        "execution": {
          "iopub.status.busy": "2024-05-31T09:39:58.407307Z",
          "iopub.execute_input": "2024-05-31T09:39:58.407730Z",
          "iopub.status.idle": "2024-05-31T09:39:58.434401Z",
          "shell.execute_reply.started": "2024-05-31T09:39:58.407696Z",
          "shell.execute_reply": "2024-05-31T09:39:58.433032Z"
        },
        "trusted": true,
        "id": "ktr0wTamGns-",
        "outputId": "a1c1fcc0-37c2-47f1-cde9-4aacab60727a"
      },
      "execution_count": null,
      "outputs": [
        {
          "execution_count": 294,
          "output_type": "execute_result",
          "data": {
            "text/plain": "        sentiment     tokenizer              model stock_or_indicator  \\\n0    no sentiment  no tokenizer              Ridge                ROE   \n1    no sentiment  no tokenizer  CatBoostRegressor                ROE   \n2    no sentiment  no tokenizer      LGBMRegressor                ROE   \n3  with sentiment  no tokenizer              Ridge                ROE   \n4  with sentiment  no tokenizer  CatBoostRegressor                ROE   \n5  with sentiment  no tokenizer      LGBMRegressor                ROE   \n\n    result                                        predictions  \n0  15.8534  [0.16859910234699788, 0.24923740795624758, 0.1...  \n1   6.2485  [-0.006487158179493183, 0.10564279460993213, -...  \n2  11.6617  [-0.0037030567681936746, 1.0514965805477832, 0...  \n3  12.8899  [0.16558529129948998, 0.24627174953709366, 0.1...  \n4   5.4470  [-0.0008824569215994252, 0.004571898036701171,...  \n5  10.3924  [0.0003204154673099877, 0.48987598365514995, 0...  ",
            "text/html": "<div>\n<style scoped>\n    .dataframe tbody tr th:only-of-type {\n        vertical-align: middle;\n    }\n\n    .dataframe tbody tr th {\n        vertical-align: top;\n    }\n\n    .dataframe thead th {\n        text-align: right;\n    }\n</style>\n<table border=\"1\" class=\"dataframe\">\n  <thead>\n    <tr style=\"text-align: right;\">\n      <th></th>\n      <th>sentiment</th>\n      <th>tokenizer</th>\n      <th>model</th>\n      <th>stock_or_indicator</th>\n      <th>result</th>\n      <th>predictions</th>\n    </tr>\n  </thead>\n  <tbody>\n    <tr>\n      <th>0</th>\n      <td>no sentiment</td>\n      <td>no tokenizer</td>\n      <td>Ridge</td>\n      <td>ROE</td>\n      <td>15.8534</td>\n      <td>[0.16859910234699788, 0.24923740795624758, 0.1...</td>\n    </tr>\n    <tr>\n      <th>1</th>\n      <td>no sentiment</td>\n      <td>no tokenizer</td>\n      <td>CatBoostRegressor</td>\n      <td>ROE</td>\n      <td>6.2485</td>\n      <td>[-0.006487158179493183, 0.10564279460993213, -...</td>\n    </tr>\n    <tr>\n      <th>2</th>\n      <td>no sentiment</td>\n      <td>no tokenizer</td>\n      <td>LGBMRegressor</td>\n      <td>ROE</td>\n      <td>11.6617</td>\n      <td>[-0.0037030567681936746, 1.0514965805477832, 0...</td>\n    </tr>\n    <tr>\n      <th>3</th>\n      <td>with sentiment</td>\n      <td>no tokenizer</td>\n      <td>Ridge</td>\n      <td>ROE</td>\n      <td>12.8899</td>\n      <td>[0.16558529129948998, 0.24627174953709366, 0.1...</td>\n    </tr>\n    <tr>\n      <th>4</th>\n      <td>with sentiment</td>\n      <td>no tokenizer</td>\n      <td>CatBoostRegressor</td>\n      <td>ROE</td>\n      <td>5.4470</td>\n      <td>[-0.0008824569215994252, 0.004571898036701171,...</td>\n    </tr>\n    <tr>\n      <th>5</th>\n      <td>with sentiment</td>\n      <td>no tokenizer</td>\n      <td>LGBMRegressor</td>\n      <td>ROE</td>\n      <td>10.3924</td>\n      <td>[0.0003204154673099877, 0.48987598365514995, 0...</td>\n    </tr>\n  </tbody>\n</table>\n</div>"
          },
          "metadata": {}
        }
      ]
    },
    {
      "cell_type": "code",
      "source": [
        "plt.plot(y_test.reset_index(drop=True), label='Real data')\n",
        "plt.plot(reg_roe_result_dataframe.iloc[-1, -1], label='LGBM')\n",
        "plt.plot(reg_roe_result_dataframe.iloc[-3, -1], label='Ridge')\n",
        "plt.plot(reg_roe_result_dataframe.iloc[-2, -1], label='CatBoost')\n",
        "plt.legend()\n",
        "plt.title('ROE');"
      ],
      "metadata": {
        "execution": {
          "iopub.status.busy": "2024-05-31T09:39:58.435833Z",
          "iopub.execute_input": "2024-05-31T09:39:58.436224Z",
          "iopub.status.idle": "2024-05-31T09:39:58.818123Z",
          "shell.execute_reply.started": "2024-05-31T09:39:58.436189Z",
          "shell.execute_reply": "2024-05-31T09:39:58.816832Z"
        },
        "trusted": true,
        "id": "Ix2F5wUMGns-",
        "outputId": "7ea2f786-1e2d-4255-b5b4-443efa89fcf9"
      },
      "execution_count": null,
      "outputs": [
        {
          "output_type": "display_data",
          "data": {
            "text/plain": "<Figure size 640x480 with 1 Axes>",
            "image/png": "[encoded data removed]"
          },
          "metadata": {}
        }
      ]
    },
    {
      "cell_type": "markdown",
      "source": [
        "### 4.1*. Regression for relative changes of ROE\n",
        "\n",
        "#### 4.1.1*. BASELINE - No sentiment, no text, just raw history data\n",
        "#### 4.1.2*. Add tokenizers\n",
        "#### 4.1.3*. Add sentiment"
      ],
      "metadata": {
        "id": "6DtR_h9mGns-"
      }
    },
    {
      "cell_type": "markdown",
      "source": [
        "### 4.2. Regression - ROA"
      ],
      "metadata": {
        "id": "Jq2mZLvkGns-"
      }
    },
    {
      "cell_type": "code",
      "source": [
        "date_feature = 'date'\n",
        "target_indicator = 'ROA'\n",
        "scaler = StandardScaler()\n",
        "\n",
        "df_roe_targets_reg = add_shifts_and_filter(df_indicators, target_indicator, multi_bank_series_feature='licence_num')\n",
        "df_roe_targets_reg = df_roe_targets_reg.merge(df.loc[:, df.columns != target_indicator], how='left', on=['licence_num', 'date'])\n",
        "df_roe_targets_reg['month'] = df_roe_targets_reg['date'].dt.month\n",
        "df_roe_targets_reg['year'] = df_roe_targets_reg['date'].dt.year\n",
        "df_roe_targets_reg[target_indicator] = scaler.fit_transform(df_roe_targets_reg[target_indicator].values.reshape(-1, 1))\n",
        "\n",
        "banks_to_pred = df_roe_targets_reg.groupby('licence_num')['date'].count().sort_values().tail(20).index.to_list()\n",
        "roe_data_test = df_roe_targets_reg[df_roe_targets_reg.licence_num.isin(banks_to_pred)].groupby('licence_num').tail(10)\n",
        "roe_data_train = df_roe_targets_reg[~df_roe_targets_reg.index.isin(roe_data_test.index)]\n",
        "\n",
        "cat_features = ['licence_num', 'msk_spb', 'default', 'month', 'year', 'day_of_week', 'n_reports']\n",
        "num_features = roe_data_train.columns[~roe_data_train.columns.isin([date_feature, target_indicator, *cat_features])].tolist()"
      ],
      "metadata": {
        "execution": {
          "iopub.status.busy": "2024-05-31T09:39:58.819811Z",
          "iopub.execute_input": "2024-05-31T09:39:58.820213Z",
          "iopub.status.idle": "2024-05-31T09:39:59.108936Z",
          "shell.execute_reply.started": "2024-05-31T09:39:58.820180Z",
          "shell.execute_reply": "2024-05-31T09:39:59.107643Z"
        },
        "trusted": true,
        "id": "cc7959i-Gns-"
      },
      "execution_count": null,
      "outputs": []
    },
    {
      "cell_type": "code",
      "source": [
        "# DataFrame for results\n",
        "reg_roa_result_dataframe = get_result_dataframe()\n",
        "\n",
        "scaler = StandardScaler()\n",
        "encoder = OneHotEncoder(drop='first', handle_unknown=\"ignore\")\n",
        "target_indicator = 'ROA'\n",
        "\n",
        "X_train = roe_data_train.loc[:, ~roe_data_train.columns.isin([target_indicator, 'date'])]\n",
        "y_train = roe_data_train[target_indicator]\n",
        "X_test = roe_data_test.loc[:, ~roe_data_test.columns.isin([target_indicator, 'date'])]\n",
        "y_test = roe_data_test[target_indicator]\n",
        "\n",
        "models_dict, models_dict_reg = get_ml_models_reg(task_type='CPU')\n",
        "\n",
        "for key in tqdm(models_dict.keys()):\n",
        "    if key == 'LinearSVR' or key == 'SGDRegressor':\n",
        "        continue\n",
        "    column_transformer = ColumnTransformer([\n",
        "        ('ohe', encoder, cat_features),\n",
        "        ('scaler', scaler, num_features)], remainder='passthrough', n_jobs=-1)\n",
        "\n",
        "    model = models_dict[key]\n",
        "    pipe = Pipeline([\n",
        "        ('transform', column_transformer),\n",
        "        ('model', model)])\n",
        "\n",
        "    pipe.fit(X_train, y_train)\n",
        "    y_pred = pipe.predict(X_test)\n",
        "\n",
        "    dd = pd.DataFrame({'y_pred': y_pred, 'y_test': y_test.reset_index(drop=True)})\n",
        "    dd['diff_y_pred'] = dd['y_pred'].diff()\n",
        "    dd['diff_y_test'] = dd['y_test'].diff()\n",
        "    dd['diff_y_pred_cat'] = np.where(dd['diff_y_pred'] > 0, 'up', 'down')\n",
        "    dd['diff_y_test_cat'] = np.where(dd['diff_y_test'] > 0, 'up', 'down')\n",
        "\n",
        "    res = round(mean_absolute_percentage_error(y_test, y_pred), 4)  # , accuracy_score(dd['diff_y_pred_cat'], dd['diff_y_test_cat'])\n",
        "    reg_roa_result_dataframe = pd.concat([reg_roa_result_dataframe,\n",
        "                                            pd.DataFrame({'sentiment': ['no sentiment'],\n",
        "                                                          'tokenizer': ['no tokenizer'],\n",
        "                                                          'model': [key],\n",
        "                                                          'stock_or_indicator': [target_indicator],\n",
        "                                                          'result': [res],\n",
        "                                                          'predictions': [y_pred]})], axis=0, ignore_index=True)"
      ],
      "metadata": {
        "execution": {
          "iopub.status.busy": "2024-05-31T09:39:59.110394Z",
          "iopub.execute_input": "2024-05-31T09:39:59.110805Z",
          "iopub.status.idle": "2024-05-31T09:40:36.218871Z",
          "shell.execute_reply.started": "2024-05-31T09:39:59.110772Z",
          "shell.execute_reply": "2024-05-31T09:40:36.217087Z"
        },
        "trusted": true,
        "id": "iA097nLAGns_",
        "outputId": "b21a40c3-9c6d-4d57-ce19-cd5d07d9d70f"
      },
      "execution_count": null,
      "outputs": [
        {
          "name": "stderr",
          "text": "100%|██████████| 5/5 [00:37<00:00,  7.41s/it]\n",
          "output_type": "stream"
        }
      ]
    },
    {
      "cell_type": "markdown",
      "source": [
        "#### 4.1.2. Add tokenizers"
      ],
      "metadata": {
        "id": "Kuwymt_nGns_"
      }
    },
    {
      "cell_type": "markdown",
      "source": [
        "#### 4.1.3. Add sentiment"
      ],
      "metadata": {
        "id": "mvAhQkT0Gns_"
      }
    },
    {
      "cell_type": "code",
      "source": [
        "df_news_filtered['month'] = df_news_filtered['date'].dt.month\n",
        "df_news_filtered['year'] = df_news_filtered['date'].dt.year\n",
        "\n",
        "dff1_sent_roe = dff1_sent.copy()\n",
        "dff1_sent_roe['month'] = dff1_sent_roe['date'].dt.month\n",
        "dff1_sent_roe['year'] = dff1_sent_roe['date'].dt.year\n",
        "dff1_sent_roe = dff1_sent_roe.groupby(['year', 'month'], as_index=False)\\\n",
        "     .agg({'preds_proba': 'min'})\\\n",
        "     .rename(columns={'preds_proba': 'preds_proba_min'})\\\n",
        "     .merge(dff1_sent_roe.groupby(['year', 'month'], as_index=False).agg({'preds_proba': 'max'}), how='left', on=['year', 'month'])\\\n",
        "     .rename(columns={'preds_proba': 'preds_proba_max'})\n",
        "dff1_sent_roe['sentiment'] = np.where(dff1_sent_roe['preds_proba_max'] >= dff1_sent_roe['preds_proba_min'].abs(),\n",
        "                                      'positive', 'negative')\n",
        "\n",
        "df_roe_targets_reg = df_roe_targets_reg.merge(dff1_sent_roe, how='left', on=['year', 'month'])\n",
        "banks_to_pred = df_roe_targets_reg.groupby('licence_num')['date'].count().sort_values().tail(20).index.to_list()\n",
        "roe_data_test = df_roe_targets_reg[df_roe_targets_reg.licence_num.isin(banks_to_pred)].groupby('licence_num').tail(10)\n",
        "roe_data_train = df_roe_targets_reg[~df_roe_targets_reg.index.isin(roe_data_test.index)]"
      ],
      "metadata": {
        "execution": {
          "iopub.status.busy": "2024-05-31T09:40:36.220764Z",
          "iopub.execute_input": "2024-05-31T09:40:36.221149Z",
          "iopub.status.idle": "2024-05-31T09:40:36.305688Z",
          "shell.execute_reply.started": "2024-05-31T09:40:36.221116Z",
          "shell.execute_reply": "2024-05-31T09:40:36.304169Z"
        },
        "trusted": true,
        "id": "iRMs3PaGGns_"
      },
      "execution_count": null,
      "outputs": []
    },
    {
      "cell_type": "code",
      "source": [
        "scaler = StandardScaler()\n",
        "encoder = OneHotEncoder(drop='first', handle_unknown=\"ignore\")\n",
        "\n",
        "X_train = roe_data_train.loc[:, ~roe_data_train.columns.isin([target_indicator, 'date'])]\n",
        "y_train = roe_data_train[target_indicator]\n",
        "X_test = roe_data_test.loc[:, ~roe_data_test.columns.isin([target_indicator, 'date'])]\n",
        "y_test = roe_data_test[target_indicator]\n",
        "\n",
        "models_dict, models_dict_reg = get_ml_models_reg(task_type='CPU', verb=False)\n",
        "tfidf_vectorizer = TfidfVectorizer(ngram_range=(1, 3))\n",
        "\n",
        "for key in tqdm(models_dict.keys()):\n",
        "    if key == 'LinearSVR' or key == 'SGDRegressor':\n",
        "        continue\n",
        "    column_transformer = ColumnTransformer([\n",
        "        ('ohe1', encoder, ['sentiment']),\n",
        "        ('ohe', encoder, cat_features),\n",
        "        ('scaler', scaler, ['preds_proba_min', 'preds_proba_max', *num_features])], remainder='passthrough', n_jobs=-1)\n",
        "\n",
        "    model = models_dict[key]\n",
        "    pipe = Pipeline([\n",
        "        ('transform', column_transformer),\n",
        "        ('model', model)])\n",
        "\n",
        "    pipe.fit(X_train, y_train)\n",
        "    y_pred = pipe.predict(X_test)\n",
        "\n",
        "    dd = pd.DataFrame({'y_pred': y_pred, 'y_test': y_test.reset_index(drop=True)})\n",
        "    dd['diff_y_pred'] = dd['y_pred'].diff()\n",
        "    dd['diff_y_test'] = dd['y_test'].diff()\n",
        "    dd['diff_y_pred_cat'] = np.where(dd['diff_y_pred'] > 0, 'up', 'down')\n",
        "    dd['diff_y_test_cat'] = np.where(dd['diff_y_test'] > 0, 'up', 'down')\n",
        "\n",
        "    res = round(mean_absolute_percentage_error(y_test, y_pred), 4)  # , accuracy_score(dd['diff_y_pred_cat'], dd['diff_y_test_cat'])\n",
        "    reg_roa_result_dataframe = pd.concat([reg_roa_result_dataframe,\n",
        "                                            pd.DataFrame({'sentiment': ['with sentiment'],\n",
        "                                                          'tokenizer': ['no tokenizer'],\n",
        "                                                          'model': [key],\n",
        "                                                          'stock_or_indicator': [target_indicator],\n",
        "                                                          'result': [res],\n",
        "                                                          'predictions': [y_pred]})], axis=0, ignore_index=True)"
      ],
      "metadata": {
        "execution": {
          "iopub.status.busy": "2024-05-31T09:40:36.307245Z",
          "iopub.execute_input": "2024-05-31T09:40:36.307644Z",
          "iopub.status.idle": "2024-05-31T09:41:14.725250Z",
          "shell.execute_reply.started": "2024-05-31T09:40:36.307608Z",
          "shell.execute_reply": "2024-05-31T09:41:14.723501Z"
        },
        "trusted": true,
        "id": "IptN84FOGns_",
        "outputId": "bbedc050-0d13-49df-c9f0-952e2f15eadf"
      },
      "execution_count": null,
      "outputs": [
        {
          "name": "stderr",
          "text": "100%|██████████| 5/5 [00:38<00:00,  7.68s/it]\n",
          "output_type": "stream"
        }
      ]
    },
    {
      "cell_type": "code",
      "source": [
        "reg_roa_result_dataframe"
      ],
      "metadata": {
        "execution": {
          "iopub.status.busy": "2024-05-31T09:41:14.730895Z",
          "iopub.execute_input": "2024-05-31T09:41:14.731379Z",
          "iopub.status.idle": "2024-05-31T09:41:14.762843Z",
          "shell.execute_reply.started": "2024-05-31T09:41:14.731344Z",
          "shell.execute_reply": "2024-05-31T09:41:14.761375Z"
        },
        "trusted": true,
        "id": "5FCaR1WqGns_",
        "outputId": "4131963b-f8a8-452b-f410-3b14f2042119"
      },
      "execution_count": null,
      "outputs": [
        {
          "execution_count": 300,
          "output_type": "execute_result",
          "data": {
            "text/plain": "        sentiment     tokenizer              model stock_or_indicator  result  \\\n0    no sentiment  no tokenizer              Ridge                ROA  1.4226   \n1    no sentiment  no tokenizer  CatBoostRegressor                ROA  1.1359   \n2    no sentiment  no tokenizer      LGBMRegressor                ROA  1.0447   \n3  with sentiment  no tokenizer              Ridge                ROA  1.4244   \n4  with sentiment  no tokenizer  CatBoostRegressor                ROA  1.0065   \n5  with sentiment  no tokenizer      LGBMRegressor                ROA  1.0022   \n\n                                         predictions  \n0  [0.014761613805846313, 0.3866555765663409, -0....  \n1  [0.013169578044346824, -1.261265187881425, -0....  \n2  [-0.1660287994752517, -1.209963627961423, -0.2...  \n3  [0.011922995476344539, 0.3867760572737081, -0....  \n4  [0.012062420077115344, -1.1732085240888344, -0...  \n5  [-0.17124284621337246, -1.2615058571016475, -0...  ",
            "text/html": "<div>\n<style scoped>\n    .dataframe tbody tr th:only-of-type {\n        vertical-align: middle;\n    }\n\n    .dataframe tbody tr th {\n        vertical-align: top;\n    }\n\n    .dataframe thead th {\n        text-align: right;\n    }\n</style>\n<table border=\"1\" class=\"dataframe\">\n  <thead>\n    <tr style=\"text-align: right;\">\n      <th></th>\n      <th>sentiment</th>\n      <th>tokenizer</th>\n      <th>model</th>\n      <th>stock_or_indicator</th>\n      <th>result</th>\n      <th>predictions</th>\n    </tr>\n  </thead>\n  <tbody>\n    <tr>\n      <th>0</th>\n      <td>no sentiment</td>\n      <td>no tokenizer</td>\n      <td>Ridge</td>\n      <td>ROA</td>\n      <td>1.4226</td>\n      <td>[0.014761613805846313, 0.3866555765663409, -0....</td>\n    </tr>\n    <tr>\n      <th>1</th>\n      <td>no sentiment</td>\n      <td>no tokenizer</td>\n      <td>CatBoostRegressor</td>\n      <td>ROA</td>\n      <td>1.1359</td>\n      <td>[0.013169578044346824, -1.261265187881425, -0....</td>\n    </tr>\n    <tr>\n      <th>2</th>\n      <td>no sentiment</td>\n      <td>no tokenizer</td>\n      <td>LGBMRegressor</td>\n      <td>ROA</td>\n      <td>1.0447</td>\n      <td>[-0.1660287994752517, -1.209963627961423, -0.2...</td>\n    </tr>\n    <tr>\n      <th>3</th>\n      <td>with sentiment</td>\n      <td>no tokenizer</td>\n      <td>Ridge</td>\n      <td>ROA</td>\n      <td>1.4244</td>\n      <td>[0.011922995476344539, 0.3867760572737081, -0....</td>\n    </tr>\n    <tr>\n      <th>4</th>\n      <td>with sentiment</td>\n      <td>no tokenizer</td>\n      <td>CatBoostRegressor</td>\n      <td>ROA</td>\n      <td>1.0065</td>\n      <td>[0.012062420077115344, -1.1732085240888344, -0...</td>\n    </tr>\n    <tr>\n      <th>5</th>\n      <td>with sentiment</td>\n      <td>no tokenizer</td>\n      <td>LGBMRegressor</td>\n      <td>ROA</td>\n      <td>1.0022</td>\n      <td>[-0.17124284621337246, -1.2615058571016475, -0...</td>\n    </tr>\n  </tbody>\n</table>\n</div>"
          },
          "metadata": {}
        }
      ]
    },
    {
      "cell_type": "code",
      "source": [
        "plt.plot(y_test.reset_index(drop=True), label='Real data')\n",
        "plt.plot(reg_roa_result_dataframe.iloc[-1, -1], label='LGBM')\n",
        "plt.plot(reg_roa_result_dataframe.iloc[-3, -1], label='Ridge')\n",
        "plt.plot(reg_roa_result_dataframe.iloc[-2, -1], label='CatBoost', color='orangered')\n",
        "plt.legend()\n",
        "plt.title('ROA');"
      ],
      "metadata": {
        "execution": {
          "iopub.status.busy": "2024-05-31T09:41:14.764650Z",
          "iopub.execute_input": "2024-05-31T09:41:14.765174Z",
          "iopub.status.idle": "2024-05-31T09:41:15.198865Z",
          "shell.execute_reply.started": "2024-05-31T09:41:14.765124Z",
          "shell.execute_reply": "2024-05-31T09:41:15.197300Z"
        },
        "trusted": true,
        "id": "jdora5brGns_",
        "outputId": "5130d6df-fb06-43ee-96f7-373856c85857"
      },
      "execution_count": null,
      "outputs": [
        {
          "output_type": "display_data",
          "data": {
            "text/plain": "<Figure size 640x480 with 1 Axes>",
            "image/png": "[encoded data removed]"
          },
          "metadata": {}
        }
      ]
    },
    {
      "cell_type": "markdown",
      "source": [
        "### 4.2. Regression - Net Assets"
      ],
      "metadata": {
        "id": "jTELGVPtGns_"
      }
    },
    {
      "cell_type": "code",
      "source": [
        "date_feature = 'date'\n",
        "target_indicator = 'net_assets'\n",
        "scaler = StandardScaler()\n",
        "\n",
        "df_roe_targets_reg = add_shifts_and_filter(df_indicators, target_indicator, multi_bank_series_feature='licence_num')\n",
        "df_roe_targets_reg = df_roe_targets_reg.merge(df.loc[:, df.columns != target_indicator], how='left', on=['licence_num', 'date'])\n",
        "df_roe_targets_reg['month'] = df_roe_targets_reg['date'].dt.month\n",
        "df_roe_targets_reg['year'] = df_roe_targets_reg['date'].dt.year\n",
        "# df_roe_targets_reg[target_indicator] = scaler.fit_transform(df_roe_targets_reg[target_indicator].values.reshape(-1, 1))\n",
        "\n",
        "banks_to_pred = df_roe_targets_reg.groupby('licence_num')['date'].count().sort_values().tail(20).index.to_list()[1]\n",
        "roe_data_test = df_roe_targets_reg[df_roe_targets_reg.licence_num.isin([banks_to_pred])].tail(50)\n",
        "roe_data_train = df_roe_targets_reg[~df_roe_targets_reg.index.isin(roe_data_test.index)]\n",
        "\n",
        "cat_features = ['licence_num', 'msk_spb', 'default', 'month', 'year', 'day_of_week', 'n_reports']\n",
        "num_features = roe_data_train.columns[~roe_data_train.columns.isin([date_feature, target_indicator, *cat_features])].tolist()"
      ],
      "metadata": {
        "execution": {
          "iopub.status.busy": "2024-05-31T09:41:15.203220Z",
          "iopub.execute_input": "2024-05-31T09:41:15.203671Z",
          "iopub.status.idle": "2024-05-31T09:41:15.493049Z",
          "shell.execute_reply.started": "2024-05-31T09:41:15.203634Z",
          "shell.execute_reply": "2024-05-31T09:41:15.491572Z"
        },
        "trusted": true,
        "id": "WWBls57UGns_"
      },
      "execution_count": null,
      "outputs": []
    },
    {
      "cell_type": "code",
      "source": [
        "# DataFrame for results\n",
        "reg_na_result_dataframe = get_result_dataframe()\n",
        "\n",
        "scaler = StandardScaler()\n",
        "encoder = OneHotEncoder(drop='first', handle_unknown=\"ignore\")\n",
        "\n",
        "X_train = roe_data_train.loc[:, ~roe_data_train.columns.isin([target_indicator, 'date'])]\n",
        "y_train = roe_data_train[target_indicator]\n",
        "X_test = roe_data_test.loc[:, ~roe_data_test.columns.isin([target_indicator, 'date'])]\n",
        "y_test = roe_data_test[target_indicator]\n",
        "\n",
        "models_dict, models_dict_reg = get_ml_models_reg(task_type='CPU')\n",
        "\n",
        "for key in tqdm(models_dict.keys()):\n",
        "    if key == 'LinearSVR' or key == 'SGDRegressor':\n",
        "        continue\n",
        "    column_transformer = ColumnTransformer([\n",
        "        ('ohe', encoder, cat_features),\n",
        "        ('scaler', scaler, num_features)], remainder='passthrough', n_jobs=-1)\n",
        "\n",
        "    model = models_dict[key]\n",
        "    pipe = Pipeline([\n",
        "        ('transform', column_transformer),\n",
        "        ('model', model)])\n",
        "\n",
        "    pipe.fit(X_train, y_train)\n",
        "    y_pred = pipe.predict(X_test)\n",
        "\n",
        "    dd = pd.DataFrame({'y_pred': y_pred, 'y_test': y_test.reset_index(drop=True)})\n",
        "    dd['diff_y_pred'] = dd['y_pred'].diff()\n",
        "    dd['diff_y_test'] = dd['y_test'].diff()\n",
        "    dd['diff_y_pred_cat'] = np.where(dd['diff_y_pred'] > 0, 'up', 'down')\n",
        "    dd['diff_y_test_cat'] = np.where(dd['diff_y_test'] > 0, 'up', 'down')\n",
        "\n",
        "    res = round(mean_absolute_percentage_error(y_test, y_pred), 4)  # , accuracy_score(dd['diff_y_pred_cat'], dd['diff_y_test_cat'])\n",
        "    reg_na_result_dataframe = pd.concat([reg_na_result_dataframe,\n",
        "                                            pd.DataFrame({'sentiment': ['no sentiment'],\n",
        "                                                          'tokenizer': ['no tokenizer'],\n",
        "                                                          'model': [key],\n",
        "                                                          'stock_or_indicator': [target_indicator],\n",
        "                                                          'result': [res],\n",
        "                                                          'predictions': [y_pred]})], axis=0, ignore_index=True)"
      ],
      "metadata": {
        "execution": {
          "iopub.status.busy": "2024-05-31T09:41:15.494936Z",
          "iopub.execute_input": "2024-05-31T09:41:15.495470Z",
          "iopub.status.idle": "2024-05-31T09:41:47.082105Z",
          "shell.execute_reply.started": "2024-05-31T09:41:15.495432Z",
          "shell.execute_reply": "2024-05-31T09:41:47.080700Z"
        },
        "trusted": true,
        "id": "djryNodzGns_",
        "outputId": "6c025ff8-a2a9-4746-e2fc-7bf66f651049"
      },
      "execution_count": null,
      "outputs": [
        {
          "name": "stderr",
          "text": "100%|██████████| 5/5 [00:31<00:00,  6.31s/it]\n",
          "output_type": "stream"
        }
      ]
    },
    {
      "cell_type": "markdown",
      "source": [
        "#### 4.1.2. Add tokenizers"
      ],
      "metadata": {
        "id": "QtEtZ6_BGns_"
      }
    },
    {
      "cell_type": "markdown",
      "source": [
        "#### 4.1.3. Add sentiment"
      ],
      "metadata": {
        "id": "bSYi1PYBGns_"
      }
    },
    {
      "cell_type": "code",
      "source": [
        "df_news_filtered['month'] = df_news_filtered['date'].dt.month\n",
        "df_news_filtered['year'] = df_news_filtered['date'].dt.year\n",
        "\n",
        "dff1_sent_roe = dff1_sent.copy()\n",
        "dff1_sent_roe['month'] = dff1_sent_roe['date'].dt.month\n",
        "dff1_sent_roe['year'] = dff1_sent_roe['date'].dt.year\n",
        "dff1_sent_roe = dff1_sent_roe.groupby(['year', 'month'], as_index=False)\\\n",
        "     .agg({'preds_proba': 'min'})\\\n",
        "     .rename(columns={'preds_proba': 'preds_proba_min'})\\\n",
        "     .merge(dff1_sent_roe.groupby(['year', 'month'], as_index=False).agg({'preds_proba': 'max'}), how='left', on=['year', 'month'])\\\n",
        "     .rename(columns={'preds_proba': 'preds_proba_max'})\n",
        "# dff1_sent_roe = dff1_sent_roe.groupby(['year', 'month'], as_index=False).agg({'preds_proba': 'mean'})\n",
        "dff1_sent_roe['sentiment'] = np.where(dff1_sent_roe['preds_proba_max'] >= dff1_sent_roe['preds_proba_min'].abs(),\n",
        "                                      'positive', 'negative')\n",
        "# dff1_sent_roe = dff1_sent_roe.drop(columns=['preds_proba'])\n",
        "\n",
        "\n",
        "df_roe_targets_reg = df_roe_targets_reg.merge(dff1_sent_roe, how='left', on=['year', 'month'])\n",
        "banks_to_pred = df_roe_targets_reg.groupby('licence_num')['date'].count().sort_values().tail(20).index.to_list()[1]\n",
        "roe_data_test = df_roe_targets_reg[df_roe_targets_reg.licence_num.isin([banks_to_pred])].tail(47)\n",
        "roe_data_train = df_roe_targets_reg[~df_roe_targets_reg.index.isin(roe_data_test.index)]\n"
      ],
      "metadata": {
        "execution": {
          "iopub.status.busy": "2024-05-31T09:41:47.083931Z",
          "iopub.execute_input": "2024-05-31T09:41:47.084492Z",
          "iopub.status.idle": "2024-05-31T09:41:47.163559Z",
          "shell.execute_reply.started": "2024-05-31T09:41:47.084447Z",
          "shell.execute_reply": "2024-05-31T09:41:47.162309Z"
        },
        "trusted": true,
        "id": "5hbaloY2Gns_"
      },
      "execution_count": null,
      "outputs": []
    },
    {
      "cell_type": "code",
      "source": [
        "scaler = StandardScaler()\n",
        "encoder = OneHotEncoder(drop='first', handle_unknown=\"ignore\")\n",
        "\n",
        "X_train = roe_data_train.loc[:, ~roe_data_train.columns.isin([target_indicator, 'date'])]\n",
        "y_train = roe_data_train[target_indicator]\n",
        "X_test = roe_data_test.loc[:, ~roe_data_test.columns.isin([target_indicator, 'date'])]\n",
        "y_test = roe_data_test[target_indicator]\n",
        "\n",
        "models_dict, models_dict_reg = get_ml_models_reg(task_type='CPU', verb=False)\n",
        "tfidf_vectorizer = TfidfVectorizer(ngram_range=(1, 3))\n",
        "\n",
        "for key in tqdm(models_dict.keys()):\n",
        "    if key == 'LinearSVR' or key == 'SGDRegressor':\n",
        "        continue\n",
        "    column_transformer = ColumnTransformer([\n",
        "        ('ohe1', encoder, ['sentiment']),\n",
        "        ('ohe', encoder, cat_features),\n",
        "        ('scaler', scaler, ['preds_proba_min', 'preds_proba_max', *num_features])], remainder='passthrough', n_jobs=-1)\n",
        "\n",
        "    model = models_dict[key]\n",
        "    pipe = Pipeline([\n",
        "        ('transform', column_transformer),\n",
        "        ('model', model)])\n",
        "\n",
        "    pipe.fit(X_train, y_train)\n",
        "    y_pred = pipe.predict(X_test)\n",
        "\n",
        "    dd = pd.DataFrame({'y_pred': y_pred, 'y_test': y_test.reset_index(drop=True)})\n",
        "    dd['diff_y_pred'] = dd['y_pred'].diff()\n",
        "    dd['diff_y_test'] = dd['y_test'].diff()\n",
        "    dd['diff_y_pred_cat'] = np.where(dd['diff_y_pred'] > 0, 'up', 'down')\n",
        "    dd['diff_y_test_cat'] = np.where(dd['diff_y_test'] > 0, 'up', 'down')\n",
        "\n",
        "    res = round(mean_absolute_percentage_error(y_test, y_pred), 4)  # , accuracy_score(dd['diff_y_pred_cat'], dd['diff_y_test_cat'])\n",
        "    reg_na_result_dataframe = pd.concat([reg_na_result_dataframe,\n",
        "                                            pd.DataFrame({'sentiment': ['with sentiment'],\n",
        "                                                          'tokenizer': ['no tokenizer'],\n",
        "                                                          'model': [key],\n",
        "                                                          'stock_or_indicator': [target_indicator],\n",
        "                                                          'result': [res],\n",
        "                                                          'predictions': [y_pred]})], axis=0, ignore_index=True)"
      ],
      "metadata": {
        "execution": {
          "iopub.status.busy": "2024-05-31T09:41:47.165210Z",
          "iopub.execute_input": "2024-05-31T09:41:47.165698Z",
          "iopub.status.idle": "2024-05-31T09:42:19.675617Z",
          "shell.execute_reply.started": "2024-05-31T09:41:47.165650Z",
          "shell.execute_reply": "2024-05-31T09:42:19.674233Z"
        },
        "trusted": true,
        "id": "U4TAO6RKGntA",
        "outputId": "52faf6c3-88b1-4141-80c0-09af4cb409e7"
      },
      "execution_count": null,
      "outputs": [
        {
          "name": "stderr",
          "text": "100%|██████████| 5/5 [00:32<00:00,  6.49s/it]\n",
          "output_type": "stream"
        }
      ]
    },
    {
      "cell_type": "code",
      "source": [
        "reg_na_result_dataframe"
      ],
      "metadata": {
        "execution": {
          "iopub.status.busy": "2024-05-31T09:42:19.677174Z",
          "iopub.execute_input": "2024-05-31T09:42:19.677529Z",
          "iopub.status.idle": "2024-05-31T09:42:19.703262Z",
          "shell.execute_reply.started": "2024-05-31T09:42:19.677499Z",
          "shell.execute_reply": "2024-05-31T09:42:19.701701Z"
        },
        "trusted": true,
        "id": "Jeb8Crc2GntA",
        "outputId": "746e4a70-7a43-4831-b239-681a9ae8cc01"
      },
      "execution_count": null,
      "outputs": [
        {
          "execution_count": 306,
          "output_type": "execute_result",
          "data": {
            "text/plain": "        sentiment     tokenizer              model stock_or_indicator  result  \\\n0    no sentiment  no tokenizer              Ridge         net_assets  0.8299   \n1    no sentiment  no tokenizer  CatBoostRegressor         net_assets  0.3096   \n2    no sentiment  no tokenizer      LGBMRegressor         net_assets  0.3067   \n3  with sentiment  no tokenizer              Ridge         net_assets  0.7776   \n4  with sentiment  no tokenizer  CatBoostRegressor         net_assets  0.3809   \n5  with sentiment  no tokenizer      LGBMRegressor         net_assets  0.2817   \n\n                                         predictions  \n0  [5554050.155598342, 6099918.300352782, 4281344...  \n1  [3987593.8355591595, 2829092.8155112267, 35611...  \n2  [3842657.8948820364, 3791879.8233870855, 40822...  \n3  [2708706.165269062, 4163839.3279128373, 591769...  \n4  [3957923.3958934993, 4290979.05786334, 4124861...  \n5  [3015393.244142773, 3491497.23655941, 3431708....  ",
            "text/html": "<div>\n<style scoped>\n    .dataframe tbody tr th:only-of-type {\n        vertical-align: middle;\n    }\n\n    .dataframe tbody tr th {\n        vertical-align: top;\n    }\n\n    .dataframe thead th {\n        text-align: right;\n    }\n</style>\n<table border=\"1\" class=\"dataframe\">\n  <thead>\n    <tr style=\"text-align: right;\">\n      <th></th>\n      <th>sentiment</th>\n      <th>tokenizer</th>\n      <th>model</th>\n      <th>stock_or_indicator</th>\n      <th>result</th>\n      <th>predictions</th>\n    </tr>\n  </thead>\n  <tbody>\n    <tr>\n      <th>0</th>\n      <td>no sentiment</td>\n      <td>no tokenizer</td>\n      <td>Ridge</td>\n      <td>net_assets</td>\n      <td>0.8299</td>\n      <td>[5554050.155598342, 6099918.300352782, 4281344...</td>\n    </tr>\n    <tr>\n      <th>1</th>\n      <td>no sentiment</td>\n      <td>no tokenizer</td>\n      <td>CatBoostRegressor</td>\n      <td>net_assets</td>\n      <td>0.3096</td>\n      <td>[3987593.8355591595, 2829092.8155112267, 35611...</td>\n    </tr>\n    <tr>\n      <th>2</th>\n      <td>no sentiment</td>\n      <td>no tokenizer</td>\n      <td>LGBMRegressor</td>\n      <td>net_assets</td>\n      <td>0.3067</td>\n      <td>[3842657.8948820364, 3791879.8233870855, 40822...</td>\n    </tr>\n    <tr>\n      <th>3</th>\n      <td>with sentiment</td>\n      <td>no tokenizer</td>\n      <td>Ridge</td>\n      <td>net_assets</td>\n      <td>0.7776</td>\n      <td>[2708706.165269062, 4163839.3279128373, 591769...</td>\n    </tr>\n    <tr>\n      <th>4</th>\n      <td>with sentiment</td>\n      <td>no tokenizer</td>\n      <td>CatBoostRegressor</td>\n      <td>net_assets</td>\n      <td>0.3809</td>\n      <td>[3957923.3958934993, 4290979.05786334, 4124861...</td>\n    </tr>\n    <tr>\n      <th>5</th>\n      <td>with sentiment</td>\n      <td>no tokenizer</td>\n      <td>LGBMRegressor</td>\n      <td>net_assets</td>\n      <td>0.2817</td>\n      <td>[3015393.244142773, 3491497.23655941, 3431708....</td>\n    </tr>\n  </tbody>\n</table>\n</div>"
          },
          "metadata": {}
        }
      ]
    },
    {
      "cell_type": "code",
      "source": [
        "plt.plot(y_test.reset_index(drop=True), label='Real data')\n",
        "plt.plot(reg_na_result_dataframe.iloc[-1, -1], label='LGBM')\n",
        "plt.plot(reg_na_result_dataframe.iloc[-3, -1], label='Ridge', alpha=0.5)\n",
        "plt.plot(reg_na_result_dataframe.iloc[-2, -1], label='CatBoost', color='red', alpha=0.3)\n",
        "plt.legend()\n",
        "plt.title('Net Assets');"
      ],
      "metadata": {
        "execution": {
          "iopub.status.busy": "2024-05-31T09:42:19.705224Z",
          "iopub.execute_input": "2024-05-31T09:42:19.705774Z",
          "iopub.status.idle": "2024-05-31T09:42:20.148829Z",
          "shell.execute_reply.started": "2024-05-31T09:42:19.705724Z",
          "shell.execute_reply": "2024-05-31T09:42:20.147397Z"
        },
        "trusted": true,
        "id": "EQviakKJGntA",
        "outputId": "f4fd36b7-fbfa-4c76-ef37-a1ed16457cfc"
      },
      "execution_count": null,
      "outputs": [
        {
          "output_type": "display_data",
          "data": {
            "text/plain": "<Figure size 640x480 with 1 Axes>",
            "image/png": "[encoded data removed]"
          },
          "metadata": {}
        }
      ]
    },
    {
      "cell_type": "markdown",
      "source": [
        "### 4.2*. Regression for relative changes of Net Assets\n",
        "#### 4.2.1*. BASELINE - No sentiment, no text, just raw history data\n",
        "#### 4.2.2*. Add tokenizers\n",
        "#### 4.2.3*. Add sentiment"
      ],
      "metadata": {
        "id": "AlYqOw13GntA"
      }
    },
    {
      "cell_type": "code",
      "source": [
        "reg_indicator_result_dataframe = pd.concat([reg_roe_result_dataframe, reg_roa_result_dataframe], axis=0, ignore_index=True)\n",
        "reg_indicator_result_dataframe = pd.concat([reg_indicator_result_dataframe, reg_na_result_dataframe], axis=0, ignore_index=True)\n",
        "reg_indicator_result_dataframe\n",
        "\n",
        "pd.pivot_table(reg_indicator_result_dataframe, values='result', index=['model', 'stock_or_indicator'], columns='sentiment', aggfunc='first', sort=False)"
      ],
      "metadata": {
        "execution": {
          "iopub.status.busy": "2024-05-31T09:43:04.621891Z",
          "iopub.execute_input": "2024-05-31T09:43:04.622350Z",
          "iopub.status.idle": "2024-05-31T09:43:04.658879Z",
          "shell.execute_reply.started": "2024-05-31T09:43:04.622317Z",
          "shell.execute_reply": "2024-05-31T09:43:04.657562Z"
        },
        "trusted": true,
        "id": "Dp4Nml3-GntA",
        "outputId": "878146c7-6ad5-4665-ed5a-1fa7e66df942"
      },
      "execution_count": null,
      "outputs": [
        {
          "execution_count": 310,
          "output_type": "execute_result",
          "data": {
            "text/plain": "sentiment                             no sentiment  with sentiment\nmodel             stock_or_indicator                              \nRidge             ROE                      15.8534         12.8899\n                  ROA                       1.4226          1.4244\n                  net_assets                0.8299          0.7776\nCatBoostRegressor ROE                       6.2485          5.4470\n                  ROA                       1.1359          1.0065\n                  net_assets                0.3096          0.3809\nLGBMRegressor     ROE                      11.6617         10.3924\n                  ROA                       1.0447          1.0022\n                  net_assets                0.3067          0.2817",
            "text/html": "<div>\n<style scoped>\n    .dataframe tbody tr th:only-of-type {\n        vertical-align: middle;\n    }\n\n    .dataframe tbody tr th {\n        vertical-align: top;\n    }\n\n    .dataframe thead th {\n        text-align: right;\n    }\n</style>\n<table border=\"1\" class=\"dataframe\">\n  <thead>\n    <tr style=\"text-align: right;\">\n      <th></th>\n      <th>sentiment</th>\n      <th>no sentiment</th>\n      <th>with sentiment</th>\n    </tr>\n    <tr>\n      <th>model</th>\n      <th>stock_or_indicator</th>\n      <th></th>\n      <th></th>\n    </tr>\n  </thead>\n  <tbody>\n    <tr>\n      <th rowspan=\"3\" valign=\"top\">Ridge</th>\n      <th>ROE</th>\n      <td>15.8534</td>\n      <td>12.8899</td>\n    </tr>\n    <tr>\n      <th>ROA</th>\n      <td>1.4226</td>\n      <td>1.4244</td>\n    </tr>\n    <tr>\n      <th>net_assets</th>\n      <td>0.8299</td>\n      <td>0.7776</td>\n    </tr>\n    <tr>\n      <th rowspan=\"3\" valign=\"top\">CatBoostRegressor</th>\n      <th>ROE</th>\n      <td>6.2485</td>\n      <td>5.4470</td>\n    </tr>\n    <tr>\n      <th>ROA</th>\n      <td>1.1359</td>\n      <td>1.0065</td>\n    </tr>\n    <tr>\n      <th>net_assets</th>\n      <td>0.3096</td>\n      <td>0.3809</td>\n    </tr>\n    <tr>\n      <th rowspan=\"3\" valign=\"top\">LGBMRegressor</th>\n      <th>ROE</th>\n      <td>11.6617</td>\n      <td>10.3924</td>\n    </tr>\n    <tr>\n      <th>ROA</th>\n      <td>1.0447</td>\n      <td>1.0022</td>\n    </tr>\n    <tr>\n      <th>net_assets</th>\n      <td>0.3067</td>\n      <td>0.2817</td>\n    </tr>\n  </tbody>\n</table>\n</div>"
          },
          "metadata": {}
        }
      ]
    }
  ]
}